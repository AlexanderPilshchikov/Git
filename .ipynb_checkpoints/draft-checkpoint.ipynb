{
 "cells": [
  {
   "cell_type": "code",
   "execution_count": 24,
   "metadata": {},
   "outputs": [
    {
     "name": "stdout",
     "output_type": "stream",
     "text": [
      "50 2\n",
      "25 3\n",
      "12 4\n",
      "18 5\n",
      "21 6\n",
      "23 7\n",
      "24 8\n"
     ]
    }
   ],
   "source": [
    "import numpy as np\n",
    "\n",
    "predict = 50\n",
    "end_list = 100\n",
    "start_list = 1\n",
    "number = np.random.randint(1,101)\n",
    "n = 1\n",
    "\n",
    "\n",
    "while predict != number:\n",
    "    n += 1\n",
    "    if n == 10:\n",
    "        break\n",
    "    predict = (end_list+start_list)//2\n",
    "    if predict < number:\n",
    "        start_list = predict + 1\n",
    "        print(predict, n)\n",
    "    elif predict > number:\n",
    "        end_list = predict - 1\n",
    "        print(predict, n)\n",
    "print(predict, n)"
   ]
  }
 ],
 "metadata": {
  "kernelspec": {
   "display_name": "Python 3",
   "language": "python",
   "name": "python3"
  },
  "language_info": {
   "codemirror_mode": {
    "name": "ipython",
    "version": 3
   },
   "file_extension": ".py",
   "mimetype": "text/x-python",
   "name": "python",
   "nbconvert_exporter": "python",
   "pygments_lexer": "ipython3",
   "version": "3.8.3"
  }
 },
 "nbformat": 4,
 "nbformat_minor": 4
}
