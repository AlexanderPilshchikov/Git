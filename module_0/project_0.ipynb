{
 "cells": [
  {
   "cell_type": "code",
   "execution_count": 6,
   "metadata": {},
   "outputs": [
    {
     "name": "stdout",
     "output_type": "stream",
     "text": [
      "Введите начало диапазона угадывания: 3\n",
      "Введите конец диапазона угадывания: 455\n",
      "Введите число от 3 до 455: 56\n",
      "\n",
      "Попытка №: 1  Предполагаемое число: 229\n",
      "Попытка №: 2  Предполагаемое число: 115\n",
      "Попытка №: 3  Предполагаемое число: 58\n",
      "Попытка №: 4  Предполагаемое число: 30\n",
      "Попытка №: 5  Предполагаемое число: 44\n",
      "Попытка №: 6  Предполагаемое число: 51\n",
      "Попытка №: 7  Предполагаемое число: 54\n",
      "Попытка №: 8  Предполагаемое число: 56\n",
      "\n",
      "Число 56, отгадано за 8 попытки(ок)\n"
     ]
    }
   ],
   "source": [
    "def game_core(number):                                 #задание функции\n",
    "    start_list = int(input('Введите начало диапазона угадывания: '))\n",
    "    end_list = int(input('Введите конец диапазона угадывания: '))\n",
    "    number = int(input('Введите число от {} до {}: '.format(start_list, end_list)))\n",
    "    print()                                            #пропуск строки\n",
    "    count = 0                                          #задание счётчика\n",
    "    predict = round((end_list+start_list) // 2)        #задание предполагаемого числа\n",
    "    while predict != number:\n",
    "        count += 1                                     #обновление счётчика\n",
    "        predict = round((end_list+start_list) // 2)    #обновление предполагаемого числа\n",
    "        if predict < number:\n",
    "            start_list = predict + 1\n",
    "        elif predict > number:\n",
    "            end_list = predict - 1\n",
    "        print ('Попытка №: {}  Предполагаемое число: {}'. format(count, predict))\n",
    "    print()                                            #пропуск строки\n",
    "    return(print('Число {}, отгадано за {} попытки(ок)'.format(predict, count)))\n",
    "\n",
    "\n",
    "game_core(game_core)                                    #вызов функции"
   ]
  }
 ],
 "metadata": {
  "kernelspec": {
   "display_name": "Python 3",
   "language": "python",
   "name": "python3"
  },
  "language_info": {
   "codemirror_mode": {
    "name": "ipython",
    "version": 3
   },
   "file_extension": ".py",
   "mimetype": "text/x-python",
   "name": "python",
   "nbconvert_exporter": "python",
   "pygments_lexer": "ipython3",
   "version": "3.8.3"
  }
 },
 "nbformat": 4,
 "nbformat_minor": 4
}
