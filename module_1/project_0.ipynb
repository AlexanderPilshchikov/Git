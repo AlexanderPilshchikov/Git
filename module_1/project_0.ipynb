{
 "cells": [
  {
   "cell_type": "code",
   "execution_count": 66,
   "metadata": {},
   "outputs": [
    {
     "name": "stdout",
     "output_type": "stream",
     "text": [
      "Введите число от 1 до 100: 56\n",
      "1 50\n",
      "2 75\n",
      "3 62\n",
      "4 56\n",
      "Вы загадали число: 56\n"
     ]
    }
   ],
   "source": [
    "def game_core_v3(number):\n",
    "    end_list = 100\n",
    "    start_list = 1\n",
    "    count = 0\n",
    "    predict = 0\n",
    "    while predict != number:\n",
    "        count += 1\n",
    "        predict = round((end_list+start_list)//2)\n",
    "        if predict < number:\n",
    "            start_list = predict + 1\n",
    "        elif predict > number:\n",
    "            end_list = predict - 1\n",
    "        print (count, predict)\n",
    "    return(print('Вы загадали число:',predict))\n",
    "\n",
    "\n",
    "game_core_v3(int(input('Введите число от 1 до 100: ')))"
   ]
  }
 ],
 "metadata": {
  "kernelspec": {
   "display_name": "Python 3",
   "language": "python",
   "name": "python3"
  },
  "language_info": {
   "codemirror_mode": {
    "name": "ipython",
    "version": 3
   },
   "file_extension": ".py",
   "mimetype": "text/x-python",
   "name": "python",
   "nbconvert_exporter": "python",
   "pygments_lexer": "ipython3",
   "version": "3.8.3"
  }
 },
 "nbformat": 4,
 "nbformat_minor": 4
}
