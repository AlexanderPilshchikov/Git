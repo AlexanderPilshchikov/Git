{
 "cells": [
  {
   "cell_type": "code",
   "execution_count": 85,
   "metadata": {
    "scrolled": true
   },
   "outputs": [
    {
     "name": "stdout",
     "output_type": "stream",
     "text": [
      "Загаданое число: 91\n",
      "50 1\n",
      "75 2\n",
      "88 3\n",
      "94 4\n",
      "91 5\n"
     ]
    }
   ],
   "source": [
    "import numpy as np\n",
    "\n",
    "predict = 50\n",
    "end_list = 100\n",
    "start_list = 1\n",
    "number = np.random.randint(1,101)\n",
    "count = 0\n",
    "print('Загаданое число:', number)\n",
    "\n",
    "\n",
    "while predict != number:\n",
    "    count += 1\n",
    "    predict = round((end_list+start_list)//2)\n",
    "    if predict < number:\n",
    "        start_list = predict + 1\n",
    "        print(predict, count)\n",
    "    elif predict > number:\n",
    "        end_list = predict - 1\n",
    "        print(predict, count)\n",
    "print(predict, count)"
   ]
  },
  {
   "cell_type": "code",
   "execution_count": 112,
   "metadata": {},
   "outputs": [
    {
     "name": "stdout",
     "output_type": "stream",
     "text": [
      "Ваш алгоритм угадывает число в среднем за 5 попыток\n",
      "Максимальное количество попыток: 7\n",
      "Минимальное количество попыток: 1\n"
     ]
    },
    {
     "data": {
      "text/plain": [
       "5"
      ]
     },
     "execution_count": 112,
     "metadata": {},
     "output_type": "execute_result"
    }
   ],
   "source": [
    "def game_core_v3(number):\n",
    "    end_list = 100\n",
    "    start_list = 1\n",
    "    count = 0\n",
    "    predict = 0\n",
    "    while predict != number:\n",
    "        count += 1\n",
    "        predict = round((end_list+start_list)//2)\n",
    "        if predict < number:\n",
    "            start_list = predict + 1\n",
    "        elif predict > number:\n",
    "            end_list = predict - 1\n",
    "    return(count)\n",
    "\n",
    "\n",
    "import numpy as np\n",
    "    \n",
    "def score_game(game_core):\n",
    "    '''Запускаем игру 1000 раз, чтобы узнать, как быстро игра угадывает число'''\n",
    "    count_ls = []\n",
    "#     np.random.seed(1)  # фиксируем RANDOM SEED, чтобы ваш эксперимент был воспроизводим!\n",
    "    random_array = np.random.randint(1,101, size=(100))\n",
    "    for number in random_array:\n",
    "        count_ls.append(game_core(number))\n",
    "    score = int(np.mean(count_ls))\n",
    "    print(f\"Ваш алгоритм угадывает число в среднем за {score} попыток\")\n",
    "    print('Максимальное количество попыток:', int(np.max(count_ls)))\n",
    "    print('Минимальное количество попыток:', int(np.min(count_ls)))\n",
    "    return(score)\n",
    "\n",
    "\n",
    "score_game(game_core_v3)\n"
   ]
  }
 ],
 "metadata": {
  "kernelspec": {
   "display_name": "Python 3",
   "language": "python",
   "name": "python3"
  },
  "language_info": {
   "codemirror_mode": {
    "name": "ipython",
    "version": 3
   },
   "file_extension": ".py",
   "mimetype": "text/x-python",
   "name": "python",
   "nbconvert_exporter": "python",
   "pygments_lexer": "ipython3",
   "version": "3.8.3"
  }
 },
 "nbformat": 4,
 "nbformat_minor": 4
}
