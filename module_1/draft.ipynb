{
 "cells": [
  {
   "cell_type": "code",
   "execution_count": 37,
   "metadata": {},
   "outputs": [
    {
     "name": "stdout",
     "output_type": "stream",
     "text": [
      "91\n",
      "50 2\n",
      "75 3\n",
      "88 4\n",
      "94 5\n",
      "91 6\n"
     ]
    }
   ],
   "source": [
    "import numpy as np\n",
    "\n",
    "predict = 50\n",
    "end_list = 100\n",
    "start_list = 1\n",
    "number = np.random.randint(1,101)\n",
    "n = 1\n",
    "print(number)\n",
    "\n",
    "\n",
    "while predict != number:\n",
    "    n += 1\n",
    "#     if n == 10:\n",
    "#         break\n",
    "    predict = round((end_list+start_list)//2)\n",
    "    if predict < number:\n",
    "        start_list = predict + 1\n",
    "        print(predict, n)\n",
    "    elif predict > number:\n",
    "        end_list = predict - 1\n",
    "        print(predict, n)\n",
    "print(predict, n)"
   ]
  }
 ],
 "metadata": {
  "kernelspec": {
   "display_name": "Python 3",
   "language": "python",
   "name": "python3"
  },
  "language_info": {
   "codemirror_mode": {
    "name": "ipython",
    "version": 3
   },
   "file_extension": ".py",
   "mimetype": "text/x-python",
   "name": "python",
   "nbconvert_exporter": "python",
   "pygments_lexer": "ipython3",
   "version": "3.8.3"
  }
 },
 "nbformat": 4,
 "nbformat_minor": 4
}
