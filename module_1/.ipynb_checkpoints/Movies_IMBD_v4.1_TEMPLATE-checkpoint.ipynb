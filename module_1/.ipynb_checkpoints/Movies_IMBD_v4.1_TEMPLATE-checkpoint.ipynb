{
 "cells": [
  {
   "cell_type": "code",
   "execution_count": 299,
   "metadata": {
    "_cell_guid": "b1076dfc-b9ad-4769-8c92-a6c4dae69d19",
    "_uuid": "8f2839f25d086af736a60e9eeb907d3b93b6e0e5",
    "colab": {},
    "colab_type": "code",
    "id": "U2D2gTdJVp90"
   },
   "outputs": [],
   "source": [
    "import numpy as np\n",
    "import pandas as pd\n",
    "import seaborn as sns\n",
    "import matplotlib.pyplot as plt\n",
    "import re\n",
    "from itertools import count\n",
    "\n",
    "from collections import Counter"
   ]
  },
  {
   "cell_type": "code",
   "execution_count": 84,
   "metadata": {
    "_cell_guid": "79c7e3d0-c299-4dcb-8224-4455121ee9b0",
    "_uuid": "d629ff2d2480ee46fbb7e2d37f6b5fab8052498a",
    "colab": {},
    "colab_type": "code",
    "id": "oyGfxL3eVp9-",
    "scrolled": true
   },
   "outputs": [
    {
     "data": {
      "text/html": [
       "<div>\n",
       "<style scoped>\n",
       "    .dataframe tbody tr th:only-of-type {\n",
       "        vertical-align: middle;\n",
       "    }\n",
       "\n",
       "    .dataframe tbody tr th {\n",
       "        vertical-align: top;\n",
       "    }\n",
       "\n",
       "    .dataframe thead th {\n",
       "        text-align: right;\n",
       "    }\n",
       "</style>\n",
       "<table border=\"1\" class=\"dataframe\">\n",
       "  <thead>\n",
       "    <tr style=\"text-align: right;\">\n",
       "      <th></th>\n",
       "      <th>imdb_id</th>\n",
       "      <th>budget</th>\n",
       "      <th>revenue</th>\n",
       "      <th>original_title</th>\n",
       "      <th>cast</th>\n",
       "      <th>director</th>\n",
       "      <th>tagline</th>\n",
       "      <th>overview</th>\n",
       "      <th>runtime</th>\n",
       "      <th>genres</th>\n",
       "      <th>production_companies</th>\n",
       "      <th>release_date</th>\n",
       "      <th>vote_average</th>\n",
       "      <th>release_year</th>\n",
       "    </tr>\n",
       "  </thead>\n",
       "  <tbody>\n",
       "    <tr>\n",
       "      <th>6</th>\n",
       "      <td>tt1340138</td>\n",
       "      <td>155000000</td>\n",
       "      <td>440603537</td>\n",
       "      <td>Terminator Genisys</td>\n",
       "      <td>Arnold Schwarzenegger|Jason Clarke|Emilia Clar...</td>\n",
       "      <td>Alan Taylor</td>\n",
       "      <td>Reset the future</td>\n",
       "      <td>The year is 2029. John Connor, leader of the r...</td>\n",
       "      <td>125</td>\n",
       "      <td>Science Fiction|Action|Thriller|Adventure</td>\n",
       "      <td>Paramount Pictures|Skydance Productions</td>\n",
       "      <td>6/23/2015</td>\n",
       "      <td>5.8</td>\n",
       "      <td>2015</td>\n",
       "    </tr>\n",
       "    <tr>\n",
       "      <th>1530</th>\n",
       "      <td>tt0429591</td>\n",
       "      <td>12000000</td>\n",
       "      <td>23006849</td>\n",
       "      <td>Aquamarine</td>\n",
       "      <td>Emma Roberts|Joanna 'JoJo' Levesque|Sara Paxto...</td>\n",
       "      <td>Elizabeth Allen Rosenbaum</td>\n",
       "      <td>A Fish-Out-Of-Water Comedy.</td>\n",
       "      <td>Two teenage girls discover that mermaids reall...</td>\n",
       "      <td>104</td>\n",
       "      <td>Fantasy|Romance|Family|Comedy</td>\n",
       "      <td>Fox 2000 Pictures|Storefront Pictures</td>\n",
       "      <td>3/3/2006</td>\n",
       "      <td>5.9</td>\n",
       "      <td>2006</td>\n",
       "    </tr>\n",
       "    <tr>\n",
       "      <th>368</th>\n",
       "      <td>tt1053859</td>\n",
       "      <td>5000000</td>\n",
       "      <td>38610009</td>\n",
       "      <td>The Grudge 3</td>\n",
       "      <td>Johanna Braddy|Gil McKinney|Emi Ikehata|Jadie-...</td>\n",
       "      <td>Toby Wilkins</td>\n",
       "      <td>You can't escape the curse.</td>\n",
       "      <td>Jake, the sole survivor of The Grudge 2 massac...</td>\n",
       "      <td>90</td>\n",
       "      <td>Horror|Thriller</td>\n",
       "      <td>Ghost House Pictures|Ozla Pictures|Stage 6 Films</td>\n",
       "      <td>5/12/2009</td>\n",
       "      <td>5.4</td>\n",
       "      <td>2009</td>\n",
       "    </tr>\n",
       "    <tr>\n",
       "      <th>1418</th>\n",
       "      <td>tt0375210</td>\n",
       "      <td>10000000</td>\n",
       "      <td>91196419</td>\n",
       "      <td>White Noise</td>\n",
       "      <td>Michael Keaton|Chandra West|Deborah Kara Unger...</td>\n",
       "      <td>Geoffrey Sax</td>\n",
       "      <td>The line separating the living from the dead h...</td>\n",
       "      <td>An architect's desire to speak with his wife f...</td>\n",
       "      <td>101</td>\n",
       "      <td>Drama|Horror|Thriller</td>\n",
       "      <td>Universal Pictures|Brightlight Pictures|Endgam...</td>\n",
       "      <td>1/7/2005</td>\n",
       "      <td>5.5</td>\n",
       "      <td>2005</td>\n",
       "    </tr>\n",
       "    <tr>\n",
       "      <th>1040</th>\n",
       "      <td>tt1596365</td>\n",
       "      <td>17000000</td>\n",
       "      <td>127730736</td>\n",
       "      <td>The Woman in Black</td>\n",
       "      <td>Daniel Radcliffe|CiarÃ¡n Hinds|Sidney Johnston...</td>\n",
       "      <td>James Watkins</td>\n",
       "      <td>What did they see?</td>\n",
       "      <td>The story follows a young lawyer, Arthur Kipps...</td>\n",
       "      <td>95</td>\n",
       "      <td>Drama|Horror|Thriller</td>\n",
       "      <td>Hammer Film Productions|UK Film Council|Allian...</td>\n",
       "      <td>2/1/2012</td>\n",
       "      <td>6.1</td>\n",
       "      <td>2012</td>\n",
       "    </tr>\n",
       "  </tbody>\n",
       "</table>\n",
       "</div>"
      ],
      "text/plain": [
       "        imdb_id     budget    revenue      original_title  \\\n",
       "6     tt1340138  155000000  440603537  Terminator Genisys   \n",
       "1530  tt0429591   12000000   23006849          Aquamarine   \n",
       "368   tt1053859    5000000   38610009        The Grudge 3   \n",
       "1418  tt0375210   10000000   91196419         White Noise   \n",
       "1040  tt1596365   17000000  127730736  The Woman in Black   \n",
       "\n",
       "                                                   cast  \\\n",
       "6     Arnold Schwarzenegger|Jason Clarke|Emilia Clar...   \n",
       "1530  Emma Roberts|Joanna 'JoJo' Levesque|Sara Paxto...   \n",
       "368   Johanna Braddy|Gil McKinney|Emi Ikehata|Jadie-...   \n",
       "1418  Michael Keaton|Chandra West|Deborah Kara Unger...   \n",
       "1040  Daniel Radcliffe|CiarÃ¡n Hinds|Sidney Johnston...   \n",
       "\n",
       "                       director  \\\n",
       "6                   Alan Taylor   \n",
       "1530  Elizabeth Allen Rosenbaum   \n",
       "368                Toby Wilkins   \n",
       "1418               Geoffrey Sax   \n",
       "1040              James Watkins   \n",
       "\n",
       "                                                tagline  \\\n",
       "6                                      Reset the future   \n",
       "1530                        A Fish-Out-Of-Water Comedy.   \n",
       "368                         You can't escape the curse.   \n",
       "1418  The line separating the living from the dead h...   \n",
       "1040                                 What did they see?   \n",
       "\n",
       "                                               overview  runtime  \\\n",
       "6     The year is 2029. John Connor, leader of the r...      125   \n",
       "1530  Two teenage girls discover that mermaids reall...      104   \n",
       "368   Jake, the sole survivor of The Grudge 2 massac...       90   \n",
       "1418  An architect's desire to speak with his wife f...      101   \n",
       "1040  The story follows a young lawyer, Arthur Kipps...       95   \n",
       "\n",
       "                                         genres  \\\n",
       "6     Science Fiction|Action|Thriller|Adventure   \n",
       "1530              Fantasy|Romance|Family|Comedy   \n",
       "368                             Horror|Thriller   \n",
       "1418                      Drama|Horror|Thriller   \n",
       "1040                      Drama|Horror|Thriller   \n",
       "\n",
       "                                   production_companies release_date  \\\n",
       "6               Paramount Pictures|Skydance Productions    6/23/2015   \n",
       "1530              Fox 2000 Pictures|Storefront Pictures     3/3/2006   \n",
       "368    Ghost House Pictures|Ozla Pictures|Stage 6 Films    5/12/2009   \n",
       "1418  Universal Pictures|Brightlight Pictures|Endgam...     1/7/2005   \n",
       "1040  Hammer Film Productions|UK Film Council|Allian...     2/1/2012   \n",
       "\n",
       "      vote_average  release_year  \n",
       "6              5.8          2015  \n",
       "1530           5.9          2006  \n",
       "368            5.4          2009  \n",
       "1418           5.5          2005  \n",
       "1040           6.1          2012  "
      ]
     },
     "execution_count": 84,
     "metadata": {},
     "output_type": "execute_result"
    }
   ],
   "source": [
    "data = pd.read_csv('movie_bd_v5.csv')\n",
    "data.sample(5)"
   ]
  },
  {
   "cell_type": "code",
   "execution_count": 14,
   "metadata": {
    "colab": {},
    "colab_type": "code",
    "id": "CoYUnagMVp-C",
    "scrolled": true
   },
   "outputs": [
    {
     "data": {
      "text/html": [
       "<div>\n",
       "<style scoped>\n",
       "    .dataframe tbody tr th:only-of-type {\n",
       "        vertical-align: middle;\n",
       "    }\n",
       "\n",
       "    .dataframe tbody tr th {\n",
       "        vertical-align: top;\n",
       "    }\n",
       "\n",
       "    .dataframe thead th {\n",
       "        text-align: right;\n",
       "    }\n",
       "</style>\n",
       "<table border=\"1\" class=\"dataframe\">\n",
       "  <thead>\n",
       "    <tr style=\"text-align: right;\">\n",
       "      <th></th>\n",
       "      <th>budget</th>\n",
       "      <th>revenue</th>\n",
       "      <th>runtime</th>\n",
       "      <th>vote_average</th>\n",
       "      <th>release_year</th>\n",
       "    </tr>\n",
       "  </thead>\n",
       "  <tbody>\n",
       "    <tr>\n",
       "      <th>count</th>\n",
       "      <td>1.889000e+03</td>\n",
       "      <td>1.889000e+03</td>\n",
       "      <td>1889.000000</td>\n",
       "      <td>1889.000000</td>\n",
       "      <td>1889.000000</td>\n",
       "    </tr>\n",
       "    <tr>\n",
       "      <th>mean</th>\n",
       "      <td>5.431083e+07</td>\n",
       "      <td>1.553653e+08</td>\n",
       "      <td>109.658549</td>\n",
       "      <td>6.140762</td>\n",
       "      <td>2007.860773</td>\n",
       "    </tr>\n",
       "    <tr>\n",
       "      <th>std</th>\n",
       "      <td>4.858721e+07</td>\n",
       "      <td>2.146698e+08</td>\n",
       "      <td>18.017041</td>\n",
       "      <td>0.764763</td>\n",
       "      <td>4.468841</td>\n",
       "    </tr>\n",
       "    <tr>\n",
       "      <th>min</th>\n",
       "      <td>5.000000e+06</td>\n",
       "      <td>2.033165e+06</td>\n",
       "      <td>63.000000</td>\n",
       "      <td>3.300000</td>\n",
       "      <td>2000.000000</td>\n",
       "    </tr>\n",
       "    <tr>\n",
       "      <th>25%</th>\n",
       "      <td>2.000000e+07</td>\n",
       "      <td>3.456058e+07</td>\n",
       "      <td>97.000000</td>\n",
       "      <td>5.600000</td>\n",
       "      <td>2004.000000</td>\n",
       "    </tr>\n",
       "    <tr>\n",
       "      <th>50%</th>\n",
       "      <td>3.800000e+07</td>\n",
       "      <td>8.361541e+07</td>\n",
       "      <td>107.000000</td>\n",
       "      <td>6.100000</td>\n",
       "      <td>2008.000000</td>\n",
       "    </tr>\n",
       "    <tr>\n",
       "      <th>75%</th>\n",
       "      <td>7.200000e+07</td>\n",
       "      <td>1.782626e+08</td>\n",
       "      <td>120.000000</td>\n",
       "      <td>6.600000</td>\n",
       "      <td>2012.000000</td>\n",
       "    </tr>\n",
       "    <tr>\n",
       "      <th>max</th>\n",
       "      <td>3.800000e+08</td>\n",
       "      <td>2.781506e+09</td>\n",
       "      <td>214.000000</td>\n",
       "      <td>8.100000</td>\n",
       "      <td>2015.000000</td>\n",
       "    </tr>\n",
       "  </tbody>\n",
       "</table>\n",
       "</div>"
      ],
      "text/plain": [
       "             budget       revenue      runtime  vote_average  release_year\n",
       "count  1.889000e+03  1.889000e+03  1889.000000   1889.000000   1889.000000\n",
       "mean   5.431083e+07  1.553653e+08   109.658549      6.140762   2007.860773\n",
       "std    4.858721e+07  2.146698e+08    18.017041      0.764763      4.468841\n",
       "min    5.000000e+06  2.033165e+06    63.000000      3.300000   2000.000000\n",
       "25%    2.000000e+07  3.456058e+07    97.000000      5.600000   2004.000000\n",
       "50%    3.800000e+07  8.361541e+07   107.000000      6.100000   2008.000000\n",
       "75%    7.200000e+07  1.782626e+08   120.000000      6.600000   2012.000000\n",
       "max    3.800000e+08  2.781506e+09   214.000000      8.100000   2015.000000"
      ]
     },
     "execution_count": 14,
     "metadata": {},
     "output_type": "execute_result"
    }
   ],
   "source": [
    "data.describe()"
   ]
  },
  {
   "cell_type": "markdown",
   "metadata": {
    "colab_type": "text",
    "id": "DTIt7ezGVp-G"
   },
   "source": [
    "# Предобработка"
   ]
  },
  {
   "cell_type": "code",
   "execution_count": 235,
   "metadata": {
    "colab": {},
    "colab_type": "code",
    "id": "jNb40DwKVp-H",
    "scrolled": true
   },
   "outputs": [],
   "source": [
    "answers = {} # создадим словарь для ответов\n",
    "\n",
    "data = pd.read_csv('movie_bd_v5.csv')\n",
    "# добавление столбца с прибылью в датафрейм data\n",
    "data['profit'] = data['revenue'] - data['budget']\n",
    "\n",
    "#разделяем жанры в столбце genres\n",
    "data['genres'] = data['genres'].apply(lambda x:x.split('|'))\n",
    "\n",
    "#Функция подсчёта жанров\n",
    "def genres_count(a):\n",
    "    for i in a:\n",
    "        if i in genres_dict:\n",
    "            genres_dict[i] += 1\n",
    "        else:\n",
    "            genres_dict[i] = 1\n",
    "    return genres_dict\n",
    "\n",
    "data['director'] = data['director'].apply(lambda x: x.split('|'))\n",
    "data['cast'] = data['cast'].apply(lambda x: x.split('|'))\n",
    "data['production_companies'] = data['production_companies'].apply(lambda x: x.split('|'))\n",
    "data['release_date'] = data['release_date'].apply(lambda x: x.split('/'))\n",
    "data['release_month']=data['release_date'].apply(lambda x: x[0])\n",
    "\n",
    "\n",
    "#the time given in the dataset is in string format.\n",
    "#So we need to change this in datetime format\n",
    "# ..."
   ]
  },
  {
   "cell_type": "code",
   "execution_count": 236,
   "metadata": {},
   "outputs": [
    {
     "data": {
      "text/html": [
       "<div>\n",
       "<style scoped>\n",
       "    .dataframe tbody tr th:only-of-type {\n",
       "        vertical-align: middle;\n",
       "    }\n",
       "\n",
       "    .dataframe tbody tr th {\n",
       "        vertical-align: top;\n",
       "    }\n",
       "\n",
       "    .dataframe thead th {\n",
       "        text-align: right;\n",
       "    }\n",
       "</style>\n",
       "<table border=\"1\" class=\"dataframe\">\n",
       "  <thead>\n",
       "    <tr style=\"text-align: right;\">\n",
       "      <th></th>\n",
       "      <th>imdb_id</th>\n",
       "      <th>budget</th>\n",
       "      <th>revenue</th>\n",
       "      <th>original_title</th>\n",
       "      <th>cast</th>\n",
       "      <th>director</th>\n",
       "      <th>tagline</th>\n",
       "      <th>overview</th>\n",
       "      <th>runtime</th>\n",
       "      <th>genres</th>\n",
       "      <th>production_companies</th>\n",
       "      <th>release_date</th>\n",
       "      <th>vote_average</th>\n",
       "      <th>release_year</th>\n",
       "      <th>profit</th>\n",
       "      <th>release_month</th>\n",
       "    </tr>\n",
       "  </thead>\n",
       "  <tbody>\n",
       "    <tr>\n",
       "      <th>0</th>\n",
       "      <td>tt0369610</td>\n",
       "      <td>150000000</td>\n",
       "      <td>1513528810</td>\n",
       "      <td>Jurassic World</td>\n",
       "      <td>[Chris Pratt, Bryce Dallas Howard, Irrfan Khan...</td>\n",
       "      <td>[Colin Trevorrow]</td>\n",
       "      <td>The park is open.</td>\n",
       "      <td>Twenty-two years after the events of Jurassic ...</td>\n",
       "      <td>124</td>\n",
       "      <td>[Action, Adventure, Science Fiction, Thriller]</td>\n",
       "      <td>[Universal Studios, Amblin Entertainment, Lege...</td>\n",
       "      <td>[6, 9, 2015]</td>\n",
       "      <td>6.5</td>\n",
       "      <td>2015</td>\n",
       "      <td>1363528810</td>\n",
       "      <td>6</td>\n",
       "    </tr>\n",
       "    <tr>\n",
       "      <th>1</th>\n",
       "      <td>tt1392190</td>\n",
       "      <td>150000000</td>\n",
       "      <td>378436354</td>\n",
       "      <td>Mad Max: Fury Road</td>\n",
       "      <td>[Tom Hardy, Charlize Theron, Hugh Keays-Byrne,...</td>\n",
       "      <td>[George Miller]</td>\n",
       "      <td>What a Lovely Day.</td>\n",
       "      <td>An apocalyptic story set in the furthest reach...</td>\n",
       "      <td>120</td>\n",
       "      <td>[Action, Adventure, Science Fiction, Thriller]</td>\n",
       "      <td>[Village Roadshow Pictures, Kennedy Miller Pro...</td>\n",
       "      <td>[5, 13, 2015]</td>\n",
       "      <td>7.1</td>\n",
       "      <td>2015</td>\n",
       "      <td>228436354</td>\n",
       "      <td>5</td>\n",
       "    </tr>\n",
       "    <tr>\n",
       "      <th>2</th>\n",
       "      <td>tt2908446</td>\n",
       "      <td>110000000</td>\n",
       "      <td>295238201</td>\n",
       "      <td>Insurgent</td>\n",
       "      <td>[Shailene Woodley, Theo James, Kate Winslet, A...</td>\n",
       "      <td>[Robert Schwentke]</td>\n",
       "      <td>One Choice Can Destroy You</td>\n",
       "      <td>Beatrice Prior must confront her inner demons ...</td>\n",
       "      <td>119</td>\n",
       "      <td>[Adventure, Science Fiction, Thriller]</td>\n",
       "      <td>[Summit Entertainment, Mandeville Films, Red W...</td>\n",
       "      <td>[3, 18, 2015]</td>\n",
       "      <td>6.3</td>\n",
       "      <td>2015</td>\n",
       "      <td>185238201</td>\n",
       "      <td>3</td>\n",
       "    </tr>\n",
       "    <tr>\n",
       "      <th>3</th>\n",
       "      <td>tt2488496</td>\n",
       "      <td>200000000</td>\n",
       "      <td>2068178225</td>\n",
       "      <td>Star Wars: The Force Awakens</td>\n",
       "      <td>[Harrison Ford, Mark Hamill, Carrie Fisher, Ad...</td>\n",
       "      <td>[J.J. Abrams]</td>\n",
       "      <td>Every generation has a story.</td>\n",
       "      <td>Thirty years after defeating the Galactic Empi...</td>\n",
       "      <td>136</td>\n",
       "      <td>[Action, Adventure, Science Fiction, Fantasy]</td>\n",
       "      <td>[Lucasfilm, Truenorth Productions, Bad Robot]</td>\n",
       "      <td>[12, 15, 2015]</td>\n",
       "      <td>7.5</td>\n",
       "      <td>2015</td>\n",
       "      <td>1868178225</td>\n",
       "      <td>12</td>\n",
       "    </tr>\n",
       "    <tr>\n",
       "      <th>4</th>\n",
       "      <td>tt2820852</td>\n",
       "      <td>190000000</td>\n",
       "      <td>1506249360</td>\n",
       "      <td>Furious 7</td>\n",
       "      <td>[Vin Diesel, Paul Walker, Jason Statham, Miche...</td>\n",
       "      <td>[James Wan]</td>\n",
       "      <td>Vengeance Hits Home</td>\n",
       "      <td>Deckard Shaw seeks revenge against Dominic Tor...</td>\n",
       "      <td>137</td>\n",
       "      <td>[Action, Crime, Thriller]</td>\n",
       "      <td>[Universal Pictures, Original Film, Media Righ...</td>\n",
       "      <td>[4, 1, 2015]</td>\n",
       "      <td>7.3</td>\n",
       "      <td>2015</td>\n",
       "      <td>1316249360</td>\n",
       "      <td>4</td>\n",
       "    </tr>\n",
       "    <tr>\n",
       "      <th>...</th>\n",
       "      <td>...</td>\n",
       "      <td>...</td>\n",
       "      <td>...</td>\n",
       "      <td>...</td>\n",
       "      <td>...</td>\n",
       "      <td>...</td>\n",
       "      <td>...</td>\n",
       "      <td>...</td>\n",
       "      <td>...</td>\n",
       "      <td>...</td>\n",
       "      <td>...</td>\n",
       "      <td>...</td>\n",
       "      <td>...</td>\n",
       "      <td>...</td>\n",
       "      <td>...</td>\n",
       "      <td>...</td>\n",
       "    </tr>\n",
       "    <tr>\n",
       "      <th>1884</th>\n",
       "      <td>tt0120903</td>\n",
       "      <td>75000000</td>\n",
       "      <td>157299717</td>\n",
       "      <td>X-Men</td>\n",
       "      <td>[Patrick Stewart, Hugh Jackman, Ian McKellen, ...</td>\n",
       "      <td>[Bryan Singer]</td>\n",
       "      <td>Evolution Begins</td>\n",
       "      <td>Two mutants, Rogue and Wolverine, come to a pr...</td>\n",
       "      <td>104</td>\n",
       "      <td>[Adventure, Action, Science Fiction]</td>\n",
       "      <td>[Twentieth Century Fox Film Corporation, Donne...</td>\n",
       "      <td>[7, 13, 2000]</td>\n",
       "      <td>6.6</td>\n",
       "      <td>2000</td>\n",
       "      <td>82299717</td>\n",
       "      <td>7</td>\n",
       "    </tr>\n",
       "    <tr>\n",
       "      <th>1885</th>\n",
       "      <td>tt0192255</td>\n",
       "      <td>22000000</td>\n",
       "      <td>13555988</td>\n",
       "      <td>The Little Vampire</td>\n",
       "      <td>[Richard E. Grant, Jonathan Lipnicki, Jim Cart...</td>\n",
       "      <td>[Uli Edel]</td>\n",
       "      <td>They're not just best friends, they're blood b...</td>\n",
       "      <td>Based on the popular books, the story tells of...</td>\n",
       "      <td>95</td>\n",
       "      <td>[Horror, Family, Foreign]</td>\n",
       "      <td>[New Line Cinema]</td>\n",
       "      <td>[10, 27, 2000]</td>\n",
       "      <td>6.4</td>\n",
       "      <td>2000</td>\n",
       "      <td>-8444012</td>\n",
       "      <td>10</td>\n",
       "    </tr>\n",
       "    <tr>\n",
       "      <th>1886</th>\n",
       "      <td>tt0131704</td>\n",
       "      <td>76000000</td>\n",
       "      <td>35134820</td>\n",
       "      <td>The Adventures of Rocky &amp; Bullwinkle</td>\n",
       "      <td>[Rene Russo, Jason Alexander, Piper Perabo, Ra...</td>\n",
       "      <td>[Des McAnuff]</td>\n",
       "      <td>This summer it's not the same old bull.</td>\n",
       "      <td>Rocky and Bullwinkle have been living off the ...</td>\n",
       "      <td>88</td>\n",
       "      <td>[Adventure, Animation, Action, Comedy, Family]</td>\n",
       "      <td>[Universal Pictures, Capella International, KC...</td>\n",
       "      <td>[6, 30, 2000]</td>\n",
       "      <td>4.0</td>\n",
       "      <td>2000</td>\n",
       "      <td>-40865180</td>\n",
       "      <td>6</td>\n",
       "    </tr>\n",
       "    <tr>\n",
       "      <th>1887</th>\n",
       "      <td>tt0162983</td>\n",
       "      <td>40000000</td>\n",
       "      <td>36037909</td>\n",
       "      <td>Hanging Up</td>\n",
       "      <td>[Meg Ryan, Diane Keaton, Lisa Kudrow, Walter M...</td>\n",
       "      <td>[Diane Keaton]</td>\n",
       "      <td>Every family has a few hang-ups.</td>\n",
       "      <td>A trio of sisters bond over their ambivalence ...</td>\n",
       "      <td>94</td>\n",
       "      <td>[Comedy, Drama]</td>\n",
       "      <td>[Laurence Mark Productions, Columbia Pictures ...</td>\n",
       "      <td>[2, 16, 2000]</td>\n",
       "      <td>5.2</td>\n",
       "      <td>2000</td>\n",
       "      <td>-3962091</td>\n",
       "      <td>2</td>\n",
       "    </tr>\n",
       "    <tr>\n",
       "      <th>1888</th>\n",
       "      <td>tt0163676</td>\n",
       "      <td>15000000</td>\n",
       "      <td>5217498</td>\n",
       "      <td>The In Crowd</td>\n",
       "      <td>[Susan Ward, Lori Heuring, Matthew Settle, Nat...</td>\n",
       "      <td>[Mary Lambert]</td>\n",
       "      <td>What would you do to get in?</td>\n",
       "      <td>A mentally disturbed young woman takes a job a...</td>\n",
       "      <td>105</td>\n",
       "      <td>[Thriller]</td>\n",
       "      <td>[Warner Bros. Pictures]</td>\n",
       "      <td>[7, 19, 2000]</td>\n",
       "      <td>5.2</td>\n",
       "      <td>2000</td>\n",
       "      <td>-9782502</td>\n",
       "      <td>7</td>\n",
       "    </tr>\n",
       "  </tbody>\n",
       "</table>\n",
       "<p>1889 rows × 16 columns</p>\n",
       "</div>"
      ],
      "text/plain": [
       "        imdb_id     budget     revenue                        original_title  \\\n",
       "0     tt0369610  150000000  1513528810                        Jurassic World   \n",
       "1     tt1392190  150000000   378436354                    Mad Max: Fury Road   \n",
       "2     tt2908446  110000000   295238201                             Insurgent   \n",
       "3     tt2488496  200000000  2068178225          Star Wars: The Force Awakens   \n",
       "4     tt2820852  190000000  1506249360                             Furious 7   \n",
       "...         ...        ...         ...                                   ...   \n",
       "1884  tt0120903   75000000   157299717                                 X-Men   \n",
       "1885  tt0192255   22000000    13555988                    The Little Vampire   \n",
       "1886  tt0131704   76000000    35134820  The Adventures of Rocky & Bullwinkle   \n",
       "1887  tt0162983   40000000    36037909                            Hanging Up   \n",
       "1888  tt0163676   15000000     5217498                          The In Crowd   \n",
       "\n",
       "                                                   cast            director  \\\n",
       "0     [Chris Pratt, Bryce Dallas Howard, Irrfan Khan...   [Colin Trevorrow]   \n",
       "1     [Tom Hardy, Charlize Theron, Hugh Keays-Byrne,...     [George Miller]   \n",
       "2     [Shailene Woodley, Theo James, Kate Winslet, A...  [Robert Schwentke]   \n",
       "3     [Harrison Ford, Mark Hamill, Carrie Fisher, Ad...       [J.J. Abrams]   \n",
       "4     [Vin Diesel, Paul Walker, Jason Statham, Miche...         [James Wan]   \n",
       "...                                                 ...                 ...   \n",
       "1884  [Patrick Stewart, Hugh Jackman, Ian McKellen, ...      [Bryan Singer]   \n",
       "1885  [Richard E. Grant, Jonathan Lipnicki, Jim Cart...          [Uli Edel]   \n",
       "1886  [Rene Russo, Jason Alexander, Piper Perabo, Ra...       [Des McAnuff]   \n",
       "1887  [Meg Ryan, Diane Keaton, Lisa Kudrow, Walter M...      [Diane Keaton]   \n",
       "1888  [Susan Ward, Lori Heuring, Matthew Settle, Nat...      [Mary Lambert]   \n",
       "\n",
       "                                                tagline  \\\n",
       "0                                     The park is open.   \n",
       "1                                    What a Lovely Day.   \n",
       "2                            One Choice Can Destroy You   \n",
       "3                         Every generation has a story.   \n",
       "4                                   Vengeance Hits Home   \n",
       "...                                                 ...   \n",
       "1884                                   Evolution Begins   \n",
       "1885  They're not just best friends, they're blood b...   \n",
       "1886            This summer it's not the same old bull.   \n",
       "1887                   Every family has a few hang-ups.   \n",
       "1888                       What would you do to get in?   \n",
       "\n",
       "                                               overview  runtime  \\\n",
       "0     Twenty-two years after the events of Jurassic ...      124   \n",
       "1     An apocalyptic story set in the furthest reach...      120   \n",
       "2     Beatrice Prior must confront her inner demons ...      119   \n",
       "3     Thirty years after defeating the Galactic Empi...      136   \n",
       "4     Deckard Shaw seeks revenge against Dominic Tor...      137   \n",
       "...                                                 ...      ...   \n",
       "1884  Two mutants, Rogue and Wolverine, come to a pr...      104   \n",
       "1885  Based on the popular books, the story tells of...       95   \n",
       "1886  Rocky and Bullwinkle have been living off the ...       88   \n",
       "1887  A trio of sisters bond over their ambivalence ...       94   \n",
       "1888  A mentally disturbed young woman takes a job a...      105   \n",
       "\n",
       "                                              genres  \\\n",
       "0     [Action, Adventure, Science Fiction, Thriller]   \n",
       "1     [Action, Adventure, Science Fiction, Thriller]   \n",
       "2             [Adventure, Science Fiction, Thriller]   \n",
       "3      [Action, Adventure, Science Fiction, Fantasy]   \n",
       "4                          [Action, Crime, Thriller]   \n",
       "...                                              ...   \n",
       "1884            [Adventure, Action, Science Fiction]   \n",
       "1885                       [Horror, Family, Foreign]   \n",
       "1886  [Adventure, Animation, Action, Comedy, Family]   \n",
       "1887                                 [Comedy, Drama]   \n",
       "1888                                      [Thriller]   \n",
       "\n",
       "                                   production_companies    release_date  \\\n",
       "0     [Universal Studios, Amblin Entertainment, Lege...    [6, 9, 2015]   \n",
       "1     [Village Roadshow Pictures, Kennedy Miller Pro...   [5, 13, 2015]   \n",
       "2     [Summit Entertainment, Mandeville Films, Red W...   [3, 18, 2015]   \n",
       "3         [Lucasfilm, Truenorth Productions, Bad Robot]  [12, 15, 2015]   \n",
       "4     [Universal Pictures, Original Film, Media Righ...    [4, 1, 2015]   \n",
       "...                                                 ...             ...   \n",
       "1884  [Twentieth Century Fox Film Corporation, Donne...   [7, 13, 2000]   \n",
       "1885                                  [New Line Cinema]  [10, 27, 2000]   \n",
       "1886  [Universal Pictures, Capella International, KC...   [6, 30, 2000]   \n",
       "1887  [Laurence Mark Productions, Columbia Pictures ...   [2, 16, 2000]   \n",
       "1888                            [Warner Bros. Pictures]   [7, 19, 2000]   \n",
       "\n",
       "      vote_average  release_year      profit release_month  \n",
       "0              6.5          2015  1363528810             6  \n",
       "1              7.1          2015   228436354             5  \n",
       "2              6.3          2015   185238201             3  \n",
       "3              7.5          2015  1868178225            12  \n",
       "4              7.3          2015  1316249360             4  \n",
       "...            ...           ...         ...           ...  \n",
       "1884           6.6          2000    82299717             7  \n",
       "1885           6.4          2000    -8444012            10  \n",
       "1886           4.0          2000   -40865180             6  \n",
       "1887           5.2          2000    -3962091             2  \n",
       "1888           5.2          2000    -9782502             7  \n",
       "\n",
       "[1889 rows x 16 columns]"
      ]
     },
     "execution_count": 236,
     "metadata": {},
     "output_type": "execute_result"
    }
   ],
   "source": [
    "data"
   ]
  },
  {
   "cell_type": "markdown",
   "metadata": {
    "colab_type": "text",
    "id": "YxZaH-nPVp-L"
   },
   "source": [
    "# 1. У какого фильма из списка самый большой бюджет?"
   ]
  },
  {
   "cell_type": "markdown",
   "metadata": {
    "colab_type": "text",
    "id": "Nd-G5gX6Vp-M"
   },
   "source": [
    "Использовать варианты ответов в коде решения запрещено.    \n",
    "Вы думаете и в жизни у вас будут варианты ответов?)"
   ]
  },
  {
   "cell_type": "code",
   "execution_count": 29,
   "metadata": {
    "colab": {},
    "colab_type": "code",
    "id": "uVnXAY5RVp-O"
   },
   "outputs": [],
   "source": [
    "# в словарь вставляем номер вопроса и ваш ответ на него\n",
    "# Пример: \n",
    "# answers['1'] = '2. Spider-Man 3 (tt0413300)'\n",
    "# запишите свой вариант ответа\n",
    "answers['1'] = '5. Pirates of the Caribbean: On Stranger Tides (tt1298650)'\n",
    "# если ответили верно, можете добавить комментарий со значком \"+\""
   ]
  },
  {
   "cell_type": "code",
   "execution_count": 25,
   "metadata": {
    "colab": {},
    "colab_type": "code",
    "id": "dZwb3m28Vp-S"
   },
   "outputs": [
    {
     "data": {
      "text/html": [
       "<div>\n",
       "<style scoped>\n",
       "    .dataframe tbody tr th:only-of-type {\n",
       "        vertical-align: middle;\n",
       "    }\n",
       "\n",
       "    .dataframe tbody tr th {\n",
       "        vertical-align: top;\n",
       "    }\n",
       "\n",
       "    .dataframe thead th {\n",
       "        text-align: right;\n",
       "    }\n",
       "</style>\n",
       "<table border=\"1\" class=\"dataframe\">\n",
       "  <thead>\n",
       "    <tr style=\"text-align: right;\">\n",
       "      <th></th>\n",
       "      <th>imdb_id</th>\n",
       "      <th>budget</th>\n",
       "      <th>revenue</th>\n",
       "      <th>original_title</th>\n",
       "      <th>cast</th>\n",
       "      <th>director</th>\n",
       "      <th>tagline</th>\n",
       "      <th>overview</th>\n",
       "      <th>runtime</th>\n",
       "      <th>genres</th>\n",
       "      <th>production_companies</th>\n",
       "      <th>release_date</th>\n",
       "      <th>vote_average</th>\n",
       "      <th>release_year</th>\n",
       "    </tr>\n",
       "  </thead>\n",
       "  <tbody>\n",
       "    <tr>\n",
       "      <th>723</th>\n",
       "      <td>tt1298650</td>\n",
       "      <td>380000000</td>\n",
       "      <td>1021683000</td>\n",
       "      <td>Pirates of the Caribbean: On Stranger Tides</td>\n",
       "      <td>Johnny Depp|PenÃ©lope Cruz|Geoffrey Rush|Ian M...</td>\n",
       "      <td>Rob Marshall</td>\n",
       "      <td>Live Forever Or Die Trying.</td>\n",
       "      <td>Captain Jack Sparrow crosses paths with a woma...</td>\n",
       "      <td>136</td>\n",
       "      <td>Adventure|Action|Fantasy</td>\n",
       "      <td>Walt Disney Pictures|Jerry Bruckheimer Films|M...</td>\n",
       "      <td>5/11/2011</td>\n",
       "      <td>6.3</td>\n",
       "      <td>2011</td>\n",
       "    </tr>\n",
       "  </tbody>\n",
       "</table>\n",
       "</div>"
      ],
      "text/plain": [
       "       imdb_id     budget     revenue  \\\n",
       "723  tt1298650  380000000  1021683000   \n",
       "\n",
       "                                  original_title  \\\n",
       "723  Pirates of the Caribbean: On Stranger Tides   \n",
       "\n",
       "                                                  cast      director  \\\n",
       "723  Johnny Depp|PenÃ©lope Cruz|Geoffrey Rush|Ian M...  Rob Marshall   \n",
       "\n",
       "                         tagline  \\\n",
       "723  Live Forever Or Die Trying.   \n",
       "\n",
       "                                              overview  runtime  \\\n",
       "723  Captain Jack Sparrow crosses paths with a woma...      136   \n",
       "\n",
       "                       genres  \\\n",
       "723  Adventure|Action|Fantasy   \n",
       "\n",
       "                                  production_companies release_date  \\\n",
       "723  Walt Disney Pictures|Jerry Bruckheimer Films|M...    5/11/2011   \n",
       "\n",
       "     vote_average  release_year  \n",
       "723           6.3          2011  "
      ]
     },
     "execution_count": 25,
     "metadata": {},
     "output_type": "execute_result"
    }
   ],
   "source": [
    "# тут пишем ваш код для решения данного вопроса:\n",
    "# data[['budget'] == data.budget.max()]\n",
    "data.sort_values('budget', ascending = False).head(1)\n"
   ]
  },
  {
   "cell_type": "markdown",
   "metadata": {
    "colab_type": "text",
    "id": "K7L3nbRXVp-X"
   },
   "source": [
    "ВАРИАНТ 2"
   ]
  },
  {
   "cell_type": "code",
   "execution_count": 0,
   "metadata": {
    "colab": {},
    "colab_type": "code",
    "id": "OGaoQI7rVp-X"
   },
   "outputs": [],
   "source": [
    "# можно добавлять разные варианты решения"
   ]
  },
  {
   "cell_type": "markdown",
   "metadata": {
    "colab_type": "text",
    "id": "FNRbbI3vVp-c"
   },
   "source": [
    "# 2. Какой из фильмов самый длительный (в минутах)?"
   ]
  },
  {
   "cell_type": "code",
   "execution_count": 33,
   "metadata": {
    "colab": {},
    "colab_type": "code",
    "id": "vHAoEXNTVp-d"
   },
   "outputs": [],
   "source": [
    "# думаю логику работы с этим словарем вы уже поняли, \n",
    "# по этому не буду больше его дублировать\n",
    "answers['2'] = 'Gods and Generals (tt0279111)'"
   ]
  },
  {
   "cell_type": "code",
   "execution_count": 31,
   "metadata": {
    "colab": {},
    "colab_type": "code",
    "id": "ot-VX2XrVp-g"
   },
   "outputs": [
    {
     "data": {
      "text/html": [
       "<div>\n",
       "<style scoped>\n",
       "    .dataframe tbody tr th:only-of-type {\n",
       "        vertical-align: middle;\n",
       "    }\n",
       "\n",
       "    .dataframe tbody tr th {\n",
       "        vertical-align: top;\n",
       "    }\n",
       "\n",
       "    .dataframe thead th {\n",
       "        text-align: right;\n",
       "    }\n",
       "</style>\n",
       "<table border=\"1\" class=\"dataframe\">\n",
       "  <thead>\n",
       "    <tr style=\"text-align: right;\">\n",
       "      <th></th>\n",
       "      <th>imdb_id</th>\n",
       "      <th>budget</th>\n",
       "      <th>revenue</th>\n",
       "      <th>original_title</th>\n",
       "      <th>cast</th>\n",
       "      <th>director</th>\n",
       "      <th>tagline</th>\n",
       "      <th>overview</th>\n",
       "      <th>runtime</th>\n",
       "      <th>genres</th>\n",
       "      <th>production_companies</th>\n",
       "      <th>release_date</th>\n",
       "      <th>vote_average</th>\n",
       "      <th>release_year</th>\n",
       "    </tr>\n",
       "  </thead>\n",
       "  <tbody>\n",
       "    <tr>\n",
       "      <th>1157</th>\n",
       "      <td>tt0279111</td>\n",
       "      <td>56000000</td>\n",
       "      <td>12923936</td>\n",
       "      <td>Gods and Generals</td>\n",
       "      <td>Stephen Lang|Jeff Daniels|Robert Duvall|Kevin ...</td>\n",
       "      <td>Ronald F. Maxwell</td>\n",
       "      <td>The nations heart was touched by...</td>\n",
       "      <td>The film centers mostly around the personal an...</td>\n",
       "      <td>214</td>\n",
       "      <td>Drama|History|War</td>\n",
       "      <td>Turner Pictures|Antietam Filmworks</td>\n",
       "      <td>2/21/2003</td>\n",
       "      <td>5.8</td>\n",
       "      <td>2003</td>\n",
       "    </tr>\n",
       "  </tbody>\n",
       "</table>\n",
       "</div>"
      ],
      "text/plain": [
       "        imdb_id    budget   revenue     original_title  \\\n",
       "1157  tt0279111  56000000  12923936  Gods and Generals   \n",
       "\n",
       "                                                   cast           director  \\\n",
       "1157  Stephen Lang|Jeff Daniels|Robert Duvall|Kevin ...  Ronald F. Maxwell   \n",
       "\n",
       "                                  tagline  \\\n",
       "1157  The nations heart was touched by...   \n",
       "\n",
       "                                               overview  runtime  \\\n",
       "1157  The film centers mostly around the personal an...      214   \n",
       "\n",
       "                 genres                production_companies release_date  \\\n",
       "1157  Drama|History|War  Turner Pictures|Antietam Filmworks    2/21/2003   \n",
       "\n",
       "      vote_average  release_year  \n",
       "1157           5.8          2003  "
      ]
     },
     "execution_count": 31,
     "metadata": {},
     "output_type": "execute_result"
    }
   ],
   "source": [
    "data.sort_values('runtime', ascending = False).head(1)"
   ]
  },
  {
   "cell_type": "markdown",
   "metadata": {
    "colab_type": "text",
    "id": "bapLlpW8Vp-k"
   },
   "source": [
    "# 3. Какой из фильмов самый короткий (в минутах)?\n",
    "\n",
    "\n",
    "\n"
   ]
  },
  {
   "cell_type": "code",
   "execution_count": 32,
   "metadata": {
    "colab": {},
    "colab_type": "code",
    "id": "YBxaSHuAVp-l",
    "scrolled": false
   },
   "outputs": [
    {
     "data": {
      "text/html": [
       "<div>\n",
       "<style scoped>\n",
       "    .dataframe tbody tr th:only-of-type {\n",
       "        vertical-align: middle;\n",
       "    }\n",
       "\n",
       "    .dataframe tbody tr th {\n",
       "        vertical-align: top;\n",
       "    }\n",
       "\n",
       "    .dataframe thead th {\n",
       "        text-align: right;\n",
       "    }\n",
       "</style>\n",
       "<table border=\"1\" class=\"dataframe\">\n",
       "  <thead>\n",
       "    <tr style=\"text-align: right;\">\n",
       "      <th></th>\n",
       "      <th>imdb_id</th>\n",
       "      <th>budget</th>\n",
       "      <th>revenue</th>\n",
       "      <th>original_title</th>\n",
       "      <th>cast</th>\n",
       "      <th>director</th>\n",
       "      <th>tagline</th>\n",
       "      <th>overview</th>\n",
       "      <th>runtime</th>\n",
       "      <th>genres</th>\n",
       "      <th>production_companies</th>\n",
       "      <th>release_date</th>\n",
       "      <th>vote_average</th>\n",
       "      <th>release_year</th>\n",
       "    </tr>\n",
       "  </thead>\n",
       "  <tbody>\n",
       "    <tr>\n",
       "      <th>768</th>\n",
       "      <td>tt1449283</td>\n",
       "      <td>30000000</td>\n",
       "      <td>14460000</td>\n",
       "      <td>Winnie the Pooh</td>\n",
       "      <td>Jim Cummings|Travis Oates|Jim Cummings|Bud Luc...</td>\n",
       "      <td>Stephen Anderson|Don Hall</td>\n",
       "      <td>Oh Pooh.</td>\n",
       "      <td>During an ordinary day in Hundred Acre Wood, W...</td>\n",
       "      <td>63</td>\n",
       "      <td>Animation|Family</td>\n",
       "      <td>Walt Disney Pictures|Walt Disney Animation Stu...</td>\n",
       "      <td>4/13/2011</td>\n",
       "      <td>6.8</td>\n",
       "      <td>2011</td>\n",
       "    </tr>\n",
       "  </tbody>\n",
       "</table>\n",
       "</div>"
      ],
      "text/plain": [
       "       imdb_id    budget   revenue   original_title  \\\n",
       "768  tt1449283  30000000  14460000  Winnie the Pooh   \n",
       "\n",
       "                                                  cast  \\\n",
       "768  Jim Cummings|Travis Oates|Jim Cummings|Bud Luc...   \n",
       "\n",
       "                      director   tagline  \\\n",
       "768  Stephen Anderson|Don Hall  Oh Pooh.   \n",
       "\n",
       "                                              overview  runtime  \\\n",
       "768  During an ordinary day in Hundred Acre Wood, W...       63   \n",
       "\n",
       "               genres                               production_companies  \\\n",
       "768  Animation|Family  Walt Disney Pictures|Walt Disney Animation Stu...   \n",
       "\n",
       "    release_date  vote_average  release_year  \n",
       "768    4/13/2011           6.8          2011  "
      ]
     },
     "execution_count": 32,
     "metadata": {},
     "output_type": "execute_result"
    }
   ],
   "source": [
    "data.sort_values('runtime').head(1)"
   ]
  },
  {
   "cell_type": "code",
   "execution_count": 34,
   "metadata": {},
   "outputs": [],
   "source": [
    "answers['3'] = 'Winnie the Pooh (tt1449283)'"
   ]
  },
  {
   "cell_type": "markdown",
   "metadata": {
    "colab_type": "text",
    "id": "TfQbxbfNVp-p"
   },
   "source": [
    "# 4. Какова средняя длительность фильмов?\n"
   ]
  },
  {
   "cell_type": "code",
   "execution_count": 35,
   "metadata": {
    "colab": {},
    "colab_type": "code",
    "id": "5K6dKZYVVp-q"
   },
   "outputs": [
    {
     "data": {
      "text/plain": [
       "109.6585494970884"
      ]
     },
     "execution_count": 35,
     "metadata": {},
     "output_type": "execute_result"
    }
   ],
   "source": [
    "data['runtime'].mean()"
   ]
  },
  {
   "cell_type": "markdown",
   "metadata": {
    "colab_type": "text",
    "id": "r5TvbnT_Vp-u"
   },
   "source": [
    "# 5. Каково медианное значение длительности фильмов? "
   ]
  },
  {
   "cell_type": "code",
   "execution_count": 36,
   "metadata": {
    "colab": {},
    "colab_type": "code",
    "id": "iBROplKnVp-v"
   },
   "outputs": [
    {
     "data": {
      "text/plain": [
       "107.0"
      ]
     },
     "execution_count": 36,
     "metadata": {},
     "output_type": "execute_result"
    }
   ],
   "source": [
    "data['runtime'].median()"
   ]
  },
  {
   "cell_type": "markdown",
   "metadata": {
    "colab_type": "text",
    "id": "39P-deDSVp-y"
   },
   "source": [
    "# 6. Какой самый прибыльный фильм?\n",
    "#### Внимание! Здесь и далее под «прибылью» или «убытками» понимается разность между сборами и бюджетом фильма. (прибыль = сборы - бюджет) в нашем датасете это будет (profit = revenue - budget) "
   ]
  },
  {
   "cell_type": "code",
   "execution_count": 57,
   "metadata": {
    "colab": {},
    "colab_type": "code",
    "id": "UYZh4T9WVp-y"
   },
   "outputs": [
    {
     "data": {
      "text/html": [
       "<div>\n",
       "<style scoped>\n",
       "    .dataframe tbody tr th:only-of-type {\n",
       "        vertical-align: middle;\n",
       "    }\n",
       "\n",
       "    .dataframe tbody tr th {\n",
       "        vertical-align: top;\n",
       "    }\n",
       "\n",
       "    .dataframe thead th {\n",
       "        text-align: right;\n",
       "    }\n",
       "</style>\n",
       "<table border=\"1\" class=\"dataframe\">\n",
       "  <thead>\n",
       "    <tr style=\"text-align: right;\">\n",
       "      <th></th>\n",
       "      <th>imdb_id</th>\n",
       "      <th>budget</th>\n",
       "      <th>revenue</th>\n",
       "      <th>original_title</th>\n",
       "      <th>cast</th>\n",
       "      <th>director</th>\n",
       "      <th>tagline</th>\n",
       "      <th>overview</th>\n",
       "      <th>runtime</th>\n",
       "      <th>genres</th>\n",
       "      <th>production_companies</th>\n",
       "      <th>release_date</th>\n",
       "      <th>vote_average</th>\n",
       "      <th>release_year</th>\n",
       "      <th>profit</th>\n",
       "    </tr>\n",
       "  </thead>\n",
       "  <tbody>\n",
       "    <tr>\n",
       "      <th>239</th>\n",
       "      <td>tt0499549</td>\n",
       "      <td>237000000</td>\n",
       "      <td>2781505847</td>\n",
       "      <td>Avatar</td>\n",
       "      <td>Sam Worthington|Zoe Saldana|Sigourney Weaver|S...</td>\n",
       "      <td>James Cameron</td>\n",
       "      <td>Enter the World of Pandora.</td>\n",
       "      <td>In the 22nd century, a paraplegic Marine is di...</td>\n",
       "      <td>162</td>\n",
       "      <td>Action|Adventure|Fantasy|Science Fiction</td>\n",
       "      <td>Ingenious Film Partners|Twentieth Century Fox ...</td>\n",
       "      <td>12/10/2009</td>\n",
       "      <td>7.1</td>\n",
       "      <td>2009</td>\n",
       "      <td>2544505847</td>\n",
       "    </tr>\n",
       "  </tbody>\n",
       "</table>\n",
       "</div>"
      ],
      "text/plain": [
       "       imdb_id     budget     revenue original_title  \\\n",
       "239  tt0499549  237000000  2781505847         Avatar   \n",
       "\n",
       "                                                  cast       director  \\\n",
       "239  Sam Worthington|Zoe Saldana|Sigourney Weaver|S...  James Cameron   \n",
       "\n",
       "                         tagline  \\\n",
       "239  Enter the World of Pandora.   \n",
       "\n",
       "                                              overview  runtime  \\\n",
       "239  In the 22nd century, a paraplegic Marine is di...      162   \n",
       "\n",
       "                                       genres  \\\n",
       "239  Action|Adventure|Fantasy|Science Fiction   \n",
       "\n",
       "                                  production_companies release_date  \\\n",
       "239  Ingenious Film Partners|Twentieth Century Fox ...   12/10/2009   \n",
       "\n",
       "     vote_average  release_year      profit  \n",
       "239           7.1          2009  2544505847  "
      ]
     },
     "execution_count": 57,
     "metadata": {},
     "output_type": "execute_result"
    }
   ],
   "source": [
    "data.sort_values('profit', ascending=False).head(1)"
   ]
  },
  {
   "cell_type": "markdown",
   "metadata": {
    "colab_type": "text",
    "id": "M99JmIX4Vp-2"
   },
   "source": [
    "# 7. Какой фильм самый убыточный? "
   ]
  },
  {
   "cell_type": "code",
   "execution_count": 58,
   "metadata": {
    "colab": {},
    "colab_type": "code",
    "id": "w-D2m4XPVp-3"
   },
   "outputs": [
    {
     "data": {
      "text/html": [
       "<div>\n",
       "<style scoped>\n",
       "    .dataframe tbody tr th:only-of-type {\n",
       "        vertical-align: middle;\n",
       "    }\n",
       "\n",
       "    .dataframe tbody tr th {\n",
       "        vertical-align: top;\n",
       "    }\n",
       "\n",
       "    .dataframe thead th {\n",
       "        text-align: right;\n",
       "    }\n",
       "</style>\n",
       "<table border=\"1\" class=\"dataframe\">\n",
       "  <thead>\n",
       "    <tr style=\"text-align: right;\">\n",
       "      <th></th>\n",
       "      <th>imdb_id</th>\n",
       "      <th>budget</th>\n",
       "      <th>revenue</th>\n",
       "      <th>original_title</th>\n",
       "      <th>cast</th>\n",
       "      <th>director</th>\n",
       "      <th>tagline</th>\n",
       "      <th>overview</th>\n",
       "      <th>runtime</th>\n",
       "      <th>genres</th>\n",
       "      <th>production_companies</th>\n",
       "      <th>release_date</th>\n",
       "      <th>vote_average</th>\n",
       "      <th>release_year</th>\n",
       "      <th>profit</th>\n",
       "    </tr>\n",
       "  </thead>\n",
       "  <tbody>\n",
       "    <tr>\n",
       "      <th>1245</th>\n",
       "      <td>tt1210819</td>\n",
       "      <td>255000000</td>\n",
       "      <td>89289910</td>\n",
       "      <td>The Lone Ranger</td>\n",
       "      <td>Johnny Depp|Armie Hammer|William Fichtner|Hele...</td>\n",
       "      <td>Gore Verbinski</td>\n",
       "      <td>Never Take Off the Mask</td>\n",
       "      <td>The Texas Rangers chase down a gang of outlaws...</td>\n",
       "      <td>149</td>\n",
       "      <td>Action|Adventure|Western</td>\n",
       "      <td>Walt Disney Pictures|Jerry Bruckheimer Films|I...</td>\n",
       "      <td>7/3/2013</td>\n",
       "      <td>6.0</td>\n",
       "      <td>2013</td>\n",
       "      <td>-165710090</td>\n",
       "    </tr>\n",
       "  </tbody>\n",
       "</table>\n",
       "</div>"
      ],
      "text/plain": [
       "        imdb_id     budget   revenue   original_title  \\\n",
       "1245  tt1210819  255000000  89289910  The Lone Ranger   \n",
       "\n",
       "                                                   cast        director  \\\n",
       "1245  Johnny Depp|Armie Hammer|William Fichtner|Hele...  Gore Verbinski   \n",
       "\n",
       "                      tagline  \\\n",
       "1245  Never Take Off the Mask   \n",
       "\n",
       "                                               overview  runtime  \\\n",
       "1245  The Texas Rangers chase down a gang of outlaws...      149   \n",
       "\n",
       "                        genres  \\\n",
       "1245  Action|Adventure|Western   \n",
       "\n",
       "                                   production_companies release_date  \\\n",
       "1245  Walt Disney Pictures|Jerry Bruckheimer Films|I...     7/3/2013   \n",
       "\n",
       "      vote_average  release_year     profit  \n",
       "1245           6.0          2013 -165710090  "
      ]
     },
     "execution_count": 58,
     "metadata": {},
     "output_type": "execute_result"
    }
   ],
   "source": [
    "data.sort_values('profit').head(1)"
   ]
  },
  {
   "cell_type": "markdown",
   "metadata": {
    "colab_type": "text",
    "id": "wEOM5ERVVp-6"
   },
   "source": [
    "# 8. У скольких фильмов из датасета объем сборов оказался выше бюджета?"
   ]
  },
  {
   "cell_type": "code",
   "execution_count": 60,
   "metadata": {
    "colab": {},
    "colab_type": "code",
    "id": "y00_7HD6Vp-7",
    "scrolled": true
   },
   "outputs": [
    {
     "data": {
      "text/plain": [
       "imdb_id                 1478\n",
       "budget                  1478\n",
       "revenue                 1478\n",
       "original_title          1478\n",
       "cast                    1478\n",
       "director                1478\n",
       "tagline                 1478\n",
       "overview                1478\n",
       "runtime                 1478\n",
       "genres                  1478\n",
       "production_companies    1478\n",
       "release_date            1478\n",
       "vote_average            1478\n",
       "release_year            1478\n",
       "profit                  1478\n",
       "dtype: int64"
      ]
     },
     "execution_count": 60,
     "metadata": {},
     "output_type": "execute_result"
    }
   ],
   "source": [
    "data[(data['revenue']>data['budget'])].count()"
   ]
  },
  {
   "cell_type": "code",
   "execution_count": 61,
   "metadata": {},
   "outputs": [
    {
     "data": {
      "text/plain": [
       "imdb_id                 1478\n",
       "budget                  1478\n",
       "revenue                 1478\n",
       "original_title          1478\n",
       "cast                    1478\n",
       "director                1478\n",
       "tagline                 1478\n",
       "overview                1478\n",
       "runtime                 1478\n",
       "genres                  1478\n",
       "production_companies    1478\n",
       "release_date            1478\n",
       "vote_average            1478\n",
       "release_year            1478\n",
       "profit                  1478\n",
       "dtype: int64"
      ]
     },
     "execution_count": 61,
     "metadata": {},
     "output_type": "execute_result"
    }
   ],
   "source": [
    "data[(data['profit']>0)].count()"
   ]
  },
  {
   "cell_type": "markdown",
   "metadata": {
    "colab_type": "text",
    "id": "xhpspA9KVp_A"
   },
   "source": [
    "# 9. Какой фильм оказался самым кассовым в 2008 году?"
   ]
  },
  {
   "cell_type": "code",
   "execution_count": 66,
   "metadata": {
    "colab": {},
    "colab_type": "code",
    "id": "MoUyQr9RVp_B"
   },
   "outputs": [
    {
     "data": {
      "text/html": [
       "<div>\n",
       "<style scoped>\n",
       "    .dataframe tbody tr th:only-of-type {\n",
       "        vertical-align: middle;\n",
       "    }\n",
       "\n",
       "    .dataframe tbody tr th {\n",
       "        vertical-align: top;\n",
       "    }\n",
       "\n",
       "    .dataframe thead th {\n",
       "        text-align: right;\n",
       "    }\n",
       "</style>\n",
       "<table border=\"1\" class=\"dataframe\">\n",
       "  <thead>\n",
       "    <tr style=\"text-align: right;\">\n",
       "      <th></th>\n",
       "      <th>imdb_id</th>\n",
       "      <th>budget</th>\n",
       "      <th>revenue</th>\n",
       "      <th>original_title</th>\n",
       "      <th>cast</th>\n",
       "      <th>director</th>\n",
       "      <th>tagline</th>\n",
       "      <th>overview</th>\n",
       "      <th>runtime</th>\n",
       "      <th>genres</th>\n",
       "      <th>production_companies</th>\n",
       "      <th>release_date</th>\n",
       "      <th>vote_average</th>\n",
       "      <th>release_year</th>\n",
       "      <th>profit</th>\n",
       "    </tr>\n",
       "  </thead>\n",
       "  <tbody>\n",
       "    <tr>\n",
       "      <th>599</th>\n",
       "      <td>tt0468569</td>\n",
       "      <td>185000000</td>\n",
       "      <td>1001921825</td>\n",
       "      <td>The Dark Knight</td>\n",
       "      <td>Christian Bale|Michael Caine|Heath Ledger|Aaro...</td>\n",
       "      <td>Christopher Nolan</td>\n",
       "      <td>Why So Serious?</td>\n",
       "      <td>Batman raises the stakes in his war on crime. ...</td>\n",
       "      <td>152</td>\n",
       "      <td>Drama|Action|Crime|Thriller</td>\n",
       "      <td>DC Comics|Legendary Pictures|Warner Bros.|Syncopy</td>\n",
       "      <td>7/16/2008</td>\n",
       "      <td>8.1</td>\n",
       "      <td>2008</td>\n",
       "      <td>816921825</td>\n",
       "    </tr>\n",
       "  </tbody>\n",
       "</table>\n",
       "</div>"
      ],
      "text/plain": [
       "       imdb_id     budget     revenue   original_title  \\\n",
       "599  tt0468569  185000000  1001921825  The Dark Knight   \n",
       "\n",
       "                                                  cast           director  \\\n",
       "599  Christian Bale|Michael Caine|Heath Ledger|Aaro...  Christopher Nolan   \n",
       "\n",
       "             tagline                                           overview  \\\n",
       "599  Why So Serious?  Batman raises the stakes in his war on crime. ...   \n",
       "\n",
       "     runtime                       genres  \\\n",
       "599      152  Drama|Action|Crime|Thriller   \n",
       "\n",
       "                                  production_companies release_date  \\\n",
       "599  DC Comics|Legendary Pictures|Warner Bros.|Syncopy    7/16/2008   \n",
       "\n",
       "     vote_average  release_year     profit  \n",
       "599           8.1          2008  816921825  "
      ]
     },
     "execution_count": 66,
     "metadata": {},
     "output_type": "execute_result"
    }
   ],
   "source": [
    "data_2008 = data[(data['release_year']==2008)]\n",
    "data_2008[(data_2008['revenue'] == data_2008['revenue'].max())]"
   ]
  },
  {
   "cell_type": "markdown",
   "metadata": {
    "colab_type": "text",
    "id": "Zi4hDKidVp_F"
   },
   "source": [
    "# 10. Самый убыточный фильм за период с 2012 по 2014 г. (включительно)?\n"
   ]
  },
  {
   "cell_type": "code",
   "execution_count": 69,
   "metadata": {
    "colab": {},
    "colab_type": "code",
    "id": "XqyRmufJVp_F"
   },
   "outputs": [
    {
     "data": {
      "text/html": [
       "<div>\n",
       "<style scoped>\n",
       "    .dataframe tbody tr th:only-of-type {\n",
       "        vertical-align: middle;\n",
       "    }\n",
       "\n",
       "    .dataframe tbody tr th {\n",
       "        vertical-align: top;\n",
       "    }\n",
       "\n",
       "    .dataframe thead th {\n",
       "        text-align: right;\n",
       "    }\n",
       "</style>\n",
       "<table border=\"1\" class=\"dataframe\">\n",
       "  <thead>\n",
       "    <tr style=\"text-align: right;\">\n",
       "      <th></th>\n",
       "      <th>imdb_id</th>\n",
       "      <th>budget</th>\n",
       "      <th>revenue</th>\n",
       "      <th>original_title</th>\n",
       "      <th>cast</th>\n",
       "      <th>director</th>\n",
       "      <th>tagline</th>\n",
       "      <th>overview</th>\n",
       "      <th>runtime</th>\n",
       "      <th>genres</th>\n",
       "      <th>production_companies</th>\n",
       "      <th>release_date</th>\n",
       "      <th>vote_average</th>\n",
       "      <th>release_year</th>\n",
       "      <th>profit</th>\n",
       "    </tr>\n",
       "  </thead>\n",
       "  <tbody>\n",
       "    <tr>\n",
       "      <th>1245</th>\n",
       "      <td>tt1210819</td>\n",
       "      <td>255000000</td>\n",
       "      <td>89289910</td>\n",
       "      <td>The Lone Ranger</td>\n",
       "      <td>Johnny Depp|Armie Hammer|William Fichtner|Hele...</td>\n",
       "      <td>Gore Verbinski</td>\n",
       "      <td>Never Take Off the Mask</td>\n",
       "      <td>The Texas Rangers chase down a gang of outlaws...</td>\n",
       "      <td>149</td>\n",
       "      <td>Action|Adventure|Western</td>\n",
       "      <td>Walt Disney Pictures|Jerry Bruckheimer Films|I...</td>\n",
       "      <td>7/3/2013</td>\n",
       "      <td>6.0</td>\n",
       "      <td>2013</td>\n",
       "      <td>-165710090</td>\n",
       "    </tr>\n",
       "  </tbody>\n",
       "</table>\n",
       "</div>"
      ],
      "text/plain": [
       "        imdb_id     budget   revenue   original_title  \\\n",
       "1245  tt1210819  255000000  89289910  The Lone Ranger   \n",
       "\n",
       "                                                   cast        director  \\\n",
       "1245  Johnny Depp|Armie Hammer|William Fichtner|Hele...  Gore Verbinski   \n",
       "\n",
       "                      tagline  \\\n",
       "1245  Never Take Off the Mask   \n",
       "\n",
       "                                               overview  runtime  \\\n",
       "1245  The Texas Rangers chase down a gang of outlaws...      149   \n",
       "\n",
       "                        genres  \\\n",
       "1245  Action|Adventure|Western   \n",
       "\n",
       "                                   production_companies release_date  \\\n",
       "1245  Walt Disney Pictures|Jerry Bruckheimer Films|I...     7/3/2013   \n",
       "\n",
       "      vote_average  release_year     profit  \n",
       "1245           6.0          2013 -165710090  "
      ]
     },
     "execution_count": 69,
     "metadata": {},
     "output_type": "execute_result"
    }
   ],
   "source": [
    "data_1214 = data[(data['release_year']>=2012)&(data['release_year']<=2014)]\n",
    "data_1214[(data_1214['profit'] == data_1214['profit'].min())]"
   ]
  },
  {
   "cell_type": "markdown",
   "metadata": {
    "colab_type": "text",
    "id": "EA7Sa9dkVp_I"
   },
   "source": [
    "# 11. Какого жанра фильмов больше всего?"
   ]
  },
  {
   "cell_type": "code",
   "execution_count": 82,
   "metadata": {
    "colab": {},
    "colab_type": "code",
    "id": "zsJAwJ8QVp_J"
   },
   "outputs": [
    {
     "data": {
      "text/plain": [
       "[('Drama', 782),\n",
       " ('Comedy', 683),\n",
       " ('Thriller', 596),\n",
       " ('Action', 582),\n",
       " ('Adventure', 415)]"
      ]
     },
     "execution_count": 82,
     "metadata": {},
     "output_type": "execute_result"
    }
   ],
   "source": [
    "# эту задачу тоже можно решать разными подходами, попробуй реализовать разные варианты\n",
    "Counter(data.explode('genres')['genres']).most_common(5)\n",
    "# если будешь добавлять функцию - выноси ее в предобработку что в начале"
   ]
  },
  {
   "cell_type": "markdown",
   "metadata": {
    "colab_type": "text",
    "id": "Ax6g2C8SVp_M"
   },
   "source": [
    "ВАРИАНТ 2"
   ]
  },
  {
   "cell_type": "code",
   "execution_count": 94,
   "metadata": {
    "colab": {},
    "colab_type": "code",
    "id": "otO3SbrSVp_N"
   },
   "outputs": [
    {
     "name": "stdout",
     "output_type": "stream",
     "text": [
      "Drama    782\n",
      "dtype: int64\n"
     ]
    }
   ],
   "source": [
    "genres_dict = {}\n",
    "data['genres'].apply(genres_count)\n",
    "genres_series = pd.Series(genres_dict).sort_values(ascending=False)\n",
    "print(genres_series.head(1))"
   ]
  },
  {
   "cell_type": "markdown",
   "metadata": {
    "colab_type": "text",
    "id": "T9_bPWpkVp_Q"
   },
   "source": [
    "# 12. Фильмы какого жанра чаще всего становятся прибыльными? "
   ]
  },
  {
   "cell_type": "code",
   "execution_count": 183,
   "metadata": {
    "colab": {},
    "colab_type": "code",
    "id": "Tmt8MaK1Vp_R"
   },
   "outputs": [
    {
     "data": {
      "text/plain": [
       "Drama              560\n",
       "Comedy             551\n",
       "Thriller           446\n",
       "Action             444\n",
       "Adventure          337\n",
       "Romance            242\n",
       "Crime              231\n",
       "Family             226\n",
       "Science Fiction    195\n",
       "Fantasy            188\n",
       "Horror             150\n",
       "Animation          120\n",
       "Mystery            119\n",
       "Music               47\n",
       "History             46\n",
       "War                 41\n",
       "Western             12\n",
       "Documentary          7\n",
       "Name: genres, dtype: int64"
      ]
     },
     "execution_count": 183,
     "metadata": {},
     "output_type": "execute_result"
    }
   ],
   "source": [
    "# data.loc[data['profit'] > 0].sort_values(by='genres')\n",
    "# data.groupby(['profit'])['genres'].count().sort_values(ascending = False)\n",
    "data_profit_genres = data.explode('genres')\n",
    "data_profit_genres = data_profit_genres.loc[data['profit']>0]\n",
    "data_profit_genres['genres'].value_counts()\n",
    "# data_profit_genres.groupby(['genres'])['genres'].count()\n"
   ]
  },
  {
   "cell_type": "markdown",
   "metadata": {
    "colab_type": "text",
    "id": "0F23bgsDVp_U"
   },
   "source": [
    "# 13. У какого режиссера самые большие суммарные кассовые сбооры?"
   ]
  },
  {
   "cell_type": "code",
   "execution_count": 145,
   "metadata": {
    "colab": {},
    "colab_type": "code",
    "id": "K6Z3J8ygVp_X"
   },
   "outputs": [
    {
     "data": {
      "text/plain": [
       "director\n",
       "Peter Jackson        6490593685\n",
       "Christopher Nolan    4167548502\n",
       "David Yates          4154295625\n",
       "Michael Bay          3886938960\n",
       "J.J. Abrams          3579169916\n",
       "                        ...    \n",
       "David MichÃ´d           2295423\n",
       "Steven Shainberg        2281089\n",
       "Paul Schrader           2062066\n",
       "Keanu Reeves            2054941\n",
       "Simon Hunter            2033165\n",
       "Name: revenue, Length: 997, dtype: int64"
      ]
     },
     "execution_count": 145,
     "metadata": {},
     "output_type": "execute_result"
    }
   ],
   "source": [
    "data_director=data.explode('director')\n",
    "data_director.groupby(['director'])['revenue'].sum().sort_values(ascending = False)"
   ]
  },
  {
   "cell_type": "markdown",
   "metadata": {
    "colab_type": "text",
    "id": "PsYC9FgRVp_a"
   },
   "source": [
    "# 14. Какой режисер снял больше всего фильмов в стиле Action?"
   ]
  },
  {
   "cell_type": "code",
   "execution_count": 153,
   "metadata": {
    "colab": {},
    "colab_type": "code",
    "id": "wd2M-wHeVp_b"
   },
   "outputs": [
    {
     "data": {
      "text/plain": [
       "director\n",
       "Robert Rodriguez      9\n",
       "Paul W.S. Anderson    7\n",
       "Michael Bay           7\n",
       "Ridley Scott          6\n",
       "Antoine Fuqua         6\n",
       "                     ..\n",
       "Joe Cornish           1\n",
       "Roger Spottiswoode    1\n",
       "Jimmy Hayward         1\n",
       "Jim Gillespie         1\n",
       "Jon Avnet             1\n",
       "Name: genres, Length: 364, dtype: int64"
      ]
     },
     "execution_count": 153,
     "metadata": {},
     "output_type": "execute_result"
    }
   ],
   "source": [
    "data_action = data_director.explode('genres')\n",
    "# display(data_action)\n",
    "data_action = data_action[data_action['genres']=='Action']\n",
    "# display(data_action)\n",
    "data_action.groupby(['director'])['genres'].count().sort_values(ascending=False)"
   ]
  },
  {
   "cell_type": "markdown",
   "metadata": {
    "colab_type": "text",
    "id": "PQ0KciD7Vp_f"
   },
   "source": [
    "# 15. Фильмы с каким актером принесли самые высокие кассовые сборы в 2012 году? "
   ]
  },
  {
   "cell_type": "code",
   "execution_count": 168,
   "metadata": {
    "colab": {},
    "colab_type": "code",
    "id": "aga62oeKVp_g"
   },
   "outputs": [
    {
     "data": {
      "text/plain": [
       "cast\n",
       "Chris Hemsworth      2027450773\n",
       "Denis Leary          1629460639\n",
       "Anne Hathaway        1522851057\n",
       "Chris Evans          1519557910\n",
       "Robert Downey Jr.    1519557910\n",
       "                        ...    \n",
       "Jason Bateman           3428048\n",
       "Danny Huston            2106557\n",
       "Sami Gayle              2106557\n",
       "Josh Lucas              2106557\n",
       "Nicolas Cage            2106557\n",
       "Name: revenue, Length: 466, dtype: int64"
      ]
     },
     "execution_count": 168,
     "metadata": {},
     "output_type": "execute_result"
    }
   ],
   "source": [
    "data_cast = data.explode('cast')\n",
    "data_cast_12 = data_cast[data_cast['release_year'] == 2012]\n",
    "data_cast_12.groupby(['cast'])['revenue'].sum().sort_values(ascending=False)\n"
   ]
  },
  {
   "cell_type": "markdown",
   "metadata": {
    "colab_type": "text",
    "id": "mWHyyL7QVp_j"
   },
   "source": [
    "# 16. Какой актер снялся в большем количестве высокобюджетных фильмов?"
   ]
  },
  {
   "cell_type": "code",
   "execution_count": 169,
   "metadata": {
    "colab": {},
    "colab_type": "code",
    "id": "qQtmHKTFVp_k"
   },
   "outputs": [
    {
     "data": {
      "text/plain": [
       "Matt Damon            18\n",
       "Adam Sandler          17\n",
       "Angelina Jolie        16\n",
       "Samuel L. Jackson     15\n",
       "Tom Cruise            15\n",
       "                      ..\n",
       "Cameron Richardson     1\n",
       "Miranda Cosgrove       1\n",
       "Armin Rohde            1\n",
       "Lauren Holly           1\n",
       "David Krumholtz        1\n",
       "Name: cast, Length: 1505, dtype: int64"
      ]
     },
     "execution_count": 169,
     "metadata": {},
     "output_type": "execute_result"
    }
   ],
   "source": [
    "data_cast.loc[data_cast['budget']> data_cast['budget'].mean()]['cast'].value_counts(ascending=False)"
   ]
  },
  {
   "cell_type": "markdown",
   "metadata": {
    "colab_type": "text",
    "id": "NIh6AaW5Vp_n"
   },
   "source": [
    "# 17. В фильмах какого жанра больше всего снимался Nicolas Cage? "
   ]
  },
  {
   "cell_type": "code",
   "execution_count": 182,
   "metadata": {
    "colab": {},
    "colab_type": "code",
    "id": "H74SJDIBVp_n"
   },
   "outputs": [
    {
     "data": {
      "text/plain": [
       "Action             17\n",
       "Thriller           15\n",
       "Drama              12\n",
       "Crime              10\n",
       "Fantasy             8\n",
       "Adventure           7\n",
       "Comedy              6\n",
       "Science Fiction     4\n",
       "Mystery             3\n",
       "Animation           3\n",
       "Family              3\n",
       "History             2\n",
       "Romance             1\n",
       "Horror              1\n",
       "War                 1\n",
       "Name: genres, dtype: int64"
      ]
     },
     "execution_count": 182,
     "metadata": {},
     "output_type": "execute_result"
    }
   ],
   "source": [
    "data_nicolas = data_cast.explode('genres')\n",
    "data_nicolas = data_nicolas[data_nicolas['cast']=='Nicolas Cage']\n",
    "# display(data_nicolas)\n",
    "data_nicolas['genres'].value_counts()"
   ]
  },
  {
   "cell_type": "markdown",
   "metadata": {
    "colab_type": "text",
    "id": "RqOmPRfWVp_q"
   },
   "source": [
    "# 18. Самый убыточный фильм от Paramount Pictures"
   ]
  },
  {
   "cell_type": "code",
   "execution_count": 187,
   "metadata": {
    "colab": {},
    "colab_type": "code",
    "id": "9E_B0Y96Vp_r"
   },
   "outputs": [
    {
     "data": {
      "text/html": [
       "<div>\n",
       "<style scoped>\n",
       "    .dataframe tbody tr th:only-of-type {\n",
       "        vertical-align: middle;\n",
       "    }\n",
       "\n",
       "    .dataframe tbody tr th {\n",
       "        vertical-align: top;\n",
       "    }\n",
       "\n",
       "    .dataframe thead th {\n",
       "        text-align: right;\n",
       "    }\n",
       "</style>\n",
       "<table border=\"1\" class=\"dataframe\">\n",
       "  <thead>\n",
       "    <tr style=\"text-align: right;\">\n",
       "      <th></th>\n",
       "      <th>imdb_id</th>\n",
       "      <th>budget</th>\n",
       "      <th>revenue</th>\n",
       "      <th>original_title</th>\n",
       "      <th>cast</th>\n",
       "      <th>director</th>\n",
       "      <th>tagline</th>\n",
       "      <th>overview</th>\n",
       "      <th>runtime</th>\n",
       "      <th>genres</th>\n",
       "      <th>production_companies</th>\n",
       "      <th>release_date</th>\n",
       "      <th>vote_average</th>\n",
       "      <th>release_year</th>\n",
       "      <th>profit</th>\n",
       "    </tr>\n",
       "  </thead>\n",
       "  <tbody>\n",
       "    <tr>\n",
       "      <th>925</th>\n",
       "      <td>tt0267626</td>\n",
       "      <td>100000000</td>\n",
       "      <td>35168966</td>\n",
       "      <td>K-19: The Widowmaker</td>\n",
       "      <td>[Harrison Ford, Liam Neeson, Peter Sarsgaard, ...</td>\n",
       "      <td>[Kathryn Bigelow]</td>\n",
       "      <td>Fate has found its hero.</td>\n",
       "      <td>When Russia's first nuclear submarine malfunct...</td>\n",
       "      <td>138</td>\n",
       "      <td>[Thriller, Drama, History]</td>\n",
       "      <td>Paramount Pictures</td>\n",
       "      <td>7/19/2002</td>\n",
       "      <td>6.0</td>\n",
       "      <td>2002</td>\n",
       "      <td>-64831034</td>\n",
       "    </tr>\n",
       "  </tbody>\n",
       "</table>\n",
       "</div>"
      ],
      "text/plain": [
       "       imdb_id     budget   revenue        original_title  \\\n",
       "925  tt0267626  100000000  35168966  K-19: The Widowmaker   \n",
       "\n",
       "                                                  cast           director  \\\n",
       "925  [Harrison Ford, Liam Neeson, Peter Sarsgaard, ...  [Kathryn Bigelow]   \n",
       "\n",
       "                      tagline  \\\n",
       "925  Fate has found its hero.   \n",
       "\n",
       "                                              overview  runtime  \\\n",
       "925  When Russia's first nuclear submarine malfunct...      138   \n",
       "\n",
       "                         genres production_companies release_date  \\\n",
       "925  [Thriller, Drama, History]   Paramount Pictures    7/19/2002   \n",
       "\n",
       "     vote_average  release_year    profit  \n",
       "925           6.0          2002 -64831034  "
      ]
     },
     "execution_count": 187,
     "metadata": {},
     "output_type": "execute_result"
    }
   ],
   "source": [
    "data.head(1)\n",
    "data_par = data.explode('production_companies')\n",
    "data_par = data_par[(data_par['production_companies'] == 'Paramount Pictures')]\n",
    "data_par[(data_par['profit'] == data_par['profit'].min())]"
   ]
  },
  {
   "cell_type": "markdown",
   "metadata": {
    "colab_type": "text",
    "id": "vS8Ur6ddVp_u"
   },
   "source": [
    "# 19. Какой год стал самым успешным по суммарным кассовым сборам?"
   ]
  },
  {
   "cell_type": "code",
   "execution_count": 193,
   "metadata": {
    "colab": {},
    "colab_type": "code",
    "id": "Dnbt4GdIVp_v"
   },
   "outputs": [
    {
     "data": {
      "text/plain": [
       "release_year\n",
       "2015    25449202382\n",
       "2014    23405862953\n",
       "2013    23213799791\n",
       "2012    23079001687\n",
       "2011    22676791872\n",
       "2010    21071204961\n",
       "2009    20261791024\n",
       "2008    18252781990\n",
       "2007    18162406801\n",
       "2004    15663430720\n",
       "2005    15309425558\n",
       "2006    14775042320\n",
       "2003    14346123312\n",
       "2002    14136361487\n",
       "2001    13017764865\n",
       "2000    10664099805\n",
       "Name: revenue, dtype: int64"
      ]
     },
     "execution_count": 193,
     "metadata": {},
     "output_type": "execute_result"
    }
   ],
   "source": [
    "data.groupby(['release_year'])['revenue'].sum().sort_values(ascending=False)"
   ]
  },
  {
   "cell_type": "markdown",
   "metadata": {
    "colab_type": "text",
    "id": "JAzJh4QAVp_z"
   },
   "source": [
    "# 20. Какой самый прибыльный год для студии Warner Bros?"
   ]
  },
  {
   "cell_type": "code",
   "execution_count": 347,
   "metadata": {
    "colab": {},
    "colab_type": "code",
    "id": "wgVu02DEVp_0",
    "scrolled": true
   },
   "outputs": [
    {
     "data": {
      "text/plain": [
       "release_year\n",
       "2014    2292949646\n",
       "Name: profit, dtype: int64"
      ]
     },
     "execution_count": 347,
     "metadata": {},
     "output_type": "execute_result"
    }
   ],
   "source": [
    "data_wb = data.explode('production_companies')\n",
    "warner_bros = []\n",
    "for company in data_wb['production_companies']:\n",
    "    if 'Warner Bros.' in company:\n",
    "        warner_bros.append(company)\n",
    "warner_bros = np.unique(warner_bros)\n",
    "warner_bros[0]\n",
    "data_wb = data_wb.loc[(data_wb['production_companies'].isin([warner_bros[0]]))|(data_wb['production_companies'].isin([warner_bros[1]]))|(data_wb['production_companies'].isin([warner_bros[2]])|(data_wb['production_companies'].isin([warner_bros[3]])))]\n",
    "data_wb.groupby(['release_year'])['profit'].sum().sort_values(ascending=False).head(1)"
   ]
  },
  {
   "cell_type": "markdown",
   "metadata": {
    "colab_type": "text",
    "id": "8Im1S2HRVp_4"
   },
   "source": [
    "# 21. В каком месяце за все годы суммарно вышло больше всего фильмов?"
   ]
  },
  {
   "cell_type": "code",
   "execution_count": 245,
   "metadata": {
    "colab": {},
    "colab_type": "code",
    "id": "lev6TH7gVp_4"
   },
   "outputs": [
    {
     "data": {
      "text/plain": [
       "release_month\n",
       "1     110\n",
       "10    186\n",
       "11    146\n",
       "12    190\n",
       "2     135\n",
       "3     156\n",
       "4     149\n",
       "5     140\n",
       "6     147\n",
       "7     142\n",
       "8     161\n",
       "9     227\n",
       "Name: original_title, dtype: int64"
      ]
     },
     "execution_count": 245,
     "metadata": {},
     "output_type": "execute_result"
    }
   ],
   "source": [
    "count_month = data.groupby(['release_month'])['original_title'].count()\n",
    "count_month.sort_values(ascending=False)\n"
   ]
  },
  {
   "cell_type": "markdown",
   "metadata": {
    "colab_type": "text",
    "id": "uAJsZ_NeVp_7"
   },
   "source": [
    "# 22. Сколько суммарно вышло фильмов летом? (за июнь, июль, август)"
   ]
  },
  {
   "cell_type": "code",
   "execution_count": 250,
   "metadata": {
    "colab": {},
    "colab_type": "code",
    "id": "Aa-hEREoVp_8"
   },
   "outputs": [
    {
     "data": {
      "text/plain": [
       "450"
      ]
     },
     "execution_count": 250,
     "metadata": {},
     "output_type": "execute_result"
    }
   ],
   "source": [
    "count_month['6']+count_month['7']+count_month['8']"
   ]
  },
  {
   "cell_type": "markdown",
   "metadata": {
    "colab_type": "text",
    "id": "G94ppOY1VqAA"
   },
   "source": [
    "# 23. Для какого режиссера зима – самое продуктивное время года? "
   ]
  },
  {
   "cell_type": "code",
   "execution_count": 261,
   "metadata": {
    "colab": {},
    "colab_type": "code",
    "id": "RhNTsamuVqAB"
   },
   "outputs": [
    {
     "data": {
      "text/plain": [
       "[Peter Jackson]                       7\n",
       "[Clint Eastwood]                      6\n",
       "[Steven Soderbergh]                   6\n",
       "[Shawn Levy]                          4\n",
       "[Nancy Meyers]                        4\n",
       "                                     ..\n",
       "[Paul Tibbitt]                        1\n",
       "[Florian Henckel von Donnersmarck]    1\n",
       "[Niki Caro]                           1\n",
       "[Mikael HÃ¥fstrÃ¶m]                   1\n",
       "[Guy Ferland]                         1\n",
       "Name: director, Length: 332, dtype: int64"
      ]
     },
     "execution_count": 261,
     "metadata": {},
     "output_type": "execute_result"
    }
   ],
   "source": [
    "winter = data.loc[data['release_month'].isin(['12','1','2'])]\n",
    "winter['director'].value_counts()"
   ]
  },
  {
   "cell_type": "markdown",
   "metadata": {
    "colab_type": "text",
    "id": "RBo0JVjVVqAF"
   },
   "source": [
    "# 24. Какая студия дает самые длинные названия своим фильмам по количеству символов?"
   ]
  },
  {
   "cell_type": "code",
   "execution_count": 271,
   "metadata": {
    "colab": {},
    "colab_type": "code",
    "id": "QRGS8L0iVqAG"
   },
   "outputs": [
    {
     "data": {
      "text/plain": [
       "production_companies\n",
       "Four By Two Productions       83.0\n",
       "Jim Henson Company, The       59.0\n",
       "Dos Corazones                 47.0\n",
       "Museum Canada Productions     46.0\n",
       "Polsky Films                  46.0\n",
       "                              ... \n",
       "Everest Entertainment          3.0\n",
       "Berlanti Productions           3.0\n",
       "XM2 Productions                2.0\n",
       "Ixtlan Productions             2.0\n",
       "Global Entertainment Group     2.0\n",
       "Name: leight_word, Length: 1771, dtype: float64"
      ]
     },
     "execution_count": 271,
     "metadata": {},
     "output_type": "execute_result"
    }
   ],
   "source": [
    "data_lw = data.explode('production_companies')\n",
    "data_lw['leight_word'] = data_lw['original_title'].apply(lambda x: len(x))\n",
    "data_lw.groupby(['production_companies'])['leight_word'].mean().sort_values(ascending=False)"
   ]
  },
  {
   "cell_type": "markdown",
   "metadata": {
    "colab_type": "text",
    "id": "9G0hbvR7VqAK"
   },
   "source": [
    "# 25. Описание фильмов какой студии в среднем самые длинные по количеству слов?"
   ]
  },
  {
   "cell_type": "code",
   "execution_count": 282,
   "metadata": {
    "colab": {},
    "colab_type": "code",
    "id": "Ge2GsLNxVqAK"
   },
   "outputs": [
    {
     "data": {
      "text/plain": [
       "production_companies\n",
       "Midnight Picture Show                    175.0\n",
       "Room 9 Entertainment                     161.0\n",
       "Heineken Branded Entertainment           161.0\n",
       "98 MPH Productions                       159.0\n",
       "Brookwell-McNamara Entertainment         156.0\n",
       "                                         ...  \n",
       "London Boulevard                          13.0\n",
       "Phantom Four                              13.0\n",
       "Henceforth                                13.0\n",
       "Empire Pictures                           11.0\n",
       "Motion Picture Corporation of America     11.0\n",
       "Name: count_word, Length: 1771, dtype: float64"
      ]
     },
     "execution_count": 282,
     "metadata": {},
     "output_type": "execute_result"
    }
   ],
   "source": [
    "data_lw['count_word'] = data_lw['overview'].apply(lambda x: len(x.split(' ')))\n",
    "data_lw.groupby(['production_companies'])['count_word'].mean().sort_values(ascending=False)\n",
    "# data_lw"
   ]
  },
  {
   "cell_type": "markdown",
   "metadata": {
    "colab_type": "text",
    "id": "FJ1AFt90VqAP"
   },
   "source": [
    "# 26. Какие фильмы входят в 1 процент лучших по рейтингу? \n",
    "по vote_average"
   ]
  },
  {
   "cell_type": "code",
   "execution_count": 296,
   "metadata": {
    "colab": {},
    "colab_type": "code",
    "id": "8qmJVq4CVqAQ",
    "scrolled": false
   },
   "outputs": [
    {
     "data": {
      "text/html": [
       "<div>\n",
       "<style scoped>\n",
       "    .dataframe tbody tr th:only-of-type {\n",
       "        vertical-align: middle;\n",
       "    }\n",
       "\n",
       "    .dataframe tbody tr th {\n",
       "        vertical-align: top;\n",
       "    }\n",
       "\n",
       "    .dataframe thead th {\n",
       "        text-align: right;\n",
       "    }\n",
       "</style>\n",
       "<table border=\"1\" class=\"dataframe\">\n",
       "  <thead>\n",
       "    <tr style=\"text-align: right;\">\n",
       "      <th></th>\n",
       "      <th>imdb_id</th>\n",
       "      <th>budget</th>\n",
       "      <th>revenue</th>\n",
       "      <th>original_title</th>\n",
       "      <th>cast</th>\n",
       "      <th>director</th>\n",
       "      <th>tagline</th>\n",
       "      <th>overview</th>\n",
       "      <th>runtime</th>\n",
       "      <th>genres</th>\n",
       "      <th>production_companies</th>\n",
       "      <th>release_date</th>\n",
       "      <th>vote_average</th>\n",
       "      <th>release_year</th>\n",
       "      <th>profit</th>\n",
       "      <th>release_month</th>\n",
       "    </tr>\n",
       "  </thead>\n",
       "  <tbody>\n",
       "    <tr>\n",
       "      <th>599</th>\n",
       "      <td>tt0468569</td>\n",
       "      <td>185000000</td>\n",
       "      <td>1001921825</td>\n",
       "      <td>The Dark Knight</td>\n",
       "      <td>[Christian Bale, Michael Caine, Heath Ledger, ...</td>\n",
       "      <td>[Christopher Nolan]</td>\n",
       "      <td>Why So Serious?</td>\n",
       "      <td>Batman raises the stakes in his war on crime. ...</td>\n",
       "      <td>152</td>\n",
       "      <td>[Drama, Action, Crime, Thriller]</td>\n",
       "      <td>[DC Comics, Legendary Pictures, Warner Bros., ...</td>\n",
       "      <td>[7, 16, 2008]</td>\n",
       "      <td>8.1</td>\n",
       "      <td>2008</td>\n",
       "      <td>816921825</td>\n",
       "      <td>7</td>\n",
       "    </tr>\n",
       "    <tr>\n",
       "      <th>118</th>\n",
       "      <td>tt0816692</td>\n",
       "      <td>165000000</td>\n",
       "      <td>621752480</td>\n",
       "      <td>Interstellar</td>\n",
       "      <td>[Matthew McConaughey, Jessica Chastain, Anne H...</td>\n",
       "      <td>[Christopher Nolan]</td>\n",
       "      <td>Mankind was born on Earth. It was never meant ...</td>\n",
       "      <td>Interstellar chronicles the adventures of a gr...</td>\n",
       "      <td>169</td>\n",
       "      <td>[Adventure, Drama, Science Fiction]</td>\n",
       "      <td>[Paramount Pictures, Legendary Pictures, Warne...</td>\n",
       "      <td>[11, 5, 2014]</td>\n",
       "      <td>8.0</td>\n",
       "      <td>2014</td>\n",
       "      <td>456752480</td>\n",
       "      <td>11</td>\n",
       "    </tr>\n",
       "    <tr>\n",
       "      <th>125</th>\n",
       "      <td>tt2084970</td>\n",
       "      <td>14000000</td>\n",
       "      <td>233555708</td>\n",
       "      <td>The Imitation Game</td>\n",
       "      <td>[Benedict Cumberbatch, Keira Knightley, Matthe...</td>\n",
       "      <td>[Morten Tyldum]</td>\n",
       "      <td>The true enigma was the man who cracked the code.</td>\n",
       "      <td>Based on the real life story of legendary cryp...</td>\n",
       "      <td>113</td>\n",
       "      <td>[History, Drama, Thriller, War]</td>\n",
       "      <td>[Black Bear Pictures, Bristol Automotive]</td>\n",
       "      <td>[11, 14, 2014]</td>\n",
       "      <td>8.0</td>\n",
       "      <td>2014</td>\n",
       "      <td>219555708</td>\n",
       "      <td>11</td>\n",
       "    </tr>\n",
       "    <tr>\n",
       "      <th>9</th>\n",
       "      <td>tt2096673</td>\n",
       "      <td>175000000</td>\n",
       "      <td>853708609</td>\n",
       "      <td>Inside Out</td>\n",
       "      <td>[Amy Poehler, Phyllis Smith, Richard Kind, Bil...</td>\n",
       "      <td>[Pete Docter]</td>\n",
       "      <td>Meet the little voices inside your head.</td>\n",
       "      <td>Growing up can be a bumpy road, and it's no ex...</td>\n",
       "      <td>94</td>\n",
       "      <td>[Comedy, Animation, Family]</td>\n",
       "      <td>[Walt Disney Pictures, Pixar Animation Studios...</td>\n",
       "      <td>[6, 9, 2015]</td>\n",
       "      <td>8.0</td>\n",
       "      <td>2015</td>\n",
       "      <td>678708609</td>\n",
       "      <td>6</td>\n",
       "    </tr>\n",
       "    <tr>\n",
       "      <th>34</th>\n",
       "      <td>tt3170832</td>\n",
       "      <td>6000000</td>\n",
       "      <td>35401758</td>\n",
       "      <td>Room</td>\n",
       "      <td>[Brie Larson, Jacob Tremblay, Joan Allen, Sean...</td>\n",
       "      <td>[Lenny Abrahamson]</td>\n",
       "      <td>Love knows no boundaries</td>\n",
       "      <td>Jack is a young boy of 5 years old who has liv...</td>\n",
       "      <td>117</td>\n",
       "      <td>[Drama, Thriller]</td>\n",
       "      <td>[Element Pictures, No Trace Camping, A24, Dupe...</td>\n",
       "      <td>[10, 16, 2015]</td>\n",
       "      <td>8.0</td>\n",
       "      <td>2015</td>\n",
       "      <td>29401758</td>\n",
       "      <td>10</td>\n",
       "    </tr>\n",
       "    <tr>\n",
       "      <th>1183</th>\n",
       "      <td>tt0993846</td>\n",
       "      <td>100000000</td>\n",
       "      <td>392000694</td>\n",
       "      <td>The Wolf of Wall Street</td>\n",
       "      <td>[Leonardo DiCaprio, Jonah Hill, Margot Robbie,...</td>\n",
       "      <td>[Martin Scorsese]</td>\n",
       "      <td>EARN. SPEND. PARTY.</td>\n",
       "      <td>A New York stockbroker refuses to cooperate in...</td>\n",
       "      <td>180</td>\n",
       "      <td>[Crime, Drama, Comedy]</td>\n",
       "      <td>[Paramount Pictures, Appian Way, EMJAG Product...</td>\n",
       "      <td>[12, 25, 2013]</td>\n",
       "      <td>7.9</td>\n",
       "      <td>2013</td>\n",
       "      <td>292000694</td>\n",
       "      <td>12</td>\n",
       "    </tr>\n",
       "    <tr>\n",
       "      <th>128</th>\n",
       "      <td>tt2267998</td>\n",
       "      <td>61000000</td>\n",
       "      <td>369330363</td>\n",
       "      <td>Gone Girl</td>\n",
       "      <td>[Ben Affleck, Rosamund Pike, Carrie Coon, Neil...</td>\n",
       "      <td>[David Fincher]</td>\n",
       "      <td>You don't know what you've got 'til it's...</td>\n",
       "      <td>With his wife's disappearance having become th...</td>\n",
       "      <td>145</td>\n",
       "      <td>[Mystery, Thriller, Drama]</td>\n",
       "      <td>[Twentieth Century Fox Film Corporation, Regen...</td>\n",
       "      <td>[10, 1, 2014]</td>\n",
       "      <td>7.9</td>\n",
       "      <td>2014</td>\n",
       "      <td>308330363</td>\n",
       "      <td>10</td>\n",
       "    </tr>\n",
       "    <tr>\n",
       "      <th>1191</th>\n",
       "      <td>tt2024544</td>\n",
       "      <td>20000000</td>\n",
       "      <td>187000000</td>\n",
       "      <td>12 Years a Slave</td>\n",
       "      <td>[Chiwetel Ejiofor, Michael Fassbender, Lupita ...</td>\n",
       "      <td>[Steve McQueen]</td>\n",
       "      <td>The extraordinary true story of Solomon Northup</td>\n",
       "      <td>In the pre-Civil War United States, Solomon No...</td>\n",
       "      <td>134</td>\n",
       "      <td>[Drama, History]</td>\n",
       "      <td>[Plan B Entertainment, Regency Enterprises, Ri...</td>\n",
       "      <td>[10, 18, 2013]</td>\n",
       "      <td>7.9</td>\n",
       "      <td>2013</td>\n",
       "      <td>167000000</td>\n",
       "      <td>10</td>\n",
       "    </tr>\n",
       "    <tr>\n",
       "      <th>119</th>\n",
       "      <td>tt2015381</td>\n",
       "      <td>170000000</td>\n",
       "      <td>773312399</td>\n",
       "      <td>Guardians of the Galaxy</td>\n",
       "      <td>[Chris Pratt, Zoe Saldana, Dave Bautista, Vin ...</td>\n",
       "      <td>[James Gunn]</td>\n",
       "      <td>All heroes start somewhere.</td>\n",
       "      <td>Light years from Earth, 26 years after being a...</td>\n",
       "      <td>121</td>\n",
       "      <td>[Action, Science Fiction, Adventure]</td>\n",
       "      <td>[Marvel Studios, Moving Picture Company (MPC),...</td>\n",
       "      <td>[7, 30, 2014]</td>\n",
       "      <td>7.9</td>\n",
       "      <td>2014</td>\n",
       "      <td>603312399</td>\n",
       "      <td>7</td>\n",
       "    </tr>\n",
       "    <tr>\n",
       "      <th>1081</th>\n",
       "      <td>tt0167260</td>\n",
       "      <td>94000000</td>\n",
       "      <td>1118888979</td>\n",
       "      <td>The Lord of the Rings: The Return of the King</td>\n",
       "      <td>[Elijah Wood, Ian McKellen, Viggo Mortensen, L...</td>\n",
       "      <td>[Peter Jackson]</td>\n",
       "      <td>The eye of the enemy is moving.</td>\n",
       "      <td>Aragorn is revealed as the heir to the ancient...</td>\n",
       "      <td>201</td>\n",
       "      <td>[Adventure, Fantasy, Action]</td>\n",
       "      <td>[WingNut Films, New Line Cinema]</td>\n",
       "      <td>[12, 1, 2003]</td>\n",
       "      <td>7.9</td>\n",
       "      <td>2003</td>\n",
       "      <td>1024888979</td>\n",
       "      <td>12</td>\n",
       "    </tr>\n",
       "  </tbody>\n",
       "</table>\n",
       "</div>"
      ],
      "text/plain": [
       "        imdb_id     budget     revenue  \\\n",
       "599   tt0468569  185000000  1001921825   \n",
       "118   tt0816692  165000000   621752480   \n",
       "125   tt2084970   14000000   233555708   \n",
       "9     tt2096673  175000000   853708609   \n",
       "34    tt3170832    6000000    35401758   \n",
       "1183  tt0993846  100000000   392000694   \n",
       "128   tt2267998   61000000   369330363   \n",
       "1191  tt2024544   20000000   187000000   \n",
       "119   tt2015381  170000000   773312399   \n",
       "1081  tt0167260   94000000  1118888979   \n",
       "\n",
       "                                     original_title  \\\n",
       "599                                 The Dark Knight   \n",
       "118                                    Interstellar   \n",
       "125                              The Imitation Game   \n",
       "9                                        Inside Out   \n",
       "34                                             Room   \n",
       "1183                        The Wolf of Wall Street   \n",
       "128                                       Gone Girl   \n",
       "1191                               12 Years a Slave   \n",
       "119                         Guardians of the Galaxy   \n",
       "1081  The Lord of the Rings: The Return of the King   \n",
       "\n",
       "                                                   cast             director  \\\n",
       "599   [Christian Bale, Michael Caine, Heath Ledger, ...  [Christopher Nolan]   \n",
       "118   [Matthew McConaughey, Jessica Chastain, Anne H...  [Christopher Nolan]   \n",
       "125   [Benedict Cumberbatch, Keira Knightley, Matthe...      [Morten Tyldum]   \n",
       "9     [Amy Poehler, Phyllis Smith, Richard Kind, Bil...        [Pete Docter]   \n",
       "34    [Brie Larson, Jacob Tremblay, Joan Allen, Sean...   [Lenny Abrahamson]   \n",
       "1183  [Leonardo DiCaprio, Jonah Hill, Margot Robbie,...    [Martin Scorsese]   \n",
       "128   [Ben Affleck, Rosamund Pike, Carrie Coon, Neil...      [David Fincher]   \n",
       "1191  [Chiwetel Ejiofor, Michael Fassbender, Lupita ...      [Steve McQueen]   \n",
       "119   [Chris Pratt, Zoe Saldana, Dave Bautista, Vin ...         [James Gunn]   \n",
       "1081  [Elijah Wood, Ian McKellen, Viggo Mortensen, L...      [Peter Jackson]   \n",
       "\n",
       "                                                tagline  \\\n",
       "599                                     Why So Serious?   \n",
       "118   Mankind was born on Earth. It was never meant ...   \n",
       "125   The true enigma was the man who cracked the code.   \n",
       "9              Meet the little voices inside your head.   \n",
       "34                             Love knows no boundaries   \n",
       "1183                                EARN. SPEND. PARTY.   \n",
       "128         You don't know what you've got 'til it's...   \n",
       "1191    The extraordinary true story of Solomon Northup   \n",
       "119                         All heroes start somewhere.   \n",
       "1081                    The eye of the enemy is moving.   \n",
       "\n",
       "                                               overview  runtime  \\\n",
       "599   Batman raises the stakes in his war on crime. ...      152   \n",
       "118   Interstellar chronicles the adventures of a gr...      169   \n",
       "125   Based on the real life story of legendary cryp...      113   \n",
       "9     Growing up can be a bumpy road, and it's no ex...       94   \n",
       "34    Jack is a young boy of 5 years old who has liv...      117   \n",
       "1183  A New York stockbroker refuses to cooperate in...      180   \n",
       "128   With his wife's disappearance having become th...      145   \n",
       "1191  In the pre-Civil War United States, Solomon No...      134   \n",
       "119   Light years from Earth, 26 years after being a...      121   \n",
       "1081  Aragorn is revealed as the heir to the ancient...      201   \n",
       "\n",
       "                                    genres  \\\n",
       "599       [Drama, Action, Crime, Thriller]   \n",
       "118    [Adventure, Drama, Science Fiction]   \n",
       "125        [History, Drama, Thriller, War]   \n",
       "9              [Comedy, Animation, Family]   \n",
       "34                       [Drama, Thriller]   \n",
       "1183                [Crime, Drama, Comedy]   \n",
       "128             [Mystery, Thriller, Drama]   \n",
       "1191                      [Drama, History]   \n",
       "119   [Action, Science Fiction, Adventure]   \n",
       "1081          [Adventure, Fantasy, Action]   \n",
       "\n",
       "                                   production_companies    release_date  \\\n",
       "599   [DC Comics, Legendary Pictures, Warner Bros., ...   [7, 16, 2008]   \n",
       "118   [Paramount Pictures, Legendary Pictures, Warne...   [11, 5, 2014]   \n",
       "125           [Black Bear Pictures, Bristol Automotive]  [11, 14, 2014]   \n",
       "9     [Walt Disney Pictures, Pixar Animation Studios...    [6, 9, 2015]   \n",
       "34    [Element Pictures, No Trace Camping, A24, Dupe...  [10, 16, 2015]   \n",
       "1183  [Paramount Pictures, Appian Way, EMJAG Product...  [12, 25, 2013]   \n",
       "128   [Twentieth Century Fox Film Corporation, Regen...   [10, 1, 2014]   \n",
       "1191  [Plan B Entertainment, Regency Enterprises, Ri...  [10, 18, 2013]   \n",
       "119   [Marvel Studios, Moving Picture Company (MPC),...   [7, 30, 2014]   \n",
       "1081                   [WingNut Films, New Line Cinema]   [12, 1, 2003]   \n",
       "\n",
       "      vote_average  release_year      profit release_month  \n",
       "599            8.1          2008   816921825             7  \n",
       "118            8.0          2014   456752480            11  \n",
       "125            8.0          2014   219555708            11  \n",
       "9              8.0          2015   678708609             6  \n",
       "34             8.0          2015    29401758            10  \n",
       "1183           7.9          2013   292000694            12  \n",
       "128            7.9          2014   308330363            10  \n",
       "1191           7.9          2013   167000000            10  \n",
       "119            7.9          2014   603312399             7  \n",
       "1081           7.9          2003  1024888979            12  "
      ]
     },
     "execution_count": 296,
     "metadata": {},
     "output_type": "execute_result"
    }
   ],
   "source": [
    "vote = data['vote_average'].value_counts(bins=100, ascending = False)\n",
    "data.loc[(data['vote_average']>vote.index[0].left)&(data['vote_average']<=vote.index[0].right)]\n",
    "data.sort_values(['vote_average'], ascending=False).head(10)"
   ]
  },
  {
   "cell_type": "markdown",
   "metadata": {
    "colab_type": "text",
    "id": "MdXsUXbCVqAV"
   },
   "source": [
    "# 27. Какие актеры чаще всего снимаются в одном фильме вместе?\n"
   ]
  },
  {
   "cell_type": "code",
   "execution_count": 305,
   "metadata": {},
   "outputs": [
    {
     "data": {
      "text/plain": [
       "[(('Daniel Radcliffe', 'Rupert Grint'), 8)]"
      ]
     },
     "execution_count": 305,
     "metadata": {},
     "output_type": "execute_result"
    }
   ],
   "source": [
    "import itertools\n",
    "import collections\n",
    "data_p = data['cast'].reset_index()\n",
    "data_p['pairs'] = data_p['cast'].apply(lambda s: list(itertools.combinations(s, 2)))\n",
    "data_p = data_p.explode('pairs').reset_index()\n",
    "collections.Counter(data_p['pairs']).most_common(1)"
   ]
  },
  {
   "cell_type": "markdown",
   "metadata": {
    "colab_type": "text",
    "id": "4ymnxEVoVqAW"
   },
   "source": [
    "ВАРИАНТ 2"
   ]
  },
  {
   "cell_type": "markdown",
   "metadata": {
    "colab_type": "text",
    "id": "U0nONFnGVqAX"
   },
   "source": [
    "# Submission"
   ]
  },
  {
   "cell_type": "code",
   "execution_count": 0,
   "metadata": {
    "colab": {},
    "colab_type": "code",
    "id": "IfcaRO9-VqAX",
    "outputId": "0f132912-32bb-4196-c98c-abfbc4ad5a5f"
   },
   "outputs": [
    {
     "data": {
      "text/plain": [
       "{'1': '...', '2': '...'}"
      ]
     },
     "execution_count": 8,
     "metadata": {
      "tags": []
     },
     "output_type": "execute_result"
    }
   ],
   "source": [
    "# в конце можно посмотреть свои ответы к каждому вопросу\n",
    "answers"
   ]
  },
  {
   "cell_type": "code",
   "execution_count": 0,
   "metadata": {
    "colab": {},
    "colab_type": "code",
    "id": "SiRmHPl8VqAd"
   },
   "outputs": [],
   "source": [
    "# и убедиться что ни чего не пропустил)\n",
    "len(answers)"
   ]
  },
  {
   "cell_type": "code",
   "execution_count": 0,
   "metadata": {
    "colab": {},
    "colab_type": "code",
    "id": "uCfuTkRbVqAg"
   },
   "outputs": [],
   "source": []
  },
  {
   "cell_type": "code",
   "execution_count": 0,
   "metadata": {
    "colab": {},
    "colab_type": "code",
    "id": "Vwx3NrkSVqAl"
   },
   "outputs": [],
   "source": []
  }
 ],
 "metadata": {
  "colab": {
   "name": "Copy of [SF-DST] Movies IMBD v4.1 TEMPLATE.ipynb",
   "provenance": []
  },
  "kernelspec": {
   "display_name": "Python 3",
   "language": "python",
   "name": "python3"
  },
  "language_info": {
   "codemirror_mode": {
    "name": "ipython",
    "version": 3
   },
   "file_extension": ".py",
   "mimetype": "text/x-python",
   "name": "python",
   "nbconvert_exporter": "python",
   "pygments_lexer": "ipython3",
   "version": "3.8.3"
  }
 },
 "nbformat": 4,
 "nbformat_minor": 1
}
