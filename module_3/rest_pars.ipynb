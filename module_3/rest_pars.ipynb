{
 "cells": [
  {
   "cell_type": "code",
   "execution_count": 11,
   "metadata": {
    "ExecuteTime": {
     "end_time": "2021-03-11T12:46:54.889895Z",
     "start_time": "2021-03-11T12:46:54.876873Z"
    }
   },
   "outputs": [],
   "source": [
    "import pandas as pd\n",
    "from selenium import webdriver\n",
    "from selenium.webdriver.common.keys import Keys\n",
    "import time\n",
    "import csv"
   ]
  },
  {
   "cell_type": "code",
   "execution_count": 2,
   "metadata": {
    "ExecuteTime": {
     "end_time": "2021-03-11T12:30:04.114872Z",
     "start_time": "2021-03-11T12:30:03.988836Z"
    }
   },
   "outputs": [],
   "source": [
    "df = pd.read_csv('main_task.csv')\n",
    "df.loc[df['City'] == 'Oporto', 'City'] = 'Porto'\n",
    "cities = df.City.unique()"
   ]
  },
  {
   "cell_type": "code",
   "execution_count": 4,
   "metadata": {
    "ExecuteTime": {
     "end_time": "2021-03-11T12:31:22.617857Z",
     "start_time": "2021-03-11T12:31:22.594861Z"
    }
   },
   "outputs": [
    {
     "data": {
      "text/html": [
       "<div>\n",
       "<style scoped>\n",
       "    .dataframe tbody tr th:only-of-type {\n",
       "        vertical-align: middle;\n",
       "    }\n",
       "\n",
       "    .dataframe tbody tr th {\n",
       "        vertical-align: top;\n",
       "    }\n",
       "\n",
       "    .dataframe thead th {\n",
       "        text-align: right;\n",
       "    }\n",
       "</style>\n",
       "<table border=\"1\" class=\"dataframe\">\n",
       "  <thead>\n",
       "    <tr style=\"text-align: right;\">\n",
       "      <th></th>\n",
       "      <th>Restaurant_id</th>\n",
       "      <th>City</th>\n",
       "      <th>Cuisine Style</th>\n",
       "      <th>Ranking</th>\n",
       "      <th>Rating</th>\n",
       "      <th>Price Range</th>\n",
       "      <th>Number of Reviews</th>\n",
       "      <th>Reviews</th>\n",
       "      <th>URL_TA</th>\n",
       "      <th>ID_TA</th>\n",
       "    </tr>\n",
       "  </thead>\n",
       "  <tbody>\n",
       "    <tr>\n",
       "      <th>0</th>\n",
       "      <td>id_5569</td>\n",
       "      <td>Paris</td>\n",
       "      <td>['European', 'French', 'International']</td>\n",
       "      <td>5570.0</td>\n",
       "      <td>3.5</td>\n",
       "      <td>$$ - $$$</td>\n",
       "      <td>194.0</td>\n",
       "      <td>[['Good food at your doorstep', 'A good hotel ...</td>\n",
       "      <td>/Restaurant_Review-g187147-d1912643-Reviews-R_...</td>\n",
       "      <td>d1912643</td>\n",
       "    </tr>\n",
       "    <tr>\n",
       "      <th>1</th>\n",
       "      <td>id_1535</td>\n",
       "      <td>Stockholm</td>\n",
       "      <td>NaN</td>\n",
       "      <td>1537.0</td>\n",
       "      <td>4.0</td>\n",
       "      <td>NaN</td>\n",
       "      <td>10.0</td>\n",
       "      <td>[['Unique cuisine', 'Delicious Nepalese food']...</td>\n",
       "      <td>/Restaurant_Review-g189852-d7992032-Reviews-Bu...</td>\n",
       "      <td>d7992032</td>\n",
       "    </tr>\n",
       "  </tbody>\n",
       "</table>\n",
       "</div>"
      ],
      "text/plain": [
       "  Restaurant_id       City                            Cuisine Style  Ranking  \\\n",
       "0       id_5569      Paris  ['European', 'French', 'International']   5570.0   \n",
       "1       id_1535  Stockholm                                      NaN   1537.0   \n",
       "\n",
       "   Rating Price Range  Number of Reviews  \\\n",
       "0     3.5    $$ - $$$              194.0   \n",
       "1     4.0         NaN               10.0   \n",
       "\n",
       "                                             Reviews  \\\n",
       "0  [['Good food at your doorstep', 'A good hotel ...   \n",
       "1  [['Unique cuisine', 'Delicious Nepalese food']...   \n",
       "\n",
       "                                              URL_TA     ID_TA  \n",
       "0  /Restaurant_Review-g187147-d1912643-Reviews-R_...  d1912643  \n",
       "1  /Restaurant_Review-g189852-d7992032-Reviews-Bu...  d7992032  "
      ]
     },
     "execution_count": 4,
     "metadata": {},
     "output_type": "execute_result"
    }
   ],
   "source": [
    "df.head(2)"
   ]
  },
  {
   "cell_type": "code",
   "execution_count": 323,
   "metadata": {
    "ExecuteTime": {
     "end_time": "2021-03-12T14:30:19.569523Z",
     "start_time": "2021-03-12T14:30:18.820951Z"
    },
    "scrolled": true
   },
   "outputs": [
    {
     "ename": "ValueError",
     "evalue": "can only convert an array of size 1 to a Python scalar",
     "output_type": "error",
     "traceback": [
      "\u001b[1;31m---------------------------------------------------------------------------\u001b[0m",
      "\u001b[1;31mValueError\u001b[0m                                Traceback (most recent call last)",
      "\u001b[1;32m<ipython-input-323-36f66cca3b7c>\u001b[0m in \u001b[0;36m<module>\u001b[1;34m\u001b[0m\n\u001b[0;32m     76\u001b[0m \u001b[1;33m\u001b[0m\u001b[0m\n\u001b[0;32m     77\u001b[0m \u001b[1;32mfor\u001b[0m \u001b[0mi\u001b[0m \u001b[1;32min\u001b[0m \u001b[0mcol\u001b[0m\u001b[1;33m:\u001b[0m\u001b[1;33m\u001b[0m\u001b[1;33m\u001b[0m\u001b[0m\n\u001b[1;32m---> 78\u001b[1;33m     \u001b[0mparse\u001b[0m\u001b[1;33m(\u001b[0m\u001b[1;34m'https://www.tripadvisor.com'\u001b[0m \u001b[1;33m+\u001b[0m \u001b[0mi\u001b[0m\u001b[1;33m)\u001b[0m\u001b[1;33m\u001b[0m\u001b[1;33m\u001b[0m\u001b[0m\n\u001b[0m\u001b[0;32m     79\u001b[0m     print(round(count*100/len(col), 3), '%      ',\n\u001b[0;32m     80\u001b[0m           count, '/', len(col), end='', flush=True)\n",
      "\u001b[1;32m<ipython-input-323-36f66cca3b7c>\u001b[0m in \u001b[0;36mparse\u001b[1;34m(url)\u001b[0m\n\u001b[0;32m     67\u001b[0m     \u001b[0mhtml\u001b[0m \u001b[1;33m=\u001b[0m \u001b[0mget_html\u001b[0m\u001b[1;33m(\u001b[0m\u001b[0murl\u001b[0m\u001b[1;33m)\u001b[0m\u001b[1;33m\u001b[0m\u001b[1;33m\u001b[0m\u001b[0m\n\u001b[0;32m     68\u001b[0m     \u001b[1;32mif\u001b[0m \u001b[0mhtml\u001b[0m\u001b[1;33m.\u001b[0m\u001b[0mstatus_code\u001b[0m \u001b[1;33m==\u001b[0m \u001b[1;36m200\u001b[0m\u001b[1;33m:\u001b[0m\u001b[1;33m\u001b[0m\u001b[1;33m\u001b[0m\u001b[0m\n\u001b[1;32m---> 69\u001b[1;33m         \u001b[0mget_content\u001b[0m\u001b[1;33m(\u001b[0m\u001b[0mhtml\u001b[0m\u001b[1;33m.\u001b[0m\u001b[0mtext\u001b[0m\u001b[1;33m)\u001b[0m\u001b[1;33m\u001b[0m\u001b[1;33m\u001b[0m\u001b[0m\n\u001b[0m\u001b[0;32m     70\u001b[0m     \u001b[1;32melse\u001b[0m\u001b[1;33m:\u001b[0m\u001b[1;33m\u001b[0m\u001b[1;33m\u001b[0m\u001b[0m\n\u001b[0;32m     71\u001b[0m         \u001b[1;32mpass\u001b[0m\u001b[1;33m\u001b[0m\u001b[1;33m\u001b[0m\u001b[0m\n",
      "\u001b[1;32m<ipython-input-323-36f66cca3b7c>\u001b[0m in \u001b[0;36mget_content\u001b[1;34m(html)\u001b[0m\n\u001b[0;32m     55\u001b[0m         \u001b[0mrub_min\u001b[0m \u001b[1;33m=\u001b[0m \u001b[1;34m'no_info'\u001b[0m\u001b[1;33m\u001b[0m\u001b[1;33m\u001b[0m\u001b[0m\n\u001b[0;32m     56\u001b[0m \u001b[1;33m\u001b[0m\u001b[0m\n\u001b[1;32m---> 57\u001b[1;33m     rest_pars.append({'Resraurant_id': df['Restaurant_id'][df['URL_TA'] == i].item(),\n\u001b[0m\u001b[0;32m     58\u001b[0m                       \u001b[1;34m'meals'\u001b[0m\u001b[1;33m:\u001b[0m \u001b[0mmeals_find\u001b[0m\u001b[1;33m,\u001b[0m\u001b[1;33m\u001b[0m\u001b[1;33m\u001b[0m\u001b[0m\n\u001b[0;32m     59\u001b[0m                       \u001b[1;34m'rest_adress'\u001b[0m\u001b[1;33m:\u001b[0m \u001b[0madress_find\u001b[0m\u001b[1;33m,\u001b[0m\u001b[1;33m\u001b[0m\u001b[1;33m\u001b[0m\u001b[0m\n",
      "\u001b[1;32m~\\Anaconda3\\lib\\site-packages\\pandas\\core\\base.py\u001b[0m in \u001b[0;36mitem\u001b[1;34m(self)\u001b[0m\n\u001b[0;32m    650\u001b[0m             \u001b[1;31m# numpy returns ints instead of datetime64/timedelta64 objects,\u001b[0m\u001b[1;33m\u001b[0m\u001b[1;33m\u001b[0m\u001b[1;33m\u001b[0m\u001b[0m\n\u001b[0;32m    651\u001b[0m             \u001b[1;31m#  which we need to wrap in Timestamp/Timedelta/Period regardless.\u001b[0m\u001b[1;33m\u001b[0m\u001b[1;33m\u001b[0m\u001b[1;33m\u001b[0m\u001b[0m\n\u001b[1;32m--> 652\u001b[1;33m             \u001b[1;32mreturn\u001b[0m \u001b[0mself\u001b[0m\u001b[1;33m.\u001b[0m\u001b[0mvalues\u001b[0m\u001b[1;33m.\u001b[0m\u001b[0mitem\u001b[0m\u001b[1;33m(\u001b[0m\u001b[1;33m)\u001b[0m\u001b[1;33m\u001b[0m\u001b[1;33m\u001b[0m\u001b[0m\n\u001b[0m\u001b[0;32m    653\u001b[0m \u001b[1;33m\u001b[0m\u001b[0m\n\u001b[0;32m    654\u001b[0m         \u001b[1;32mif\u001b[0m \u001b[0mlen\u001b[0m\u001b[1;33m(\u001b[0m\u001b[0mself\u001b[0m\u001b[1;33m)\u001b[0m \u001b[1;33m==\u001b[0m \u001b[1;36m1\u001b[0m\u001b[1;33m:\u001b[0m\u001b[1;33m\u001b[0m\u001b[1;33m\u001b[0m\u001b[0m\n",
      "\u001b[1;31mValueError\u001b[0m: can only convert an array of size 1 to a Python scalar"
     ]
    }
   ],
   "source": [
    "import time\n",
    "import requests\n",
    "from bs4 import BeautifulSoup\n",
    "import re\n",
    "\n",
    "URL = df['URL_TA']\n",
    "HEADERS = {'user-agent':\n",
    "           'Mozilla/5.0 (Windows NT 10.0; Win64; x64) AppleWebKit/537.36 (KHTML, like Gecko) Chrome/88.0.4324.152 YaBrowser/21.2.2.101 Yowser/2.5 Safari/537.36',\n",
    "           'accept': '*/*'}\n",
    "rest_pars = []\n",
    "\n",
    "\n",
    "def get_html(url, params=None):\n",
    "    r = requests.get(url, headers=HEADERS, params=params)\n",
    "    return r\n",
    "\n",
    "\n",
    "def get_coord(url):\n",
    "    r = requests.get(url, headers=HEADERS)\n",
    "    soup = BeautifulSoup(r.text, 'html.parser')\n",
    "    coord_finds = soup.find(content=re.compile(\n",
    "        'https://maps.google.com/maps/api/'))\n",
    "    if coord_finds:\n",
    "        coord_finds = coord_finds.get('content').split(\n",
    "            '&zoom')[0].split('?center=')[1].split('%2C')\n",
    "    else:\n",
    "        coord_finds = [[],[]]\n",
    "    return coord_finds\n",
    "\n",
    "\n",
    "def get_content(html):\n",
    "    soup = BeautifulSoup(html, 'html.parser')\n",
    "    pattern = re.compile('\\d+')\n",
    "    meals_find = soup.find('div', string='Meals')\n",
    "    adress_find = soup.find(href=\"#MAPVIEW\")\n",
    "    rub_find = soup.find('div', string=re.compile('RUB'))\n",
    "\n",
    "    if meals_find:\n",
    "        meals_find = meals_find.find_next('div').get_text().split(', ')\n",
    "    else:\n",
    "        meals_find = 'no_info'\n",
    "\n",
    "    if adress_find:\n",
    "        adress_find = adress_find.get_text()\n",
    "    else:\n",
    "        adress_find = 'no_info'\n",
    "\n",
    "    if rub_find:\n",
    "        rub_find = pattern.findall(rub_find.get_text().replace(',', ''))\n",
    "        rub_max = float(rub_find[1])\n",
    "        rub_min = float(rub_find[0])\n",
    "    else:\n",
    "        rub_find = 'no_info'\n",
    "        rub_max = 'no_info'\n",
    "        rub_min = 'no_info'\n",
    "\n",
    "    rest_pars.append({'Resraurant_id': df['Restaurant_id'][df['URL_TA'] == i].item(),\n",
    "                      'meals': meals_find,\n",
    "                      'rest_adress': adress_find,\n",
    "                      'rest_coord': get_coord('https://google.com/maps/search/'+adress_find),\n",
    "                      'rub_max': rub_max,\n",
    "                      'rub_min': rub_min\n",
    "                      })\n",
    "\n",
    "\n",
    "def parse(url):\n",
    "    html = get_html(url)\n",
    "    if html.status_code == 200:\n",
    "        get_content(html.text)\n",
    "    else:\n",
    "        pass\n",
    "\n",
    "\n",
    "count = 1\n",
    "col = URL[147]\n",
    "\n",
    "for i in col:\n",
    "    parse('https://www.tripadvisor.com' + i)\n",
    "    print(round(count*100/len(col), 3), '%      ',\n",
    "          count, '/', len(col), end='', flush=True)\n",
    "    print('\\r', end='')\n",
    "    count += 1"
   ]
  },
  {
   "cell_type": "code",
   "execution_count": 319,
   "metadata": {
    "ExecuteTime": {
     "end_time": "2021-03-12T14:29:06.560794Z",
     "start_time": "2021-03-12T14:29:06.547799Z"
    }
   },
   "outputs": [
    {
     "data": {
      "text/plain": [
       "[{'Resraurant_id': 'id_4429',\n",
       "  'meals': ['BreakfastBrunchLunchDinner Breakfast  Brunch  Lunch  Dinner '],\n",
       "  'rest_adress': 'no_info',\n",
       "  'rest_coord': ['70.0732779', '24.26608125'],\n",
       "  'rub_max': 'no_info',\n",
       "  'rub_min': 'no_info'}]"
      ]
     },
     "execution_count": 319,
     "metadata": {},
     "output_type": "execute_result"
    }
   ],
   "source": [
    "rest_pars"
   ]
  },
  {
   "cell_type": "code",
   "execution_count": 312,
   "metadata": {
    "ExecuteTime": {
     "end_time": "2021-03-12T14:28:00.215400Z",
     "start_time": "2021-03-12T14:28:00.197344Z"
    },
    "scrolled": true
   },
   "outputs": [],
   "source": [
    "data_rest = pd.DataFrame(rest_pars)\n",
    "data_rest.rest_coord = data_rest.rest_coord.apply(lambda x: [float(x[0]), float(x[1])])\n",
    "data_rest.to_csv('rest.csv', index = False)"
   ]
  },
  {
   "cell_type": "code",
   "execution_count": 313,
   "metadata": {
    "ExecuteTime": {
     "end_time": "2021-03-12T14:28:01.447925Z",
     "start_time": "2021-03-12T14:28:01.434922Z"
    }
   },
   "outputs": [
    {
     "data": {
      "text/html": [
       "<div>\n",
       "<style scoped>\n",
       "    .dataframe tbody tr th:only-of-type {\n",
       "        vertical-align: middle;\n",
       "    }\n",
       "\n",
       "    .dataframe tbody tr th {\n",
       "        vertical-align: top;\n",
       "    }\n",
       "\n",
       "    .dataframe thead th {\n",
       "        text-align: right;\n",
       "    }\n",
       "</style>\n",
       "<table border=\"1\" class=\"dataframe\">\n",
       "  <thead>\n",
       "    <tr style=\"text-align: right;\">\n",
       "      <th></th>\n",
       "      <th>Resraurant_id</th>\n",
       "      <th>meals</th>\n",
       "      <th>rest_adress</th>\n",
       "      <th>rest_coord</th>\n",
       "      <th>rub_max</th>\n",
       "      <th>rub_min</th>\n",
       "    </tr>\n",
       "  </thead>\n",
       "  <tbody>\n",
       "    <tr>\n",
       "      <th>0</th>\n",
       "      <td>147     id_4110\\n9446    id_4104\\nName: Restau...</td>\n",
       "      <td>['Breakfast', 'Lunch', 'Dinner']</td>\n",
       "      <td>Calle Espronceda 34, 28003 Madrid Spain</td>\n",
       "      <td>[40.4403981, -3.6949632]</td>\n",
       "      <td>no_info</td>\n",
       "      <td>no_info</td>\n",
       "    </tr>\n",
       "  </tbody>\n",
       "</table>\n",
       "</div>"
      ],
      "text/plain": [
       "                                       Resraurant_id  \\\n",
       "0  147     id_4110\\n9446    id_4104\\nName: Restau...   \n",
       "\n",
       "                              meals                              rest_adress  \\\n",
       "0  ['Breakfast', 'Lunch', 'Dinner']  Calle Espronceda 34, 28003 Madrid Spain   \n",
       "\n",
       "                 rest_coord  rub_max  rub_min  \n",
       "0  [40.4403981, -3.6949632]  no_info  no_info  "
      ]
     },
     "execution_count": 313,
     "metadata": {},
     "output_type": "execute_result"
    }
   ],
   "source": [
    "data = pd.read_csv('rest.csv')\n",
    "data"
   ]
  },
  {
   "cell_type": "code",
   "execution_count": 308,
   "metadata": {
    "ExecuteTime": {
     "end_time": "2021-03-12T14:26:35.533619Z",
     "start_time": "2021-03-12T14:26:35.522616Z"
    }
   },
   "outputs": [
    {
     "name": "stdout",
     "output_type": "stream",
     "text": [
      "https://www.tripadvisor.com/Restaurant_Review-g187514-d4600226-Reviews-Cafeteria_Teresa-Madrid.html\n"
     ]
    }
   ],
   "source": [
    "print('https://www.tripadvisor.com' + URL[147])"
   ]
  },
  {
   "cell_type": "code",
   "execution_count": 331,
   "metadata": {
    "ExecuteTime": {
     "end_time": "2021-03-12T14:32:03.598065Z",
     "start_time": "2021-03-12T14:32:03.578069Z"
    }
   },
   "outputs": [
    {
     "data": {
      "text/plain": [
       "/Restaurant_Review-g187514-d9802625-Reviews-La_Vie_en_Doux-Madrid.html             2\n",
       "/Restaurant_Review-g187514-d2477531-Reviews-Haya_19-Madrid.html                    2\n",
       "/Restaurant_Review-g187514-d7337366-Reviews-Lady_Madonna-Madrid.html               2\n",
       "/Restaurant_Review-g187514-d8753348-Reviews-Tropecientos-Madrid.html               2\n",
       "/Restaurant_Review-g187514-d7342803-Reviews-Los_Hierros-Madrid.html                2\n",
       "/Restaurant_Review-g187514-d9877640-Reviews-Raku_Sushi-Madrid.html                 2\n",
       "/Restaurant_Review-g187514-d11921719-Reviews-Crepets-Madrid.html                   2\n",
       "/Restaurant_Review-g187514-d10047799-Reviews-Entrepuntos-Madrid.html               2\n",
       "/Restaurant_Review-g187514-d793170-Reviews-Caripen_Bistro-Madrid.html              2\n",
       "/Restaurant_Review-g187514-d987900-Reviews-Compostela_Restaurante-Madrid.html      2\n",
       "/Restaurant_Review-g187514-d11674463-Reviews-Beerhouse-Madrid.html                 2\n",
       "/Restaurant_Review-g187514-d3161682-Reviews-Cerveceria_La_Surena-Madrid.html       2\n",
       "/Restaurant_Review-g187514-d11999956-Reviews-SugarCane_Madrid-Madrid.html          2\n",
       "/Restaurant_Review-g187514-d3685055-Reviews-Shukran-Madrid.html                    2\n",
       "/Restaurant_Review-g187514-d1315077-Reviews-El_Pimiento_Verde-Madrid.html          2\n",
       "/Restaurant_Review-g187514-d4600226-Reviews-Cafeteria_Teresa-Madrid.html           2\n",
       "/Restaurant_Review-g187514-d697406-Reviews-Al_Mounia-Madrid.html                   2\n",
       "/Restaurant_Review-g187514-d11698990-Reviews-Verdello_Restaurante-Madrid.html      2\n",
       "/Restaurant_Review-g187514-d7809594-Reviews-La_Guapa-Madrid.html                   2\n",
       "/Restaurant_Review-g187514-d13002276-Reviews-Delish_Vegan_Doughnuts-Madrid.html    2\n",
       "Name: URL_TA, dtype: int64"
      ]
     },
     "execution_count": 331,
     "metadata": {},
     "output_type": "execute_result"
    }
   ],
   "source": [
    "df.URL_TA.value_counts()[:20]"
   ]
  }
 ],
 "metadata": {
  "kernelspec": {
   "display_name": "Python 3",
   "language": "python",
   "name": "python3"
  },
  "language_info": {
   "codemirror_mode": {
    "name": "ipython",
    "version": 3
   },
   "file_extension": ".py",
   "mimetype": "text/x-python",
   "name": "python",
   "nbconvert_exporter": "python",
   "pygments_lexer": "ipython3",
   "version": "3.8.3"
  }
 },
 "nbformat": 4,
 "nbformat_minor": 4
}
