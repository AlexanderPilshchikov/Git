{
 "cells": [
  {
   "cell_type": "code",
   "execution_count": 3,
   "metadata": {
    "ExecuteTime": {
     "end_time": "2021-03-12T04:01:54.835744Z",
     "start_time": "2021-03-12T04:01:54.832714Z"
    }
   },
   "outputs": [],
   "source": [
    "import pandas as pd\n",
    "from selenium import webdriver\n",
    "from selenium.webdriver.common.keys import Keys\n",
    "from selenium.webdriver.common.desired_capabilities import DesiredCapabilities\n",
    "import time\n",
    "import csv"
   ]
  },
  {
   "cell_type": "code",
   "execution_count": 4,
   "metadata": {
    "ExecuteTime": {
     "end_time": "2021-03-12T04:01:56.480794Z",
     "start_time": "2021-03-12T04:01:56.349795Z"
    },
    "scrolled": true
   },
   "outputs": [],
   "source": [
    "df = pd.read_csv('main_task.csv')\n",
    "df.loc[df['City'] == 'Oporto', 'City'] = 'Porto'"
   ]
  },
  {
   "cell_type": "code",
   "execution_count": 5,
   "metadata": {},
   "outputs": [],
   "source": [
    "cities = df.City.unique()"
   ]
  },
  {
   "cell_type": "code",
   "execution_count": 6,
   "metadata": {},
   "outputs": [],
   "source": [
    "from tqdm import tqdm_notebook as tqdmn"
   ]
  },
  {
   "cell_type": "code",
   "execution_count": 62,
   "metadata": {
    "ExecuteTime": {
     "end_time": "2021-03-11T12:04:09.876633Z",
     "start_time": "2021-03-11T12:03:34.559832Z"
    }
   },
   "outputs": [],
   "source": [
    "options = webdriver.ChromeOptions()\n",
    "options.add_argument('headless')\n",
    "browser = webdriver.Chrome(options=options)\n",
    "\n",
    "cities_pars = []\n",
    "\n",
    "for city in cities:\n",
    "    browser.get('https://yandex.com/maps/')\n",
    "    assert 'Yandex' in browser.title\n",
    "\n",
    "    elem = browser.find_element_by_class_name(\n",
    "            'input__control')  # Find the search box\n",
    "    try:\n",
    "        elem.send_keys(city + Keys.RETURN)\n",
    "        time.sleep(0.5)\n",
    "        cities_pars.append({'City': city,\n",
    "                            'country': browser.find_element_by_xpath('/html/body/div[1]/div[2]/div[4]/div[1]/div[1]/div[1]/div/div[1]/div/div[5]/div[3]/div/div[3]/div/a[2]').get_attribute('title'),\n",
    "                            'city_coord': browser.find_element_by_class_name(\n",
    "                                        'toponym-card-title-view__coords-badge').text.split(sep=', ')})\n",
    "    except:\n",
    "        browser.get('https://yandex.com/maps/')\n",
    "        elem = browser.find_element_by_class_name('input__control')\n",
    "        elem.send_keys('City ' + city + Keys.RETURN)\n",
    "        time.sleep(0.5)\n",
    "        cities_pars.append({'City': city,\n",
    "                            'country': browser.find_element_by_xpath('/html/body/div[1]/div[2]/div[4]/div[1]/div[1]/div[1]/div/div[1]/div/div[5]/div[3]/div/div[3]/div/a[2]').get_attribute('title'),\n",
    "                            'city_coord': browser.find_element_by_class_name(\n",
    "                                        'toponym-card-title-view__coords-badge').text.split(sep=', ')})\n",
    "browser.quit()"
   ]
  },
  {
   "cell_type": "code",
   "execution_count": 58,
   "metadata": {},
   "outputs": [],
   "source": [
    "def pars():    \n",
    "    options = webdriver.ChromeOptions()\n",
    "    options.add_argument('headless')\n",
    "    browser = webdriver.Chrome(chrome_options=options)\n",
    "\n",
    "    cities_pars = []\n",
    "\n",
    "    for city in cities:\n",
    "        browser.get('https://yandex.com/maps/')\n",
    "        assert 'Yandex' in browser.title\n",
    "\n",
    "        elem = browser.find_element_by_class_name(\n",
    "                'input__control')  # Find the search box\n",
    "        try:\n",
    "            elem.send_keys(city + Keys.RETURN)\n",
    "            time.sleep(0.5)\n",
    "            cities_pars.append({'City': city,\n",
    "                                'country': browser.find_element_by_xpath('/html/body/div[1]/div[2]/div[4]/div[1]/div[1]/div[1]/div/div[1]/div/div[5]/div[3]/div/div[3]/div/a[2]').get_attribute('title'),\n",
    "                                'city_coord': browser.find_element_by_class_name(\n",
    "                                            'toponym-card-title-view__coords-badge').text.split(sep=', ')})\n",
    "        except:\n",
    "            browser.get('https://yandex.com/maps/')\n",
    "            elem = browser.find_element_by_class_name('input__control')\n",
    "            elem.send_keys('City ' + city + Keys.RETURN)\n",
    "            time.sleep(0.5)\n",
    "            cities_pars.append({'City': city,\n",
    "                                'country': browser.find_element_by_xpath('/html/body/div[1]/div[2]/div[4]/div[1]/div[1]/div[1]/div/div[1]/div/div[5]/div[3]/div/div[3]/div/a[2]').get_attribute('title'),\n",
    "                                'city_coord': browser.find_element_by_class_name(\n",
    "                                            'toponym-card-title-view__coords-badge').text.split(sep=', ')})\n",
    "    browser.quit()"
   ]
  },
  {
   "cell_type": "code",
   "execution_count": 43,
   "metadata": {
    "scrolled": true
   },
   "outputs": [
    {
     "data": {
      "text/html": [
       "<div>\n",
       "<style scoped>\n",
       "    .dataframe tbody tr th:only-of-type {\n",
       "        vertical-align: middle;\n",
       "    }\n",
       "\n",
       "    .dataframe tbody tr th {\n",
       "        vertical-align: top;\n",
       "    }\n",
       "\n",
       "    .dataframe thead th {\n",
       "        text-align: right;\n",
       "    }\n",
       "</style>\n",
       "<table border=\"1\" class=\"dataframe\">\n",
       "  <thead>\n",
       "    <tr style=\"text-align: right;\">\n",
       "      <th></th>\n",
       "      <th>City</th>\n",
       "      <th>country</th>\n",
       "      <th>city_coord</th>\n",
       "    </tr>\n",
       "  </thead>\n",
       "  <tbody>\n",
       "    <tr>\n",
       "      <th>0</th>\n",
       "      <td>Paris</td>\n",
       "      <td>France</td>\n",
       "      <td>[48.856663, 2.351556]</td>\n",
       "    </tr>\n",
       "    <tr>\n",
       "      <th>1</th>\n",
       "      <td>Stockholm</td>\n",
       "      <td>Sweden</td>\n",
       "      <td>[59.325000, 18.070897]</td>\n",
       "    </tr>\n",
       "    <tr>\n",
       "      <th>2</th>\n",
       "      <td>London</td>\n",
       "      <td>United Kingdom</td>\n",
       "      <td>[51.507351, -0.127660]</td>\n",
       "    </tr>\n",
       "    <tr>\n",
       "      <th>3</th>\n",
       "      <td>Berlin</td>\n",
       "      <td>Germany</td>\n",
       "      <td>[52.518654, 13.374711]</td>\n",
       "    </tr>\n",
       "    <tr>\n",
       "      <th>4</th>\n",
       "      <td>Munich</td>\n",
       "      <td>Germany</td>\n",
       "      <td>[48.137187, 11.575691]</td>\n",
       "    </tr>\n",
       "    <tr>\n",
       "      <th>5</th>\n",
       "      <td>Porto</td>\n",
       "      <td>Portugal</td>\n",
       "      <td>[41.157963, -8.629154]</td>\n",
       "    </tr>\n",
       "    <tr>\n",
       "      <th>6</th>\n",
       "      <td>Milan</td>\n",
       "      <td>Italy</td>\n",
       "      <td>[45.469436, 9.180621]</td>\n",
       "    </tr>\n",
       "    <tr>\n",
       "      <th>7</th>\n",
       "      <td>Bratislava</td>\n",
       "      <td>Slovakia</td>\n",
       "      <td>[48.143488, 17.108361]</td>\n",
       "    </tr>\n",
       "    <tr>\n",
       "      <th>8</th>\n",
       "      <td>Vienna</td>\n",
       "      <td>Austria</td>\n",
       "      <td>[48.206481, 16.363451]</td>\n",
       "    </tr>\n",
       "    <tr>\n",
       "      <th>9</th>\n",
       "      <td>Rome</td>\n",
       "      <td>Italy</td>\n",
       "      <td>[41.902689, 12.496176]</td>\n",
       "    </tr>\n",
       "    <tr>\n",
       "      <th>10</th>\n",
       "      <td>Barcelona</td>\n",
       "      <td>Spain</td>\n",
       "      <td>[41.392696, 2.144449]</td>\n",
       "    </tr>\n",
       "    <tr>\n",
       "      <th>11</th>\n",
       "      <td>Madrid</td>\n",
       "      <td>Spain</td>\n",
       "      <td>[40.419348, -3.700897]</td>\n",
       "    </tr>\n",
       "    <tr>\n",
       "      <th>12</th>\n",
       "      <td>Dublin</td>\n",
       "      <td>Ireland</td>\n",
       "      <td>[53.340258, -6.252831]</td>\n",
       "    </tr>\n",
       "    <tr>\n",
       "      <th>13</th>\n",
       "      <td>Brussels</td>\n",
       "      <td>Belgium</td>\n",
       "      <td>[50.846697, 4.352535]</td>\n",
       "    </tr>\n",
       "    <tr>\n",
       "      <th>14</th>\n",
       "      <td>Zurich</td>\n",
       "      <td>Switzerland</td>\n",
       "      <td>[47.386966, 8.534139]</td>\n",
       "    </tr>\n",
       "    <tr>\n",
       "      <th>15</th>\n",
       "      <td>Warsaw</td>\n",
       "      <td>Poland</td>\n",
       "      <td>[52.232090, 21.007139]</td>\n",
       "    </tr>\n",
       "    <tr>\n",
       "      <th>16</th>\n",
       "      <td>Budapest</td>\n",
       "      <td>Hungary</td>\n",
       "      <td>[47.492647, 19.051399]</td>\n",
       "    </tr>\n",
       "    <tr>\n",
       "      <th>17</th>\n",
       "      <td>Copenhagen</td>\n",
       "      <td>Denmark</td>\n",
       "      <td>[55.680661, 12.585828]</td>\n",
       "    </tr>\n",
       "    <tr>\n",
       "      <th>18</th>\n",
       "      <td>Amsterdam</td>\n",
       "      <td>Netherlands</td>\n",
       "      <td>[52.373057, 4.892557]</td>\n",
       "    </tr>\n",
       "    <tr>\n",
       "      <th>19</th>\n",
       "      <td>Lyon</td>\n",
       "      <td>France</td>\n",
       "      <td>[45.760199, 4.837715]</td>\n",
       "    </tr>\n",
       "    <tr>\n",
       "      <th>20</th>\n",
       "      <td>Hamburg</td>\n",
       "      <td>Germany</td>\n",
       "      <td>[53.550682, 9.992895]</td>\n",
       "    </tr>\n",
       "    <tr>\n",
       "      <th>21</th>\n",
       "      <td>Lisbon</td>\n",
       "      <td>Portugal</td>\n",
       "      <td>[38.716174, -9.141589]</td>\n",
       "    </tr>\n",
       "    <tr>\n",
       "      <th>22</th>\n",
       "      <td>Prague</td>\n",
       "      <td>Czech Republic</td>\n",
       "      <td>[50.080293, 14.428983]</td>\n",
       "    </tr>\n",
       "    <tr>\n",
       "      <th>23</th>\n",
       "      <td>Oslo</td>\n",
       "      <td>Norway</td>\n",
       "      <td>[59.912752, 10.734365]</td>\n",
       "    </tr>\n",
       "    <tr>\n",
       "      <th>24</th>\n",
       "      <td>Helsinki</td>\n",
       "      <td>Finland</td>\n",
       "      <td>[60.166892, 24.943673]</td>\n",
       "    </tr>\n",
       "    <tr>\n",
       "      <th>25</th>\n",
       "      <td>Edinburgh</td>\n",
       "      <td>United Kingdom</td>\n",
       "      <td>[55.951814, -3.207641]</td>\n",
       "    </tr>\n",
       "    <tr>\n",
       "      <th>26</th>\n",
       "      <td>Geneva</td>\n",
       "      <td>Switzerland</td>\n",
       "      <td>[46.203548, 6.140003]</td>\n",
       "    </tr>\n",
       "    <tr>\n",
       "      <th>27</th>\n",
       "      <td>Ljubljana</td>\n",
       "      <td>Slovenia</td>\n",
       "      <td>[46.058357, 14.520009]</td>\n",
       "    </tr>\n",
       "    <tr>\n",
       "      <th>28</th>\n",
       "      <td>Athens</td>\n",
       "      <td>Greece</td>\n",
       "      <td>[37.975527, 23.734855]</td>\n",
       "    </tr>\n",
       "    <tr>\n",
       "      <th>29</th>\n",
       "      <td>Luxembourg</td>\n",
       "      <td>Luxembourg</td>\n",
       "      <td>[49.611420, 6.119476]</td>\n",
       "    </tr>\n",
       "    <tr>\n",
       "      <th>30</th>\n",
       "      <td>Krakow</td>\n",
       "      <td>Poland</td>\n",
       "      <td>[50.061971, 19.936742]</td>\n",
       "    </tr>\n",
       "  </tbody>\n",
       "</table>\n",
       "</div>"
      ],
      "text/plain": [
       "          City         country              city_coord\n",
       "0        Paris          France   [48.856663, 2.351556]\n",
       "1    Stockholm          Sweden  [59.325000, 18.070897]\n",
       "2       London  United Kingdom  [51.507351, -0.127660]\n",
       "3       Berlin         Germany  [52.518654, 13.374711]\n",
       "4       Munich         Germany  [48.137187, 11.575691]\n",
       "5        Porto        Portugal  [41.157963, -8.629154]\n",
       "6        Milan           Italy   [45.469436, 9.180621]\n",
       "7   Bratislava        Slovakia  [48.143488, 17.108361]\n",
       "8       Vienna         Austria  [48.206481, 16.363451]\n",
       "9         Rome           Italy  [41.902689, 12.496176]\n",
       "10   Barcelona           Spain   [41.392696, 2.144449]\n",
       "11      Madrid           Spain  [40.419348, -3.700897]\n",
       "12      Dublin         Ireland  [53.340258, -6.252831]\n",
       "13    Brussels         Belgium   [50.846697, 4.352535]\n",
       "14      Zurich     Switzerland   [47.386966, 8.534139]\n",
       "15      Warsaw          Poland  [52.232090, 21.007139]\n",
       "16    Budapest         Hungary  [47.492647, 19.051399]\n",
       "17  Copenhagen         Denmark  [55.680661, 12.585828]\n",
       "18   Amsterdam     Netherlands   [52.373057, 4.892557]\n",
       "19        Lyon          France   [45.760199, 4.837715]\n",
       "20     Hamburg         Germany   [53.550682, 9.992895]\n",
       "21      Lisbon        Portugal  [38.716174, -9.141589]\n",
       "22      Prague  Czech Republic  [50.080293, 14.428983]\n",
       "23        Oslo          Norway  [59.912752, 10.734365]\n",
       "24    Helsinki         Finland  [60.166892, 24.943673]\n",
       "25   Edinburgh  United Kingdom  [55.951814, -3.207641]\n",
       "26      Geneva     Switzerland   [46.203548, 6.140003]\n",
       "27   Ljubljana        Slovenia  [46.058357, 14.520009]\n",
       "28      Athens          Greece  [37.975527, 23.734855]\n",
       "29  Luxembourg      Luxembourg   [49.611420, 6.119476]\n",
       "30      Krakow          Poland  [50.061971, 19.936742]"
      ]
     },
     "execution_count": 43,
     "metadata": {},
     "output_type": "execute_result"
    }
   ],
   "source": [
    "pd.DataFrame(cities_pars)"
   ]
  },
  {
   "cell_type": "code",
   "execution_count": 64,
   "metadata": {
    "ExecuteTime": {
     "end_time": "2021-03-12T12:08:48.998066Z",
     "start_time": "2021-03-12T12:08:29.499987Z"
    },
    "scrolled": false
   },
   "outputs": [
    {
     "data": {
      "text/plain": [
       "[{'meals': ['Lunch', 'Dinner', 'Brunch', 'Breakfast', 'Late Night'],\n",
       "  'coord_rest': '17 boulevard Saint Jacques Paris Marriott Rive Gauche Hotel & Conference Center, 75014 Paris France'},\n",
       " {'meals': 'no_info',\n",
       "  'coord_rest': '39 Aarstavaegen, Stockholm 120 52 Sweden'},\n",
       " {'meals': ['Lunch', 'Dinner', 'Late Night', 'Drinks'],\n",
       "  'coord_rest': '30 North Audley Street Mayfair, London W1K 6ZF England'},\n",
       " {'meals': 'no_info', 'coord_rest': 'Berliner Str. 54, 13189 Berlin Germany'},\n",
       " {'meals': ['Dinner', 'Lunch'],\n",
       "  'coord_rest': 'Zielstattstr. 6, 81379 Munich, Bavaria Germany'}]"
      ]
     },
     "execution_count": 64,
     "metadata": {},
     "output_type": "execute_result"
    }
   ],
   "source": [
    "import requests\n",
    "from bs4 import BeautifulSoup\n",
    "import re\n",
    "\n",
    "URL = 'https://www.tripadvisor.com' + df['URL_TA']\n",
    "HEADERS = {'user-agent':\n",
    "           'Mozilla/5.0 (Windows NT 10.0; Win64; x64) AppleWebKit/537.36 (KHTML, like Gecko) Chrome/88.0.4324.152 YaBrowser/21.2.2.101 Yowser/2.5 Safari/537.36',\n",
    "           'accept': '*/*'}\n",
    "rest_pars = []\n",
    "\n",
    "\n",
    "def get_html(url, params=None):\n",
    "    r = requests.get(url, headers=HEADERS, params=params)\n",
    "    return r\n",
    "\n",
    "\n",
    "def get_content(html):\n",
    "    soup = BeautifulSoup(html, 'html.parser')\n",
    "    pattern = re.compile('/d+[.]/d+[,]/d+[.]/d+')\n",
    "    meals_find = soup.find('div', string='Meals')\n",
    "    coord_find = soup.find(href=\"#MAPVIEW\")\n",
    "#     print(coord_find)\n",
    "    if meals_find:\n",
    "        meals_find = meals_find.find_next('div').get_text().split(', ')\n",
    "    else:\n",
    "        meals_find = 'no_info'\n",
    "\n",
    "    if coord_find:\n",
    "        coord_find = coord_find.get_text()\n",
    "    else:\n",
    "        coord_find = 'no_info'\n",
    "\n",
    "    rest_pars.append({'meals': meals_find,\n",
    "                      'coord_rest': coord_find\n",
    "                      })\n",
    "\n",
    "\n",
    "def parse(url):\n",
    "    html = get_html(url)\n",
    "    if html.status_code == 200:\n",
    "        get_content(html.text)\n",
    "    else:\n",
    "        print('Error')\n",
    "\n",
    "\n",
    "for i in URL[:5]:\n",
    "    parse(i)\n",
    "    \n",
    "rest_pars"
   ]
  },
  {
   "cell_type": "code",
   "execution_count": 68,
   "metadata": {
    "ExecuteTime": {
     "end_time": "2021-03-12T10:48:11.568986Z",
     "start_time": "2021-03-12T10:48:11.555991Z"
    }
   },
   "outputs": [
    {
     "data": {
      "text/plain": [
       "'https://www.tripadvisor.com/Restaurant_Review-g187147-d1912643-Reviews-R_Yves-Paris_Ile_de_France.html'"
      ]
     },
     "execution_count": 68,
     "metadata": {},
     "output_type": "execute_result"
    }
   ],
   "source": [
    "import requests\n",
    "from bs4 import BeautifulSoup\n",
    "import re\n",
    "import time\n",
    "URL = 'https://www.tripadvisor.com' + df['URL_TA']\n",
    "HEADERS = {'user-agent':\n",
    "           'Mozilla/5.0 (Windows NT 10.0; Win64; x64) AppleWebKit/537.36 (KHTML, like Gecko) Chrome/88.0.4324.152 YaBrowser/21.2.2.101 Yowser/2.5 Safari/537.36',\n",
    "           'accept': '*/*'}\n",
    "URL[0]"
   ]
  },
  {
   "cell_type": "code",
   "execution_count": 66,
   "metadata": {
    "ExecuteTime": {
     "end_time": "2021-03-12T12:09:30.979664Z",
     "start_time": "2021-03-12T12:09:28.323078Z"
    },
    "scrolled": false
   },
   "outputs": [
    {
     "name": "stdout",
     "output_type": "stream",
     "text": [
      "<meta content=\"https://maps.google.com/maps/api/staticmap?center=48.8316299%2C2.3397946&amp;zoom=17&amp;size=256x256&amp;language=en&amp;sensor=false&amp;client=google-maps-frontend&amp;signature=d9Au1ZREtU_JLzDQqc6hCs528W8\" itemprop=\"image\"/>\n"
     ]
    },
    {
     "ename": "NameError",
     "evalue": "name 'coord_finds' is not defined",
     "output_type": "error",
     "traceback": [
      "\u001b[1;31m---------------------------------------------------------------------------\u001b[0m",
      "\u001b[1;31mNameError\u001b[0m                                 Traceback (most recent call last)",
      "\u001b[1;32m<ipython-input-66-8b8e6d06a8ce>\u001b[0m in \u001b[0;36m<module>\u001b[1;34m\u001b[0m\n\u001b[0;32m     26\u001b[0m \u001b[1;33m\u001b[0m\u001b[0m\n\u001b[0;32m     27\u001b[0m \u001b[1;32mfor\u001b[0m \u001b[0mi\u001b[0m \u001b[1;32min\u001b[0m \u001b[0mrange\u001b[0m\u001b[1;33m(\u001b[0m\u001b[1;36m1\u001b[0m\u001b[1;33m)\u001b[0m\u001b[1;33m:\u001b[0m\u001b[1;33m\u001b[0m\u001b[1;33m\u001b[0m\u001b[0m\n\u001b[1;32m---> 28\u001b[1;33m     \u001b[0mparse_coord\u001b[0m\u001b[1;33m(\u001b[0m\u001b[1;34m'https://google.com/maps/search/'\u001b[0m \u001b[1;33m+\u001b[0m \u001b[0mrest_pars\u001b[0m\u001b[1;33m[\u001b[0m\u001b[0mi\u001b[0m\u001b[1;33m]\u001b[0m\u001b[1;33m[\u001b[0m\u001b[1;34m'coord_rest'\u001b[0m\u001b[1;33m]\u001b[0m\u001b[1;33m)\u001b[0m\u001b[1;33m\u001b[0m\u001b[1;33m\u001b[0m\u001b[0m\n\u001b[0m\u001b[0;32m     29\u001b[0m \u001b[1;33m\u001b[0m\u001b[0m\n",
      "\u001b[1;32m<ipython-input-66-8b8e6d06a8ce>\u001b[0m in \u001b[0;36mparse_coord\u001b[1;34m(url)\u001b[0m\n\u001b[0;32m     23\u001b[0m     \u001b[1;32melse\u001b[0m\u001b[1;33m:\u001b[0m\u001b[1;33m\u001b[0m\u001b[1;33m\u001b[0m\u001b[0m\n\u001b[0;32m     24\u001b[0m         \u001b[0mprint\u001b[0m\u001b[1;33m(\u001b[0m\u001b[1;34m'Error'\u001b[0m\u001b[1;33m)\u001b[0m\u001b[1;33m\u001b[0m\u001b[1;33m\u001b[0m\u001b[0m\n\u001b[1;32m---> 25\u001b[1;33m     \u001b[1;32mreturn\u001b[0m \u001b[0mcoord_finds\u001b[0m\u001b[1;33m\u001b[0m\u001b[1;33m\u001b[0m\u001b[0m\n\u001b[0m\u001b[0;32m     26\u001b[0m \u001b[1;33m\u001b[0m\u001b[0m\n\u001b[0;32m     27\u001b[0m \u001b[1;32mfor\u001b[0m \u001b[0mi\u001b[0m \u001b[1;32min\u001b[0m \u001b[0mrange\u001b[0m\u001b[1;33m(\u001b[0m\u001b[1;36m1\u001b[0m\u001b[1;33m)\u001b[0m\u001b[1;33m:\u001b[0m\u001b[1;33m\u001b[0m\u001b[1;33m\u001b[0m\u001b[0m\n",
      "\u001b[1;31mNameError\u001b[0m: name 'coord_finds' is not defined"
     ]
    }
   ],
   "source": [
    "rest_coord = []\n",
    "coor = []\n",
    "\n",
    "def get_html(url, params=None):\n",
    "    r = requests.get(url, headers=HEADERS, params=params)\n",
    "    return r\n",
    "\n",
    "\n",
    "def get_coord(html):\n",
    "    soup = BeautifulSoup(html, 'html.parser')\n",
    "    coord_finds = soup.find(content = re.compile('https://maps.google.com/maps/api/'))\n",
    "    print(coord_finds)\n",
    "    coor.append(coord_finds)\n",
    "    if coord_finds:\n",
    "        coord_finds = coord_finds.get('content').split('&zoom')[0].split('?center=')[1].split('%2C')\n",
    "    rest_coord.append(coord_finds)\n",
    "    return coord_finds\n",
    "\n",
    "def parse_coord(url):\n",
    "    html = get_html(url)\n",
    "    if html.status_code == 200:\n",
    "        get_coord(html.text)\n",
    "    else:\n",
    "        print('Error')    \n",
    "    \n",
    "for i in range(1):\n",
    "    parse_coord('https://google.com/maps/search/' + rest_pars[i]['coord_rest'])\n",
    "    \n"
   ]
  },
  {
   "cell_type": "code",
   "execution_count": 67,
   "metadata": {
    "ExecuteTime": {
     "end_time": "2021-03-12T12:09:35.042675Z",
     "start_time": "2021-03-12T12:09:35.027680Z"
    },
    "scrolled": false
   },
   "outputs": [
    {
     "data": {
      "text/plain": [
       "[['48.8316299', '2.3397946']]"
      ]
     },
     "execution_count": 67,
     "metadata": {},
     "output_type": "execute_result"
    }
   ],
   "source": [
    "rest_coord"
   ]
  },
  {
   "cell_type": "code",
   "execution_count": 69,
   "metadata": {
    "ExecuteTime": {
     "end_time": "2021-03-12T10:48:19.046997Z",
     "start_time": "2021-03-12T10:48:19.043996Z"
    }
   },
   "outputs": [
    {
     "data": {
      "text/plain": [
       "[{'meals': ['Lunch', 'Dinner', 'Brunch', 'Breakfast', 'Late Night'],\n",
       "  'coord_rest': '17 boulevard Saint Jacques Paris Marriott Rive Gauche Hotel & Conference Center, 75014 Paris France'},\n",
       " {'meals': 'no_info',\n",
       "  'coord_rest': '39 Aarstavaegen, Stockholm 120 52 Sweden'},\n",
       " {'meals': ['Lunch', 'Dinner', 'Late Night', 'Drinks'],\n",
       "  'coord_rest': '30 North Audley Street Mayfair, London W1K 6ZF England'},\n",
       " {'meals': 'no_info', 'coord_rest': 'Berliner Str. 54, 13189 Berlin Germany'},\n",
       " {'meals': ['Dinner', 'Lunch'],\n",
       "  'coord_rest': 'Zielstattstr. 6, 81379 Munich, Bavaria Germany'}]"
      ]
     },
     "execution_count": 69,
     "metadata": {},
     "output_type": "execute_result"
    }
   ],
   "source": [
    "rest_pars"
   ]
  }
 ],
 "metadata": {
  "kernelspec": {
   "display_name": "Python 3",
   "language": "python",
   "name": "python3"
  },
  "language_info": {
   "codemirror_mode": {
    "name": "ipython",
    "version": 3
   },
   "file_extension": ".py",
   "mimetype": "text/x-python",
   "name": "python",
   "nbconvert_exporter": "python",
   "pygments_lexer": "ipython3",
   "version": "3.8.3"
  }
 },
 "nbformat": 4,
 "nbformat_minor": 4
}
