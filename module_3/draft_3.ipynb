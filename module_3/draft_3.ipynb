{
 "cells": [
  {
   "cell_type": "code",
   "execution_count": 61,
   "metadata": {
    "ExecuteTime": {
     "end_time": "2021-03-16T12:45:12.209177Z",
     "start_time": "2021-03-16T12:45:12.201183Z"
    }
   },
   "outputs": [],
   "source": [
    "import pandas as pd\n",
    "import numpy as np\n",
    "import re"
   ]
  },
  {
   "cell_type": "code",
   "execution_count": 197,
   "metadata": {
    "ExecuteTime": {
     "end_time": "2021-03-17T07:00:12.167046Z",
     "start_time": "2021-03-17T07:00:11.522875Z"
    },
    "scrolled": false
   },
   "outputs": [
    {
     "data": {
      "text/html": [
       "<div>\n",
       "<style scoped>\n",
       "    .dataframe tbody tr th:only-of-type {\n",
       "        vertical-align: middle;\n",
       "    }\n",
       "\n",
       "    .dataframe tbody tr th {\n",
       "        vertical-align: top;\n",
       "    }\n",
       "\n",
       "    .dataframe thead th {\n",
       "        text-align: right;\n",
       "    }\n",
       "</style>\n",
       "<table border=\"1\" class=\"dataframe\">\n",
       "  <thead>\n",
       "    <tr style=\"text-align: right;\">\n",
       "      <th></th>\n",
       "      <th>ID_TA</th>\n",
       "      <th>meals</th>\n",
       "      <th>rest_coord</th>\n",
       "      <th>rub_max</th>\n",
       "      <th>rub_min</th>\n",
       "    </tr>\n",
       "  </thead>\n",
       "  <tbody>\n",
       "    <tr>\n",
       "      <th>0</th>\n",
       "      <td>d5808504</td>\n",
       "      <td>[Lunch, Dinner]</td>\n",
       "      <td>[45.49584, 9.14616]</td>\n",
       "      <td>NaN</td>\n",
       "      <td>NaN</td>\n",
       "    </tr>\n",
       "    <tr>\n",
       "      <th>1</th>\n",
       "      <td>d12845029</td>\n",
       "      <td>NaN</td>\n",
       "      <td>[48.2049288, 16.3719383]</td>\n",
       "      <td>NaN</td>\n",
       "      <td>NaN</td>\n",
       "    </tr>\n",
       "    <tr>\n",
       "      <th>2</th>\n",
       "      <td>d7992032</td>\n",
       "      <td>NaN</td>\n",
       "      <td>[59.2960467, 18.0529969]</td>\n",
       "      <td>NaN</td>\n",
       "      <td>NaN</td>\n",
       "    </tr>\n",
       "    <tr>\n",
       "      <th>3</th>\n",
       "      <td>d6633059</td>\n",
       "      <td>[Breakfast, Brunch, Lunch, Dinner]</td>\n",
       "      <td>[53.3640658, 6.2328068]</td>\n",
       "      <td>NaN</td>\n",
       "      <td>NaN</td>\n",
       "    </tr>\n",
       "    <tr>\n",
       "      <th>4</th>\n",
       "      <td>d8632781</td>\n",
       "      <td>[Lunch, Dinner, Late Night, Drinks]</td>\n",
       "      <td>[51.5127973, 0.1536371]</td>\n",
       "      <td>11220.0</td>\n",
       "      <td>3366.0</td>\n",
       "    </tr>\n",
       "    <tr>\n",
       "      <th>5</th>\n",
       "      <td>d12503536</td>\n",
       "      <td>[Breakfast, Lunch, Dinner, Drinks]</td>\n",
       "      <td>[41.133346, 8.613011]</td>\n",
       "      <td>NaN</td>\n",
       "      <td>NaN</td>\n",
       "    </tr>\n",
       "  </tbody>\n",
       "</table>\n",
       "</div>"
      ],
      "text/plain": [
       "       ID_TA                                meals                rest_coord  \\\n",
       "0   d5808504                      [Lunch, Dinner]       [45.49584, 9.14616]   \n",
       "1  d12845029                                  NaN  [48.2049288, 16.3719383]   \n",
       "2   d7992032                                  NaN  [59.2960467, 18.0529969]   \n",
       "3   d6633059   [Breakfast, Brunch, Lunch, Dinner]   [53.3640658, 6.2328068]   \n",
       "4   d8632781  [Lunch, Dinner, Late Night, Drinks]   [51.5127973, 0.1536371]   \n",
       "5  d12503536   [Breakfast, Lunch, Dinner, Drinks]     [41.133346, 8.613011]   \n",
       "\n",
       "   rub_max rub_min  \n",
       "0      NaN     NaN  \n",
       "1      NaN     NaN  \n",
       "2      NaN     NaN  \n",
       "3      NaN     NaN  \n",
       "4  11220.0  3366.0  \n",
       "5      NaN     NaN  "
      ]
     },
     "metadata": {},
     "output_type": "display_data"
    },
    {
     "name": "stdout",
     "output_type": "stream",
     "text": [
      "<class 'pandas.core.frame.DataFrame'>\n",
      "RangeIndex: 39974 entries, 0 to 39973\n",
      "Data columns (total 5 columns):\n",
      " #   Column      Non-Null Count  Dtype  \n",
      "---  ------      --------------  -----  \n",
      " 0   ID_TA       39974 non-null  object \n",
      " 1   meals       22330 non-null  object \n",
      " 2   rest_coord  35016 non-null  object \n",
      " 3   rub_max     11762 non-null  float64\n",
      " 4   rub_min     11762 non-null  object \n",
      "dtypes: float64(1), object(4)\n",
      "memory usage: 1.5+ MB\n"
     ]
    },
    {
     "data": {
      "text/plain": [
       "None"
      ]
     },
     "metadata": {},
     "output_type": "display_data"
    }
   ],
   "source": [
    "df = pd.read_csv('rest.csv')\n",
    "pattern = re.compile('\\d+[.]\\d+')\n",
    "pattern_text = re.compile('\\w+\\s*\\w*')\n",
    "df = df.replace('no_info', np.nan)\n",
    "df.rest_coord = df.rest_coord.apply(lambda x: pattern.findall(x))\n",
    "df.rest_coord = df.rest_coord.apply(lambda x: np.nan if len(x) != 2 else x)\n",
    "df.rest_coord = df.rest_coord.apply(lambda x: [float(x[0]), float(x[1])] if type(x) == list else x)\n",
    "df.meals = df.meals.apply(lambda x: pattern_text.findall(x) if type(x) == str else x)\n",
    "df.rub_max = df.rub_max.apply(lambda x: float(x) if type(x) == str else x)\n",
    "df.loc[df.rest_adress.isnull(), 'rest_coord'] = np.nan\n",
    "df.loc[df.rest_adress.isnull(), 'meals'] = np.nan\n",
    "df = df.drop('rest_adress', axis = 1)\n",
    "display(df.head(6))\n",
    "display(df.info())\n",
    "df.to_csv('rest_pars.csv', index = False)"
   ]
  }
 ],
 "metadata": {
  "kernelspec": {
   "display_name": "Python 3",
   "language": "python",
   "name": "python3"
  },
  "language_info": {
   "codemirror_mode": {
    "name": "ipython",
    "version": 3
   },
   "file_extension": ".py",
   "mimetype": "text/x-python",
   "name": "python",
   "nbconvert_exporter": "python",
   "pygments_lexer": "ipython3",
   "version": "3.8.3"
  }
 },
 "nbformat": 4,
 "nbformat_minor": 4
}
