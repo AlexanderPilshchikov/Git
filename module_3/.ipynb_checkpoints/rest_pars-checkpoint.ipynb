{
 "cells": [
  {
   "cell_type": "code",
   "execution_count": 339,
   "metadata": {
    "ExecuteTime": {
     "end_time": "2021-03-12T14:39:22.701074Z",
     "start_time": "2021-03-12T14:39:22.689071Z"
    }
   },
   "outputs": [],
   "source": [
    "import pandas as pd\n",
    "from selenium import webdriver\n",
    "from selenium.webdriver.common.keys import Keys\n",
    "import time\n",
    "import csv"
   ]
  },
  {
   "cell_type": "code",
   "execution_count": 340,
   "metadata": {
    "ExecuteTime": {
     "end_time": "2021-03-12T14:39:24.188741Z",
     "start_time": "2021-03-12T14:39:24.058193Z"
    }
   },
   "outputs": [],
   "source": [
    "df = pd.read_csv('main_task.csv')\n",
    "df.loc[df['City'] == 'Oporto', 'City'] = 'Porto'\n",
    "cities = df.City.unique()"
   ]
  },
  {
   "cell_type": "code",
   "execution_count": 350,
   "metadata": {
    "ExecuteTime": {
     "end_time": "2021-03-12T14:44:09.053342Z",
     "start_time": "2021-03-12T14:44:09.033346Z"
    }
   },
   "outputs": [],
   "source": [
    "df = df.loc[~df.URL_TA.duplicated(keep='first')]"
   ]
  },
  {
   "cell_type": "code",
   "execution_count": 351,
   "metadata": {
    "ExecuteTime": {
     "end_time": "2021-03-12T14:44:11.822242Z",
     "start_time": "2021-03-12T14:44:11.809248Z"
    },
    "scrolled": true
   },
   "outputs": [
    {
     "data": {
      "text/html": [
       "<div>\n",
       "<style scoped>\n",
       "    .dataframe tbody tr th:only-of-type {\n",
       "        vertical-align: middle;\n",
       "    }\n",
       "\n",
       "    .dataframe tbody tr th {\n",
       "        vertical-align: top;\n",
       "    }\n",
       "\n",
       "    .dataframe thead th {\n",
       "        text-align: right;\n",
       "    }\n",
       "</style>\n",
       "<table border=\"1\" class=\"dataframe\">\n",
       "  <thead>\n",
       "    <tr style=\"text-align: right;\">\n",
       "      <th></th>\n",
       "      <th>Restaurant_id</th>\n",
       "      <th>City</th>\n",
       "      <th>Cuisine Style</th>\n",
       "      <th>Ranking</th>\n",
       "      <th>Rating</th>\n",
       "      <th>Price Range</th>\n",
       "      <th>Number of Reviews</th>\n",
       "      <th>Reviews</th>\n",
       "      <th>URL_TA</th>\n",
       "      <th>ID_TA</th>\n",
       "    </tr>\n",
       "  </thead>\n",
       "  <tbody>\n",
       "    <tr>\n",
       "      <th>0</th>\n",
       "      <td>id_5569</td>\n",
       "      <td>Paris</td>\n",
       "      <td>['European', 'French', 'International']</td>\n",
       "      <td>5570.0</td>\n",
       "      <td>3.5</td>\n",
       "      <td>$$ - $$$</td>\n",
       "      <td>194.0</td>\n",
       "      <td>[['Good food at your doorstep', 'A good hotel ...</td>\n",
       "      <td>/Restaurant_Review-g187147-d1912643-Reviews-R_...</td>\n",
       "      <td>d1912643</td>\n",
       "    </tr>\n",
       "    <tr>\n",
       "      <th>1</th>\n",
       "      <td>id_1535</td>\n",
       "      <td>Stockholm</td>\n",
       "      <td>NaN</td>\n",
       "      <td>1537.0</td>\n",
       "      <td>4.0</td>\n",
       "      <td>NaN</td>\n",
       "      <td>10.0</td>\n",
       "      <td>[['Unique cuisine', 'Delicious Nepalese food']...</td>\n",
       "      <td>/Restaurant_Review-g189852-d7992032-Reviews-Bu...</td>\n",
       "      <td>d7992032</td>\n",
       "    </tr>\n",
       "  </tbody>\n",
       "</table>\n",
       "</div>"
      ],
      "text/plain": [
       "  Restaurant_id       City                            Cuisine Style  Ranking  \\\n",
       "0       id_5569      Paris  ['European', 'French', 'International']   5570.0   \n",
       "1       id_1535  Stockholm                                      NaN   1537.0   \n",
       "\n",
       "   Rating Price Range  Number of Reviews  \\\n",
       "0     3.5    $$ - $$$              194.0   \n",
       "1     4.0         NaN               10.0   \n",
       "\n",
       "                                             Reviews  \\\n",
       "0  [['Good food at your doorstep', 'A good hotel ...   \n",
       "1  [['Unique cuisine', 'Delicious Nepalese food']...   \n",
       "\n",
       "                                              URL_TA     ID_TA  \n",
       "0  /Restaurant_Review-g187147-d1912643-Reviews-R_...  d1912643  \n",
       "1  /Restaurant_Review-g189852-d7992032-Reviews-Bu...  d7992032  "
      ]
     },
     "execution_count": 351,
     "metadata": {},
     "output_type": "execute_result"
    }
   ],
   "source": [
    "df.head(2)"
   ]
  },
  {
   "cell_type": "code",
   "execution_count": 352,
   "metadata": {
    "ExecuteTime": {
     "end_time": "2021-03-12T14:44:20.059057Z",
     "start_time": "2021-03-12T14:44:20.043062Z"
    }
   },
   "outputs": [
    {
     "name": "stdout",
     "output_type": "stream",
     "text": [
      "<class 'pandas.core.frame.DataFrame'>\n",
      "Int64Index: 39980 entries, 0 to 39999\n",
      "Data columns (total 10 columns):\n",
      " #   Column             Non-Null Count  Dtype  \n",
      "---  ------             --------------  -----  \n",
      " 0   Restaurant_id      39980 non-null  object \n",
      " 1   City               39980 non-null  object \n",
      " 2   Cuisine Style      30701 non-null  object \n",
      " 3   Ranking            39980 non-null  float64\n",
      " 4   Rating             39980 non-null  float64\n",
      " 5   Price Range        26101 non-null  object \n",
      " 6   Number of Reviews  37437 non-null  float64\n",
      " 7   Reviews            39980 non-null  object \n",
      " 8   URL_TA             39980 non-null  object \n",
      " 9   ID_TA              39980 non-null  object \n",
      "dtypes: float64(3), object(7)\n",
      "memory usage: 3.4+ MB\n"
     ]
    }
   ],
   "source": [
    "df.info()"
   ]
  },
  {
   "cell_type": "code",
   "execution_count": 355,
   "metadata": {
    "ExecuteTime": {
     "end_time": "2021-03-12T14:45:20.697190Z",
     "start_time": "2021-03-12T14:45:20.665191Z"
    }
   },
   "outputs": [
    {
     "data": {
      "text/plain": [
       "/Restaurant_Review-g186338-d8016298-Reviews-Bar_B_Que-London_England.html                            1\n",
       "/Restaurant_Review-g187497-d13302247-Reviews-RomaBella-Barcelona_Catalonia.html                      1\n",
       "/Restaurant_Review-g187147-d11817386-Reviews-IMAGO_Resto-Paris_Ile_de_France.html                    1\n",
       "/Restaurant_Review-g187323-d7160762-Reviews-Quantuan-Berlin.html                                     1\n",
       "/Restaurant_Review-g187323-d7235512-Reviews-S1_Burger_Keller-Berlin.html                             1\n",
       "                                                                                                    ..\n",
       "/Restaurant_Review-g187497-d11906521-Reviews-SomSacs-Barcelona_Catalonia.html                        1\n",
       "/Restaurant_Review-g186338-d11985116-Reviews-Belgo_Bar_Restaurant_Kings_Cross-London_England.html    1\n",
       "/Restaurant_Review-g186338-d6641339-Reviews-The_Cherry_Tree_Cafe-London_England.html                 1\n",
       "/Restaurant_Review-g188113-d2495703-Reviews-Globus_Restaurant-Zurich.html                            1\n",
       "/Restaurant_Review-g187514-d11829702-Reviews-Asador_de_Pollos_Las_Chicas-Madrid.html                 1\n",
       "Name: URL_TA, Length: 39980, dtype: int64"
      ]
     },
     "execution_count": 355,
     "metadata": {},
     "output_type": "execute_result"
    }
   ],
   "source": [
    "df['URL_TA'].value_counts()"
   ]
  },
  {
   "cell_type": "code",
   "execution_count": 361,
   "metadata": {
    "ExecuteTime": {
     "end_time": "2021-03-12T14:47:27.052419Z",
     "start_time": "2021-03-12T14:47:15.413651Z"
    },
    "scrolled": true
   },
   "outputs": [
    {
     "name": "stdout",
     "output_type": "stream",
     "text": [
      "100.0 %       3 / 33\r"
     ]
    }
   ],
   "source": [
    "import time\n",
    "import requests\n",
    "from bs4 import BeautifulSoup\n",
    "import re\n",
    "\n",
    "URL = df['URL_TA']\n",
    "HEADERS = {'user-agent':\n",
    "           'Mozilla/5.0 (Windows NT 10.0; Win64; x64) AppleWebKit/537.36 (KHTML, like Gecko) Chrome/88.0.4324.152 YaBrowser/21.2.2.101 Yowser/2.5 Safari/537.36',\n",
    "           'accept': '*/*'}\n",
    "rest_pars = []\n",
    "\n",
    "\n",
    "def get_html(url, params=None):\n",
    "    r = requests.get(url, headers=HEADERS, params=params)\n",
    "    return r\n",
    "\n",
    "\n",
    "def get_coord(url):\n",
    "    r = requests.get(url, headers=HEADERS)\n",
    "    soup = BeautifulSoup(r.text, 'html.parser')\n",
    "    coord_finds = soup.find(content=re.compile(\n",
    "        'https://maps.google.com/maps/api/'))\n",
    "    if coord_finds:\n",
    "        coord_finds = coord_finds.get('content').split(\n",
    "            '&zoom')[0].split('?center=')[1].split('%2C')\n",
    "    else:\n",
    "        coord_finds = [[],[]]\n",
    "    return coord_finds\n",
    "\n",
    "\n",
    "def get_content(html):\n",
    "    soup = BeautifulSoup(html, 'html.parser')\n",
    "    pattern = re.compile('\\d+')\n",
    "    meals_find = soup.find('div', string='Meals')\n",
    "    adress_find = soup.find(href=\"#MAPVIEW\")\n",
    "    rub_find = soup.find('div', string=re.compile('RUB'))\n",
    "\n",
    "    if meals_find:\n",
    "        meals_find = meals_find.find_next('div').get_text().split(', ')\n",
    "    else:\n",
    "        meals_find = 'no_info'\n",
    "\n",
    "    if adress_find:\n",
    "        adress_find = adress_find.get_text()\n",
    "    else:\n",
    "        adress_find = 'no_info'\n",
    "\n",
    "    if rub_find:\n",
    "        rub_find = pattern.findall(rub_find.get_text().replace(',', ''))\n",
    "        rub_max = float(rub_find[1])\n",
    "        rub_min = float(rub_find[0])\n",
    "    else:\n",
    "        rub_find = 'no_info'\n",
    "        rub_max = 'no_info'\n",
    "        rub_min = 'no_info'\n",
    "\n",
    "    rest_pars.append({'Resraurant_id': df['Restaurant_id'][df['URL_TA'] == i].item(),\n",
    "                      'meals': meals_find,\n",
    "                      'rest_adress': adress_find,\n",
    "                      'rest_coord': get_coord('https://google.com/maps/search/'+adress_find),\n",
    "                      'rub_max': rub_max,\n",
    "                      'rub_min': rub_min\n",
    "                      })\n",
    "\n",
    "\n",
    "def parse(url):\n",
    "    html = get_html(url)\n",
    "    if html.status_code == 200:\n",
    "        get_content(html.text)\n",
    "    else:\n",
    "        pass\n",
    "\n",
    "\n",
    "count = 1\n",
    "col = URL[145:148]\n",
    "\n",
    "for i in col:\n",
    "    parse('https://www.tripadvisor.com' + i)\n",
    "    print(round(count*100/len(col), 3), '%      ',\n",
    "          count, '/', len(col), end='', flush=True)\n",
    "    print('\\r', end='')\n",
    "    count += 1"
   ]
  },
  {
   "cell_type": "code",
   "execution_count": 362,
   "metadata": {
    "ExecuteTime": {
     "end_time": "2021-03-12T14:47:29.587714Z",
     "start_time": "2021-03-12T14:47:29.583713Z"
    },
    "scrolled": true
   },
   "outputs": [
    {
     "data": {
      "text/plain": [
       "[{'Resraurant_id': 'id_8121',\n",
       "  'meals': ['Late Night'],\n",
       "  'rest_adress': 'Plaza Emperador Carlos V 8, 28012 Madrid Spain',\n",
       "  'rest_coord': ['40.4084654', '-3.693189'],\n",
       "  'rub_max': 'no_info',\n",
       "  'rub_min': 'no_info'},\n",
       " {'Resraurant_id': 'id_4429',\n",
       "  'meals': ['BreakfastBrunchLunchDinner Breakfast  Brunch  Lunch  Dinner '],\n",
       "  'rest_adress': 'no_info',\n",
       "  'rest_coord': ['70.0732779', '24.26608125'],\n",
       "  'rub_max': 'no_info',\n",
       "  'rub_min': 'no_info'},\n",
       " {'Resraurant_id': 'id_4110',\n",
       "  'meals': ['Breakfast', 'Lunch', 'Dinner'],\n",
       "  'rest_adress': 'Calle Espronceda 34, 28003 Madrid Spain',\n",
       "  'rest_coord': ['40.4403981', '-3.6949632'],\n",
       "  'rub_max': 'no_info',\n",
       "  'rub_min': 'no_info'}]"
      ]
     },
     "execution_count": 362,
     "metadata": {},
     "output_type": "execute_result"
    }
   ],
   "source": [
    "rest_pars"
   ]
  },
  {
   "cell_type": "code",
   "execution_count": 363,
   "metadata": {
    "ExecuteTime": {
     "end_time": "2021-03-12T14:47:32.981710Z",
     "start_time": "2021-03-12T14:47:32.967715Z"
    },
    "scrolled": true
   },
   "outputs": [],
   "source": [
    "data_rest = pd.DataFrame(rest_pars)\n",
    "data_rest.rest_coord = data_rest.rest_coord.apply(lambda x: [float(x[0]), float(x[1])])\n",
    "data_rest.to_csv('rest.csv', index = False)"
   ]
  },
  {
   "cell_type": "code",
   "execution_count": 364,
   "metadata": {
    "ExecuteTime": {
     "end_time": "2021-03-12T14:47:35.080916Z",
     "start_time": "2021-03-12T14:47:35.071922Z"
    }
   },
   "outputs": [
    {
     "data": {
      "text/html": [
       "<div>\n",
       "<style scoped>\n",
       "    .dataframe tbody tr th:only-of-type {\n",
       "        vertical-align: middle;\n",
       "    }\n",
       "\n",
       "    .dataframe tbody tr th {\n",
       "        vertical-align: top;\n",
       "    }\n",
       "\n",
       "    .dataframe thead th {\n",
       "        text-align: right;\n",
       "    }\n",
       "</style>\n",
       "<table border=\"1\" class=\"dataframe\">\n",
       "  <thead>\n",
       "    <tr style=\"text-align: right;\">\n",
       "      <th></th>\n",
       "      <th>Resraurant_id</th>\n",
       "      <th>meals</th>\n",
       "      <th>rest_adress</th>\n",
       "      <th>rest_coord</th>\n",
       "      <th>rub_max</th>\n",
       "      <th>rub_min</th>\n",
       "    </tr>\n",
       "  </thead>\n",
       "  <tbody>\n",
       "    <tr>\n",
       "      <th>0</th>\n",
       "      <td>id_8121</td>\n",
       "      <td>['Late Night']</td>\n",
       "      <td>Plaza Emperador Carlos V 8, 28012 Madrid Spain</td>\n",
       "      <td>[40.4084654, -3.693189]</td>\n",
       "      <td>no_info</td>\n",
       "      <td>no_info</td>\n",
       "    </tr>\n",
       "    <tr>\n",
       "      <th>1</th>\n",
       "      <td>id_4429</td>\n",
       "      <td>['BreakfastBrunchLunchDinner Breakfast  Brunch...</td>\n",
       "      <td>no_info</td>\n",
       "      <td>[70.0732779, 24.26608125]</td>\n",
       "      <td>no_info</td>\n",
       "      <td>no_info</td>\n",
       "    </tr>\n",
       "    <tr>\n",
       "      <th>2</th>\n",
       "      <td>id_4110</td>\n",
       "      <td>['Breakfast', 'Lunch', 'Dinner']</td>\n",
       "      <td>Calle Espronceda 34, 28003 Madrid Spain</td>\n",
       "      <td>[40.4403981, -3.6949632]</td>\n",
       "      <td>no_info</td>\n",
       "      <td>no_info</td>\n",
       "    </tr>\n",
       "  </tbody>\n",
       "</table>\n",
       "</div>"
      ],
      "text/plain": [
       "  Resraurant_id                                              meals  \\\n",
       "0       id_8121                                     ['Late Night']   \n",
       "1       id_4429  ['BreakfastBrunchLunchDinner Breakfast  Brunch...   \n",
       "2       id_4110                   ['Breakfast', 'Lunch', 'Dinner']   \n",
       "\n",
       "                                      rest_adress                 rest_coord  \\\n",
       "0  Plaza Emperador Carlos V 8, 28012 Madrid Spain    [40.4084654, -3.693189]   \n",
       "1                                         no_info  [70.0732779, 24.26608125]   \n",
       "2         Calle Espronceda 34, 28003 Madrid Spain   [40.4403981, -3.6949632]   \n",
       "\n",
       "   rub_max  rub_min  \n",
       "0  no_info  no_info  \n",
       "1  no_info  no_info  \n",
       "2  no_info  no_info  "
      ]
     },
     "execution_count": 364,
     "metadata": {},
     "output_type": "execute_result"
    }
   ],
   "source": [
    "data = pd.read_csv('rest.csv')\n",
    "data"
   ]
  },
  {
   "cell_type": "code",
   "execution_count": 365,
   "metadata": {
    "ExecuteTime": {
     "end_time": "2021-03-12T14:47:37.421506Z",
     "start_time": "2021-03-12T14:47:37.416513Z"
    }
   },
   "outputs": [
    {
     "name": "stdout",
     "output_type": "stream",
     "text": [
      "https://www.tripadvisor.com/Restaurant_Review-g187514-d4600226-Reviews-Cafeteria_Teresa-Madrid.html\n"
     ]
    }
   ],
   "source": [
    "print('https://www.tripadvisor.com' + URL[147])"
   ]
  }
 ],
 "metadata": {
  "kernelspec": {
   "display_name": "Python 3",
   "language": "python",
   "name": "python3"
  },
  "language_info": {
   "codemirror_mode": {
    "name": "ipython",
    "version": 3
   },
   "file_extension": ".py",
   "mimetype": "text/x-python",
   "name": "python",
   "nbconvert_exporter": "python",
   "pygments_lexer": "ipython3",
   "version": "3.8.3"
  }
 },
 "nbformat": 4,
 "nbformat_minor": 4
}
