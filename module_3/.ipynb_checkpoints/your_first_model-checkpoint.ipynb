{
 "cells": [
  {
   "cell_type": "markdown",
   "metadata": {},
   "source": [
    "# Загрузка Pandas и очистка данных"
   ]
  },
  {
   "cell_type": "code",
   "execution_count": 44,
   "metadata": {
    "ExecuteTime": {
     "end_time": "2021-03-18T11:42:42.651402Z",
     "start_time": "2021-03-18T11:42:42.641401Z"
    }
   },
   "outputs": [],
   "source": [
    "import pandas as pd\n",
    "import numpy as np\n",
    "from datetime import datetime\n",
    "import re\n",
    "from math import radians, sin, cos, asin, sqrt\n",
    "import seaborn as sns # библиотека для визуализации статистических данных\n",
    "import matplotlib.pyplot as plt # для построения графиков"
   ]
  },
  {
   "cell_type": "markdown",
   "metadata": {},
   "source": [
    "1. ~Создать признаки для Price Range.~\n",
    "2. ~Создать признаки для населения по городам и площади городов.~\n",
    "3. ~Спарсить средний чек и время питания~\n",
    "4. ~Посмотреть ***Ranking — место, которое занимает данный ресторан среди всех ресторанов своего города***, ***Number of Reviews — количество отзывов о ресторане***.~\n",
    "5. ~Попробывать спарсить расстояние от центра города до ресторана. На https://www.tripadvisor.ru/ есть координаты ресторанов, на https://www.google.com/maps/ парсятся центры городов~.\n",
    "6. ~Спрарсить страны на Яндекс.Картах~\n",
    "7. Аномальные признаки? Заполнение пропусков (кухни - стоит ли?) EDA графики.\n",
    "8. ~Зарегаться на Kaggle.~\n",
    "9. ~Обработать отзывы на тональность. Ну эт пиздец...~\n",
    "10. Столица или нет?\n",
    "11. "
   ]
  },
  {
   "cell_type": "code",
   "execution_count": 45,
   "metadata": {
    "ExecuteTime": {
     "end_time": "2021-03-18T11:42:53.957032Z",
     "start_time": "2021-03-18T11:42:43.817721Z"
    },
    "scrolled": false
   },
   "outputs": [],
   "source": [
    "df = pd.read_csv('main_task.csv')\n",
    "\n",
    "# очистка столбца виды кухонь\n",
    "pattern = re.compile('\\w+\\s*\\w*')\n",
    "df['Cuisine Style'].fillna('no_information', inplace=True)\n",
    "df['Cuisine Style'] = df['Cuisine Style'].apply(lambda x: pattern.findall(x))\n",
    "\n",
    "#создание столбца Cuisine Count - колическтво кухонь в ресторане\n",
    "df['Cuisine Count'] = df['Cuisine Style'].apply(lambda x: len(x))\n",
    "\n",
    "# очистка столбца с отзывами\n",
    "pattern = re.compile('\\d+[-]\\d+[-]\\d+')\n",
    "df['Reviews'] = df['Reviews'].apply(lambda x: str(x).split(','))\n",
    "df['Reviews'] = df['Reviews'].apply(lambda x: str(x).replace('/', '-'))\n",
    "df['Reviews'] = df['Reviews'].apply(lambda x: pattern.findall(x))\n",
    "\n",
    "df['Reviews'] = df['Reviews'].apply(lambda x: pd.to_datetime(x))\n",
    "df['Reviews'] = df['Reviews'].apply(lambda x: np.nan if len(x) == 0 else x)\n",
    "\n",
    "#создание столбца diff_day - разница между отзывами в днях\n",
    "df['dif_day'] = df['Reviews'][df['Reviews'].isnull() == False].apply(lambda x: x[0] - x[-1])\n",
    "df['dif_day'] = df['dif_day'].apply(lambda x: x.days)\n",
    "\n",
    "df.loc[df['City'] == 'Oporto', 'City'] = 'Porto'"
   ]
  },
  {
   "cell_type": "code",
   "execution_count": 46,
   "metadata": {
    "ExecuteTime": {
     "end_time": "2021-03-18T11:42:53.989032Z",
     "start_time": "2021-03-18T11:42:53.958023Z"
    }
   },
   "outputs": [],
   "source": [
    "\n",
    "df['Price Range'] = df['Price Range'].apply(lambda x: 'low_price' if x == '$' else x)\n",
    "df['Price Range'] = df['Price Range'].apply(lambda x: 'medium_price' if x == '$$ - $$$' else x)\n",
    "df['Price Range'] = df['Price Range'].apply(lambda x: 'high_price' if x == '$$$$' else x)"
   ]
  },
  {
   "cell_type": "code",
   "execution_count": 47,
   "metadata": {
    "ExecuteTime": {
     "end_time": "2021-03-18T11:42:54.005054Z",
     "start_time": "2021-03-18T11:42:53.990033Z"
    }
   },
   "outputs": [],
   "source": [
    "#борьба с нулевыми значениями\n",
    "df['Number of Reviews'] = df['Number of Reviews'].fillna(df['Number of Reviews'].median())\n",
    "df['dif_day'] = df['dif_day'].fillna(df['dif_day'].median())"
   ]
  },
  {
   "cell_type": "code",
   "execution_count": 48,
   "metadata": {
    "ExecuteTime": {
     "end_time": "2021-03-18T11:42:54.021049Z",
     "start_time": "2021-03-18T11:42:54.006054Z"
    },
    "scrolled": true
   },
   "outputs": [
    {
     "data": {
      "text/html": [
       "<div>\n",
       "<style scoped>\n",
       "    .dataframe tbody tr th:only-of-type {\n",
       "        vertical-align: middle;\n",
       "    }\n",
       "\n",
       "    .dataframe tbody tr th {\n",
       "        vertical-align: top;\n",
       "    }\n",
       "\n",
       "    .dataframe thead th {\n",
       "        text-align: right;\n",
       "    }\n",
       "</style>\n",
       "<table border=\"1\" class=\"dataframe\">\n",
       "  <thead>\n",
       "    <tr style=\"text-align: right;\">\n",
       "      <th></th>\n",
       "      <th>Restaurant_id</th>\n",
       "      <th>City</th>\n",
       "      <th>Cuisine Style</th>\n",
       "      <th>Ranking</th>\n",
       "      <th>Rating</th>\n",
       "      <th>Price Range</th>\n",
       "      <th>Number of Reviews</th>\n",
       "      <th>Reviews</th>\n",
       "      <th>URL_TA</th>\n",
       "      <th>ID_TA</th>\n",
       "      <th>Cuisine Count</th>\n",
       "      <th>dif_day</th>\n",
       "    </tr>\n",
       "  </thead>\n",
       "  <tbody>\n",
       "    <tr>\n",
       "      <th>0</th>\n",
       "      <td>id_5569</td>\n",
       "      <td>Paris</td>\n",
       "      <td>[European, French, International]</td>\n",
       "      <td>5570.0</td>\n",
       "      <td>3.5</td>\n",
       "      <td>medium_price</td>\n",
       "      <td>194.0</td>\n",
       "      <td>DatetimeIndex(['2017-12-31', '2017-11-20'], dt...</td>\n",
       "      <td>/Restaurant_Review-g187147-d1912643-Reviews-R_...</td>\n",
       "      <td>d1912643</td>\n",
       "      <td>3</td>\n",
       "      <td>41.0</td>\n",
       "    </tr>\n",
       "    <tr>\n",
       "      <th>1</th>\n",
       "      <td>id_1535</td>\n",
       "      <td>Stockholm</td>\n",
       "      <td>[no_information]</td>\n",
       "      <td>1537.0</td>\n",
       "      <td>4.0</td>\n",
       "      <td>NaN</td>\n",
       "      <td>10.0</td>\n",
       "      <td>DatetimeIndex(['2017-07-06', '2016-06-19'], dt...</td>\n",
       "      <td>/Restaurant_Review-g189852-d7992032-Reviews-Bu...</td>\n",
       "      <td>d7992032</td>\n",
       "      <td>1</td>\n",
       "      <td>382.0</td>\n",
       "    </tr>\n",
       "  </tbody>\n",
       "</table>\n",
       "</div>"
      ],
      "text/plain": [
       "  Restaurant_id       City                      Cuisine Style  Ranking  \\\n",
       "0       id_5569      Paris  [European, French, International]   5570.0   \n",
       "1       id_1535  Stockholm                   [no_information]   1537.0   \n",
       "\n",
       "   Rating   Price Range  Number of Reviews  \\\n",
       "0     3.5  medium_price              194.0   \n",
       "1     4.0           NaN               10.0   \n",
       "\n",
       "                                             Reviews  \\\n",
       "0  DatetimeIndex(['2017-12-31', '2017-11-20'], dt...   \n",
       "1  DatetimeIndex(['2017-07-06', '2016-06-19'], dt...   \n",
       "\n",
       "                                              URL_TA     ID_TA  Cuisine Count  \\\n",
       "0  /Restaurant_Review-g187147-d1912643-Reviews-R_...  d1912643              3   \n",
       "1  /Restaurant_Review-g189852-d7992032-Reviews-Bu...  d7992032              1   \n",
       "\n",
       "   dif_day  \n",
       "0     41.0  \n",
       "1    382.0  "
      ]
     },
     "execution_count": 48,
     "metadata": {},
     "output_type": "execute_result"
    }
   ],
   "source": [
    "df.head(2)"
   ]
  },
  {
   "cell_type": "code",
   "execution_count": 49,
   "metadata": {
    "ExecuteTime": {
     "end_time": "2021-03-18T11:42:54.053066Z",
     "start_time": "2021-03-18T11:42:54.022049Z"
    },
    "scrolled": true
   },
   "outputs": [],
   "source": [
    "#создаём признаки по населению и площади городов\n",
    "data = [[2.2, 105], [1, 188], [8.9, 1706], \n",
    "         [3.6, 891], [1.5, 310], [0.3, 41,4], \n",
    "         [1.4, 181], [0.4, 368], [1.9, 414], \n",
    "         [2.9, 1287], [1.7, 101], [3.3, 607], \n",
    "         [1.2, 117], [0.2, 32.6], [0.4, 88], \n",
    "         [1.8, 517], [1.8, 525], [0.8, 86.4], \n",
    "         [0.9, 219], [0.5, 48], [1.9, 755], \n",
    "         [0.5,100], [1.3, 496], [0.7, 454], \n",
    "         [0.7,213], [0.5, 120], [0.2, 16], \n",
    "         [0.3, 163], [0.7, 39], [0.125, 51.5], \n",
    "         [0.8, 327]]\n",
    "cities = df.City.unique()\n",
    "city_dict = {}\n",
    "for i in range(len(cities)):\n",
    "    city_dict[cities[i]] = data[i] \n",
    "\n",
    "df['city_pop'] = df['City'].apply(lambda x: city_dict[x][0])\n",
    "df['city_val'] = df['City'].apply(lambda x: city_dict[x][-1])"
   ]
  },
  {
   "cell_type": "code",
   "execution_count": 50,
   "metadata": {
    "ExecuteTime": {
     "end_time": "2021-03-18T11:42:54.245116Z",
     "start_time": "2021-03-18T11:42:54.054066Z"
    }
   },
   "outputs": [],
   "source": [
    "# загружаем данные с парсинга\n",
    "# городов\n",
    "data_city = pd.read_csv('cities.csv')\n",
    "pattern_coord = re.compile('\\d+[.]\\d+')\n",
    "data_city.city_coord = data_city.city_coord.apply(\n",
    "    lambda x: pattern_coord.findall(x))\n",
    "data_city.city_coord = data_city.city_coord.apply(\n",
    "    lambda x: [float(x[0]), float(x[1])])\n",
    "# ресторанов\n",
    "data_rest = pd.read_csv('rest_pars.csv')\n",
    "pattern_text = re.compile('\\w+\\s*\\w*')\n",
    "data_rest.meals = data_rest.meals.apply(\n",
    "    lambda x: pattern_text.findall(x) if type(x) == str else x)\n",
    "data_rest.rub_max = data_rest.rub_max.apply(\n",
    "    lambda x: float(x) if type(x) == str else x)\n",
    "data_rest.rest_coord = data_rest.rest_coord.apply(\n",
    "    lambda x: pattern_coord.findall(x) if type(x) == str else x)\n",
    "\n",
    "df = df.merge(data_city)\n",
    "df = df.merge(data_rest, how = 'outer')"
   ]
  },
  {
   "cell_type": "code",
   "execution_count": 51,
   "metadata": {
    "ExecuteTime": {
     "end_time": "2021-03-18T11:42:54.261121Z",
     "start_time": "2021-03-18T11:42:54.246118Z"
    }
   },
   "outputs": [],
   "source": [
    "data_capitals = pd.read_csv('capitals.csv')"
   ]
  },
  {
   "cell_type": "code",
   "execution_count": 52,
   "metadata": {
    "ExecuteTime": {
     "end_time": "2021-03-18T11:42:54.293128Z",
     "start_time": "2021-03-18T11:42:54.262121Z"
    }
   },
   "outputs": [
    {
     "data": {
      "text/html": [
       "<div>\n",
       "<style scoped>\n",
       "    .dataframe tbody tr th:only-of-type {\n",
       "        vertical-align: middle;\n",
       "    }\n",
       "\n",
       "    .dataframe tbody tr th {\n",
       "        vertical-align: top;\n",
       "    }\n",
       "\n",
       "    .dataframe thead th {\n",
       "        text-align: right;\n",
       "    }\n",
       "</style>\n",
       "<table border=\"1\" class=\"dataframe\">\n",
       "  <thead>\n",
       "    <tr style=\"text-align: right;\">\n",
       "      <th></th>\n",
       "      <th>Restaurant_id</th>\n",
       "      <th>City</th>\n",
       "      <th>Cuisine Style</th>\n",
       "      <th>Ranking</th>\n",
       "      <th>Rating</th>\n",
       "      <th>Price Range</th>\n",
       "      <th>Number of Reviews</th>\n",
       "      <th>Reviews</th>\n",
       "      <th>URL_TA</th>\n",
       "      <th>ID_TA</th>\n",
       "      <th>Cuisine Count</th>\n",
       "      <th>dif_day</th>\n",
       "      <th>city_pop</th>\n",
       "      <th>city_val</th>\n",
       "      <th>country</th>\n",
       "      <th>city_coord</th>\n",
       "      <th>meals</th>\n",
       "      <th>rest_coord</th>\n",
       "      <th>rub_max</th>\n",
       "      <th>rub_min</th>\n",
       "    </tr>\n",
       "  </thead>\n",
       "  <tbody>\n",
       "    <tr>\n",
       "      <th>0</th>\n",
       "      <td>id_5569</td>\n",
       "      <td>Paris</td>\n",
       "      <td>[European, French, International]</td>\n",
       "      <td>5570.0</td>\n",
       "      <td>3.5</td>\n",
       "      <td>medium_price</td>\n",
       "      <td>194.0</td>\n",
       "      <td>DatetimeIndex(['2017-12-31', '2017-11-20'], dt...</td>\n",
       "      <td>/Restaurant_Review-g187147-d1912643-Reviews-R_...</td>\n",
       "      <td>d1912643</td>\n",
       "      <td>3</td>\n",
       "      <td>41.0</td>\n",
       "      <td>2.2</td>\n",
       "      <td>105.0</td>\n",
       "      <td>France</td>\n",
       "      <td>[48.856663, 2.351556]</td>\n",
       "      <td>[Lunch, Dinner, Brunch, Breakfast, Late Night]</td>\n",
       "      <td>[48.8316299, 2.3397946]</td>\n",
       "      <td>3503.0</td>\n",
       "      <td>1314.0</td>\n",
       "    </tr>\n",
       "    <tr>\n",
       "      <th>1</th>\n",
       "      <td>id_10057</td>\n",
       "      <td>Paris</td>\n",
       "      <td>[no_information]</td>\n",
       "      <td>10059.0</td>\n",
       "      <td>4.5</td>\n",
       "      <td>NaN</td>\n",
       "      <td>4.0</td>\n",
       "      <td>DatetimeIndex(['2011-08-20'], dtype='datetime6...</td>\n",
       "      <td>/Restaurant_Review-g187147-d2040769-Reviews-Le...</td>\n",
       "      <td>d2040769</td>\n",
       "      <td>1</td>\n",
       "      <td>0.0</td>\n",
       "      <td>2.2</td>\n",
       "      <td>105.0</td>\n",
       "      <td>France</td>\n",
       "      <td>[48.856663, 2.351556]</td>\n",
       "      <td>NaN</td>\n",
       "      <td>[48.8716425, 2.3769562]</td>\n",
       "      <td>NaN</td>\n",
       "      <td>NaN</td>\n",
       "    </tr>\n",
       "    <tr>\n",
       "      <th>2</th>\n",
       "      <td>id_11291</td>\n",
       "      <td>Paris</td>\n",
       "      <td>[French]</td>\n",
       "      <td>11293.0</td>\n",
       "      <td>4.5</td>\n",
       "      <td>medium_price</td>\n",
       "      <td>10.0</td>\n",
       "      <td>DatetimeIndex(['2015-03-08'], dtype='datetime6...</td>\n",
       "      <td>/Restaurant_Review-g187147-d3543081-Reviews-La...</td>\n",
       "      <td>d3543081</td>\n",
       "      <td>1</td>\n",
       "      <td>0.0</td>\n",
       "      <td>2.2</td>\n",
       "      <td>105.0</td>\n",
       "      <td>France</td>\n",
       "      <td>[48.856663, 2.351556]</td>\n",
       "      <td>NaN</td>\n",
       "      <td>NaN</td>\n",
       "      <td>NaN</td>\n",
       "      <td>NaN</td>\n",
       "    </tr>\n",
       "    <tr>\n",
       "      <th>3</th>\n",
       "      <td>id_5459</td>\n",
       "      <td>Paris</td>\n",
       "      <td>[Asian, Thai, Vegetarian Friendly]</td>\n",
       "      <td>5460.0</td>\n",
       "      <td>3.5</td>\n",
       "      <td>medium_price</td>\n",
       "      <td>132.0</td>\n",
       "      <td>DatetimeIndex(['2017-10-18', '2017-07-29'], dt...</td>\n",
       "      <td>/Restaurant_Review-g187147-d953033-Reviews-Cha...</td>\n",
       "      <td>d953033</td>\n",
       "      <td>3</td>\n",
       "      <td>81.0</td>\n",
       "      <td>2.2</td>\n",
       "      <td>105.0</td>\n",
       "      <td>France</td>\n",
       "      <td>[48.856663, 2.351556]</td>\n",
       "      <td>NaN</td>\n",
       "      <td>[48.8573944, 2.3547866]</td>\n",
       "      <td>3224.0</td>\n",
       "      <td>2125.0</td>\n",
       "    </tr>\n",
       "    <tr>\n",
       "      <th>4</th>\n",
       "      <td>id_9924</td>\n",
       "      <td>Paris</td>\n",
       "      <td>[Pub]</td>\n",
       "      <td>9926.0</td>\n",
       "      <td>3.5</td>\n",
       "      <td>low_price</td>\n",
       "      <td>39.0</td>\n",
       "      <td>DatetimeIndex(['2017-02-14', '2017-12-10'], dt...</td>\n",
       "      <td>/Restaurant_Review-g187147-d5799345-Reviews-Th...</td>\n",
       "      <td>d5799345</td>\n",
       "      <td>1</td>\n",
       "      <td>-299.0</td>\n",
       "      <td>2.2</td>\n",
       "      <td>105.0</td>\n",
       "      <td>France</td>\n",
       "      <td>[48.856663, 2.351556]</td>\n",
       "      <td>NaN</td>\n",
       "      <td>[48.842526, 2.3237937]</td>\n",
       "      <td>NaN</td>\n",
       "      <td>NaN</td>\n",
       "    </tr>\n",
       "    <tr>\n",
       "      <th>...</th>\n",
       "      <td>...</td>\n",
       "      <td>...</td>\n",
       "      <td>...</td>\n",
       "      <td>...</td>\n",
       "      <td>...</td>\n",
       "      <td>...</td>\n",
       "      <td>...</td>\n",
       "      <td>...</td>\n",
       "      <td>...</td>\n",
       "      <td>...</td>\n",
       "      <td>...</td>\n",
       "      <td>...</td>\n",
       "      <td>...</td>\n",
       "      <td>...</td>\n",
       "      <td>...</td>\n",
       "      <td>...</td>\n",
       "      <td>...</td>\n",
       "      <td>...</td>\n",
       "      <td>...</td>\n",
       "      <td>...</td>\n",
       "    </tr>\n",
       "    <tr>\n",
       "      <th>39995</th>\n",
       "      <td>id_651</td>\n",
       "      <td>Krakow</td>\n",
       "      <td>[Italian, Pizza]</td>\n",
       "      <td>652.0</td>\n",
       "      <td>4.0</td>\n",
       "      <td>medium_price</td>\n",
       "      <td>28.0</td>\n",
       "      <td>DatetimeIndex(['2017-10-10', '2015-10-15'], dt...</td>\n",
       "      <td>/Restaurant_Review-g274772-d3626236-Reviews-Tr...</td>\n",
       "      <td>d3626236</td>\n",
       "      <td>2</td>\n",
       "      <td>726.0</td>\n",
       "      <td>0.8</td>\n",
       "      <td>327.0</td>\n",
       "      <td>Poland</td>\n",
       "      <td>[50.061971, 19.936742]</td>\n",
       "      <td>[Dinner, Lunch, Brunch]</td>\n",
       "      <td>[50.0673113, 19.9709151]</td>\n",
       "      <td>NaN</td>\n",
       "      <td>NaN</td>\n",
       "    </tr>\n",
       "    <tr>\n",
       "      <th>39996</th>\n",
       "      <td>id_355</td>\n",
       "      <td>Krakow</td>\n",
       "      <td>[Italian, Mediterranean, Vegetarian Friendly]</td>\n",
       "      <td>356.0</td>\n",
       "      <td>4.0</td>\n",
       "      <td>medium_price</td>\n",
       "      <td>201.0</td>\n",
       "      <td>DatetimeIndex(['2017-11-12', '2017-06-28'], dt...</td>\n",
       "      <td>/Restaurant_Review-g274772-d1929643-Reviews-La...</td>\n",
       "      <td>d1929643</td>\n",
       "      <td>3</td>\n",
       "      <td>137.0</td>\n",
       "      <td>0.8</td>\n",
       "      <td>327.0</td>\n",
       "      <td>Poland</td>\n",
       "      <td>[50.061971, 19.936742]</td>\n",
       "      <td>[Lunch, Dinner]</td>\n",
       "      <td>[50.0601897, 19.9363463]</td>\n",
       "      <td>NaN</td>\n",
       "      <td>NaN</td>\n",
       "    </tr>\n",
       "    <tr>\n",
       "      <th>39997</th>\n",
       "      <td>id_283</td>\n",
       "      <td>Krakow</td>\n",
       "      <td>[Italian, Pizza, European, Vegetarian Friendly...</td>\n",
       "      <td>284.0</td>\n",
       "      <td>4.0</td>\n",
       "      <td>medium_price</td>\n",
       "      <td>340.0</td>\n",
       "      <td>DatetimeIndex(['2017-12-20', '2017-10-23'], dt...</td>\n",
       "      <td>/Restaurant_Review-g274772-d1098691-Reviews-Fa...</td>\n",
       "      <td>d1098691</td>\n",
       "      <td>5</td>\n",
       "      <td>58.0</td>\n",
       "      <td>0.8</td>\n",
       "      <td>327.0</td>\n",
       "      <td>Poland</td>\n",
       "      <td>[50.061971, 19.936742]</td>\n",
       "      <td>[Lunch, Dinner, Late Night]</td>\n",
       "      <td>[50.0512498, 19.9468592]</td>\n",
       "      <td>NaN</td>\n",
       "      <td>NaN</td>\n",
       "    </tr>\n",
       "    <tr>\n",
       "      <th>39998</th>\n",
       "      <td>id_800</td>\n",
       "      <td>Krakow</td>\n",
       "      <td>[no_information]</td>\n",
       "      <td>801.0</td>\n",
       "      <td>4.5</td>\n",
       "      <td>NaN</td>\n",
       "      <td>11.0</td>\n",
       "      <td>DatetimeIndex(['2016-10-05', '2016-06-08'], dt...</td>\n",
       "      <td>/Restaurant_Review-g274772-d3899509-Reviews-Pi...</td>\n",
       "      <td>d3899509</td>\n",
       "      <td>1</td>\n",
       "      <td>119.0</td>\n",
       "      <td>0.8</td>\n",
       "      <td>327.0</td>\n",
       "      <td>Poland</td>\n",
       "      <td>[50.061971, 19.936742]</td>\n",
       "      <td>NaN</td>\n",
       "      <td>NaN</td>\n",
       "      <td>NaN</td>\n",
       "      <td>NaN</td>\n",
       "    </tr>\n",
       "    <tr>\n",
       "      <th>39999</th>\n",
       "      <td>id_953</td>\n",
       "      <td>Krakow</td>\n",
       "      <td>[no_information]</td>\n",
       "      <td>954.0</td>\n",
       "      <td>3.5</td>\n",
       "      <td>NaN</td>\n",
       "      <td>11.0</td>\n",
       "      <td>DatetimeIndex(['2017-12-23', '2017-12-08'], dt...</td>\n",
       "      <td>/Restaurant_Review-g274772-d10810513-Reviews-R...</td>\n",
       "      <td>d10810513</td>\n",
       "      <td>1</td>\n",
       "      <td>15.0</td>\n",
       "      <td>0.8</td>\n",
       "      <td>327.0</td>\n",
       "      <td>Poland</td>\n",
       "      <td>[50.061971, 19.936742]</td>\n",
       "      <td>NaN</td>\n",
       "      <td>[50.0598683, 19.9378321]</td>\n",
       "      <td>NaN</td>\n",
       "      <td>NaN</td>\n",
       "    </tr>\n",
       "  </tbody>\n",
       "</table>\n",
       "<p>40000 rows × 20 columns</p>\n",
       "</div>"
      ],
      "text/plain": [
       "      Restaurant_id    City  \\\n",
       "0           id_5569   Paris   \n",
       "1          id_10057   Paris   \n",
       "2          id_11291   Paris   \n",
       "3           id_5459   Paris   \n",
       "4           id_9924   Paris   \n",
       "...             ...     ...   \n",
       "39995        id_651  Krakow   \n",
       "39996        id_355  Krakow   \n",
       "39997        id_283  Krakow   \n",
       "39998        id_800  Krakow   \n",
       "39999        id_953  Krakow   \n",
       "\n",
       "                                           Cuisine Style  Ranking  Rating  \\\n",
       "0                      [European, French, International]   5570.0     3.5   \n",
       "1                                       [no_information]  10059.0     4.5   \n",
       "2                                               [French]  11293.0     4.5   \n",
       "3                     [Asian, Thai, Vegetarian Friendly]   5460.0     3.5   \n",
       "4                                                  [Pub]   9926.0     3.5   \n",
       "...                                                  ...      ...     ...   \n",
       "39995                                   [Italian, Pizza]    652.0     4.0   \n",
       "39996      [Italian, Mediterranean, Vegetarian Friendly]    356.0     4.0   \n",
       "39997  [Italian, Pizza, European, Vegetarian Friendly...    284.0     4.0   \n",
       "39998                                   [no_information]    801.0     4.5   \n",
       "39999                                   [no_information]    954.0     3.5   \n",
       "\n",
       "        Price Range  Number of Reviews  \\\n",
       "0      medium_price              194.0   \n",
       "1               NaN                4.0   \n",
       "2      medium_price               10.0   \n",
       "3      medium_price              132.0   \n",
       "4         low_price               39.0   \n",
       "...             ...                ...   \n",
       "39995  medium_price               28.0   \n",
       "39996  medium_price              201.0   \n",
       "39997  medium_price              340.0   \n",
       "39998           NaN               11.0   \n",
       "39999           NaN               11.0   \n",
       "\n",
       "                                                 Reviews  \\\n",
       "0      DatetimeIndex(['2017-12-31', '2017-11-20'], dt...   \n",
       "1      DatetimeIndex(['2011-08-20'], dtype='datetime6...   \n",
       "2      DatetimeIndex(['2015-03-08'], dtype='datetime6...   \n",
       "3      DatetimeIndex(['2017-10-18', '2017-07-29'], dt...   \n",
       "4      DatetimeIndex(['2017-02-14', '2017-12-10'], dt...   \n",
       "...                                                  ...   \n",
       "39995  DatetimeIndex(['2017-10-10', '2015-10-15'], dt...   \n",
       "39996  DatetimeIndex(['2017-11-12', '2017-06-28'], dt...   \n",
       "39997  DatetimeIndex(['2017-12-20', '2017-10-23'], dt...   \n",
       "39998  DatetimeIndex(['2016-10-05', '2016-06-08'], dt...   \n",
       "39999  DatetimeIndex(['2017-12-23', '2017-12-08'], dt...   \n",
       "\n",
       "                                                  URL_TA      ID_TA  \\\n",
       "0      /Restaurant_Review-g187147-d1912643-Reviews-R_...   d1912643   \n",
       "1      /Restaurant_Review-g187147-d2040769-Reviews-Le...   d2040769   \n",
       "2      /Restaurant_Review-g187147-d3543081-Reviews-La...   d3543081   \n",
       "3      /Restaurant_Review-g187147-d953033-Reviews-Cha...    d953033   \n",
       "4      /Restaurant_Review-g187147-d5799345-Reviews-Th...   d5799345   \n",
       "...                                                  ...        ...   \n",
       "39995  /Restaurant_Review-g274772-d3626236-Reviews-Tr...   d3626236   \n",
       "39996  /Restaurant_Review-g274772-d1929643-Reviews-La...   d1929643   \n",
       "39997  /Restaurant_Review-g274772-d1098691-Reviews-Fa...   d1098691   \n",
       "39998  /Restaurant_Review-g274772-d3899509-Reviews-Pi...   d3899509   \n",
       "39999  /Restaurant_Review-g274772-d10810513-Reviews-R...  d10810513   \n",
       "\n",
       "       Cuisine Count  dif_day  city_pop  city_val country  \\\n",
       "0                  3     41.0       2.2     105.0  France   \n",
       "1                  1      0.0       2.2     105.0  France   \n",
       "2                  1      0.0       2.2     105.0  France   \n",
       "3                  3     81.0       2.2     105.0  France   \n",
       "4                  1   -299.0       2.2     105.0  France   \n",
       "...              ...      ...       ...       ...     ...   \n",
       "39995              2    726.0       0.8     327.0  Poland   \n",
       "39996              3    137.0       0.8     327.0  Poland   \n",
       "39997              5     58.0       0.8     327.0  Poland   \n",
       "39998              1    119.0       0.8     327.0  Poland   \n",
       "39999              1     15.0       0.8     327.0  Poland   \n",
       "\n",
       "                   city_coord                                           meals  \\\n",
       "0       [48.856663, 2.351556]  [Lunch, Dinner, Brunch, Breakfast, Late Night]   \n",
       "1       [48.856663, 2.351556]                                             NaN   \n",
       "2       [48.856663, 2.351556]                                             NaN   \n",
       "3       [48.856663, 2.351556]                                             NaN   \n",
       "4       [48.856663, 2.351556]                                             NaN   \n",
       "...                       ...                                             ...   \n",
       "39995  [50.061971, 19.936742]                         [Dinner, Lunch, Brunch]   \n",
       "39996  [50.061971, 19.936742]                                 [Lunch, Dinner]   \n",
       "39997  [50.061971, 19.936742]                     [Lunch, Dinner, Late Night]   \n",
       "39998  [50.061971, 19.936742]                                             NaN   \n",
       "39999  [50.061971, 19.936742]                                             NaN   \n",
       "\n",
       "                     rest_coord  rub_max  rub_min  \n",
       "0       [48.8316299, 2.3397946]   3503.0   1314.0  \n",
       "1       [48.8716425, 2.3769562]      NaN      NaN  \n",
       "2                           NaN      NaN      NaN  \n",
       "3       [48.8573944, 2.3547866]   3224.0   2125.0  \n",
       "4        [48.842526, 2.3237937]      NaN      NaN  \n",
       "...                         ...      ...      ...  \n",
       "39995  [50.0673113, 19.9709151]      NaN      NaN  \n",
       "39996  [50.0601897, 19.9363463]      NaN      NaN  \n",
       "39997  [50.0512498, 19.9468592]      NaN      NaN  \n",
       "39998                       NaN      NaN      NaN  \n",
       "39999  [50.0598683, 19.9378321]      NaN      NaN  \n",
       "\n",
       "[40000 rows x 20 columns]"
      ]
     },
     "execution_count": 52,
     "metadata": {},
     "output_type": "execute_result"
    }
   ],
   "source": [
    "df"
   ]
  },
  {
   "cell_type": "code",
   "execution_count": 53,
   "metadata": {
    "ExecuteTime": {
     "end_time": "2021-03-18T11:42:54.389155Z",
     "start_time": "2021-03-18T11:42:54.294129Z"
    }
   },
   "outputs": [],
   "source": [
    "capitals = []\n",
    "\n",
    "for i in data_capitals['0']:\n",
    "    capitals.append(i)\n",
    "\n",
    "df['is_capital'] = df['City'].apply(lambda x: 1 if x in capitals else 0)"
   ]
  },
  {
   "cell_type": "code",
   "execution_count": 54,
   "metadata": {
    "ExecuteTime": {
     "end_time": "2021-03-18T11:42:54.421168Z",
     "start_time": "2021-03-18T11:42:54.390155Z"
    }
   },
   "outputs": [],
   "source": [
    "df.rub_max.fillna(0, inplace=True)\n",
    "df.rub_min.fillna(0, inplace=True)\n",
    "df['rub_range'] = df.rub_max\n",
    "df['rub_range'] = df.rub_range.apply(lambda x: 0 if x == 0 else 1)"
   ]
  },
  {
   "cell_type": "code",
   "execution_count": 55,
   "metadata": {
    "ExecuteTime": {
     "end_time": "2021-03-18T11:42:54.437217Z",
     "start_time": "2021-03-18T11:42:54.422169Z"
    }
   },
   "outputs": [],
   "source": [
    "def haversine(lon1, lat1, lon2, lat2):\n",
    "    if lon1 != np.nan or lat1 != np.nan or lon2 != np.nan or lat2 != np.nan:\n",
    "        lon1, lat1, lon2, lat2 = map(radians, [lon1, lat1, lon2, lat2])\n",
    "        dlon = lon2 - lon1\n",
    "        dlat = lat2 - lat1\n",
    "        a = sin(dlat/2)**2 + cos(lat1) * cos(lat2) * sin(dlon/2) ** 2\n",
    "        c = 2 * asin(sqrt(a))\n",
    "        earth_radius = 6371\n",
    "        dist = c * earth_radius\n",
    "    else:\n",
    "        dist = np.nan\n",
    "    return dist"
   ]
  },
  {
   "cell_type": "code",
   "execution_count": 56,
   "metadata": {
    "ExecuteTime": {
     "end_time": "2021-03-18T11:43:04.710792Z",
     "start_time": "2021-03-18T11:43:04.650779Z"
    }
   },
   "outputs": [],
   "source": [
    "df['city_lon'] = df.city_coord.apply(lambda x: x[0])\n",
    "df['city_lat'] = df.city_coord.apply(lambda x: x[1])\n",
    "df['rest_lon'] = df.rest_coord.apply(lambda x: float(x[0]) if type(x) == list else x)\n",
    "df['rest_lat'] = df.rest_coord.apply(lambda x: float(x[1]) if type(x) == list else x)"
   ]
  },
  {
   "cell_type": "code",
   "execution_count": 57,
   "metadata": {
    "ExecuteTime": {
     "end_time": "2021-03-18T11:43:07.259416Z",
     "start_time": "2021-03-18T11:43:05.795080Z"
    },
    "scrolled": true
   },
   "outputs": [],
   "source": [
    "df['distance'] = df.apply(lambda row: \n",
    "                                    haversine(lon1 = row['city_lon'], \n",
    "                                              lat1 = row['city_lat'],\n",
    "                                              lon2 = row['rest_lon'], \n",
    "                                              lat2 = row['rest_lat']), \n",
    "                                      axis=1)"
   ]
  },
  {
   "cell_type": "code",
   "execution_count": 58,
   "metadata": {
    "ExecuteTime": {
     "end_time": "2021-03-18T11:43:08.795083Z",
     "start_time": "2021-03-18T11:43:08.772067Z"
    }
   },
   "outputs": [],
   "source": [
    "df['distance'] = df['distance'].apply(lambda x: x if x < 20 else np.nan)\n",
    "df.distance.fillna(method='ffill', inplace = True)"
   ]
  },
  {
   "cell_type": "code",
   "execution_count": 59,
   "metadata": {
    "ExecuteTime": {
     "end_time": "2021-03-18T11:43:10.516339Z",
     "start_time": "2021-03-18T11:43:10.316293Z"
    }
   },
   "outputs": [
    {
     "data": {
      "text/plain": [
       "<matplotlib.axes._subplots.AxesSubplot at 0x1c84c67a640>"
      ]
     },
     "execution_count": 59,
     "metadata": {},
     "output_type": "execute_result"
    },
    {
     "data": {
      "image/png": "[encoded data removed]",
      "text/plain": [
       "<Figure size 1152x576 with 1 Axes>"
      ]
     },
     "metadata": {
      "needs_background": "light"
     },
     "output_type": "display_data"
    }
   ],
   "source": [
    "plt.figure(figsize=(16, 8))\n",
    "df.distance.hist(bins=100)"
   ]
  },
  {
   "cell_type": "code",
   "execution_count": 60,
   "metadata": {
    "ExecuteTime": {
     "end_time": "2021-03-18T11:43:12.541064Z",
     "start_time": "2021-03-18T11:43:12.507813Z"
    }
   },
   "outputs": [],
   "source": [
    "df['meals_count'] = df['meals'].apply(lambda x: len(x) if type(x) == list else np.nan)\n",
    "df['meals_count'].fillna(0, inplace = True)"
   ]
  },
  {
   "cell_type": "code",
   "execution_count": 61,
   "metadata": {
    "ExecuteTime": {
     "end_time": "2021-03-18T11:43:13.353251Z",
     "start_time": "2021-03-18T11:43:13.268226Z"
    }
   },
   "outputs": [
    {
     "ename": "NameError",
     "evalue": "name 'get_Weighed_Rank' is not defined",
     "output_type": "error",
     "traceback": [
      "\u001b[1;31m---------------------------------------------------------------------------\u001b[0m",
      "\u001b[1;31mNameError\u001b[0m                                 Traceback (most recent call last)",
      "\u001b[1;32m<ipython-input-61-1c4126286f91>\u001b[0m in \u001b[0;36m<module>\u001b[1;34m\u001b[0m\n\u001b[1;32m----> 1\u001b[1;33m \u001b[0mdf\u001b[0m\u001b[1;33m[\u001b[0m\u001b[1;34m'Weighed Rank min max'\u001b[0m\u001b[1;33m]\u001b[0m \u001b[1;33m=\u001b[0m \u001b[0mdf\u001b[0m\u001b[1;33m.\u001b[0m\u001b[0mapply\u001b[0m\u001b[1;33m(\u001b[0m\u001b[1;32mlambda\u001b[0m \u001b[0mx\u001b[0m\u001b[1;33m:\u001b[0m \u001b[0mget_Weighed_Rank\u001b[0m\u001b[1;33m(\u001b[0m\u001b[0mx\u001b[0m\u001b[1;33m)\u001b[0m\u001b[1;33m,\u001b[0m \u001b[0maxis\u001b[0m\u001b[1;33m=\u001b[0m\u001b[1;36m1\u001b[0m\u001b[1;33m)\u001b[0m\u001b[1;33m\u001b[0m\u001b[1;33m\u001b[0m\u001b[0m\n\u001b[0m",
      "\u001b[1;32m~\\Anaconda3\\lib\\site-packages\\pandas\\core\\frame.py\u001b[0m in \u001b[0;36mapply\u001b[1;34m(self, func, axis, raw, result_type, args, **kwds)\u001b[0m\n\u001b[0;32m   6876\u001b[0m             \u001b[0mkwds\u001b[0m\u001b[1;33m=\u001b[0m\u001b[0mkwds\u001b[0m\u001b[1;33m,\u001b[0m\u001b[1;33m\u001b[0m\u001b[1;33m\u001b[0m\u001b[0m\n\u001b[0;32m   6877\u001b[0m         )\n\u001b[1;32m-> 6878\u001b[1;33m         \u001b[1;32mreturn\u001b[0m \u001b[0mop\u001b[0m\u001b[1;33m.\u001b[0m\u001b[0mget_result\u001b[0m\u001b[1;33m(\u001b[0m\u001b[1;33m)\u001b[0m\u001b[1;33m\u001b[0m\u001b[1;33m\u001b[0m\u001b[0m\n\u001b[0m\u001b[0;32m   6879\u001b[0m \u001b[1;33m\u001b[0m\u001b[0m\n\u001b[0;32m   6880\u001b[0m     \u001b[1;32mdef\u001b[0m \u001b[0mapplymap\u001b[0m\u001b[1;33m(\u001b[0m\u001b[0mself\u001b[0m\u001b[1;33m,\u001b[0m \u001b[0mfunc\u001b[0m\u001b[1;33m)\u001b[0m \u001b[1;33m->\u001b[0m \u001b[1;34m\"DataFrame\"\u001b[0m\u001b[1;33m:\u001b[0m\u001b[1;33m\u001b[0m\u001b[1;33m\u001b[0m\u001b[0m\n",
      "\u001b[1;32m~\\Anaconda3\\lib\\site-packages\\pandas\\core\\apply.py\u001b[0m in \u001b[0;36mget_result\u001b[1;34m(self)\u001b[0m\n\u001b[0;32m    184\u001b[0m             \u001b[1;32mreturn\u001b[0m \u001b[0mself\u001b[0m\u001b[1;33m.\u001b[0m\u001b[0mapply_raw\u001b[0m\u001b[1;33m(\u001b[0m\u001b[1;33m)\u001b[0m\u001b[1;33m\u001b[0m\u001b[1;33m\u001b[0m\u001b[0m\n\u001b[0;32m    185\u001b[0m \u001b[1;33m\u001b[0m\u001b[0m\n\u001b[1;32m--> 186\u001b[1;33m         \u001b[1;32mreturn\u001b[0m \u001b[0mself\u001b[0m\u001b[1;33m.\u001b[0m\u001b[0mapply_standard\u001b[0m\u001b[1;33m(\u001b[0m\u001b[1;33m)\u001b[0m\u001b[1;33m\u001b[0m\u001b[1;33m\u001b[0m\u001b[0m\n\u001b[0m\u001b[0;32m    187\u001b[0m \u001b[1;33m\u001b[0m\u001b[0m\n\u001b[0;32m    188\u001b[0m     \u001b[1;32mdef\u001b[0m \u001b[0mapply_empty_result\u001b[0m\u001b[1;33m(\u001b[0m\u001b[0mself\u001b[0m\u001b[1;33m)\u001b[0m\u001b[1;33m:\u001b[0m\u001b[1;33m\u001b[0m\u001b[1;33m\u001b[0m\u001b[0m\n",
      "\u001b[1;32m~\\Anaconda3\\lib\\site-packages\\pandas\\core\\apply.py\u001b[0m in \u001b[0;36mapply_standard\u001b[1;34m(self)\u001b[0m\n\u001b[0;32m    293\u001b[0m \u001b[1;33m\u001b[0m\u001b[0m\n\u001b[0;32m    294\u001b[0m             \u001b[1;32mtry\u001b[0m\u001b[1;33m:\u001b[0m\u001b[1;33m\u001b[0m\u001b[1;33m\u001b[0m\u001b[0m\n\u001b[1;32m--> 295\u001b[1;33m                 result = libreduction.compute_reduction(\n\u001b[0m\u001b[0;32m    296\u001b[0m                     \u001b[0mvalues\u001b[0m\u001b[1;33m,\u001b[0m \u001b[0mself\u001b[0m\u001b[1;33m.\u001b[0m\u001b[0mf\u001b[0m\u001b[1;33m,\u001b[0m \u001b[0maxis\u001b[0m\u001b[1;33m=\u001b[0m\u001b[0mself\u001b[0m\u001b[1;33m.\u001b[0m\u001b[0maxis\u001b[0m\u001b[1;33m,\u001b[0m \u001b[0mdummy\u001b[0m\u001b[1;33m=\u001b[0m\u001b[0mdummy\u001b[0m\u001b[1;33m,\u001b[0m \u001b[0mlabels\u001b[0m\u001b[1;33m=\u001b[0m\u001b[0mlabels\u001b[0m\u001b[1;33m\u001b[0m\u001b[1;33m\u001b[0m\u001b[0m\n\u001b[0;32m    297\u001b[0m                 )\n",
      "\u001b[1;32mpandas\\_libs\\reduction.pyx\u001b[0m in \u001b[0;36mpandas._libs.reduction.compute_reduction\u001b[1;34m()\u001b[0m\n",
      "\u001b[1;32mpandas\\_libs\\reduction.pyx\u001b[0m in \u001b[0;36mpandas._libs.reduction.Reducer.get_result\u001b[1;34m()\u001b[0m\n",
      "\u001b[1;32m<ipython-input-61-1c4126286f91>\u001b[0m in \u001b[0;36m<lambda>\u001b[1;34m(x)\u001b[0m\n\u001b[1;32m----> 1\u001b[1;33m \u001b[0mdf\u001b[0m\u001b[1;33m[\u001b[0m\u001b[1;34m'Weighed Rank min max'\u001b[0m\u001b[1;33m]\u001b[0m \u001b[1;33m=\u001b[0m \u001b[0mdf\u001b[0m\u001b[1;33m.\u001b[0m\u001b[0mapply\u001b[0m\u001b[1;33m(\u001b[0m\u001b[1;32mlambda\u001b[0m \u001b[0mx\u001b[0m\u001b[1;33m:\u001b[0m \u001b[0mget_Weighed_Rank\u001b[0m\u001b[1;33m(\u001b[0m\u001b[0mx\u001b[0m\u001b[1;33m)\u001b[0m\u001b[1;33m,\u001b[0m \u001b[0maxis\u001b[0m\u001b[1;33m=\u001b[0m\u001b[1;36m1\u001b[0m\u001b[1;33m)\u001b[0m\u001b[1;33m\u001b[0m\u001b[1;33m\u001b[0m\u001b[0m\n\u001b[0m",
      "\u001b[1;31mNameError\u001b[0m: name 'get_Weighed_Rank' is not defined"
     ]
    }
   ],
   "source": [
    "df['Weighed Rank min max'] = df.apply(lambda x: get_Weighed_Rank(x), axis=1)"
   ]
  },
  {
   "cell_type": "code",
   "execution_count": 62,
   "metadata": {
    "ExecuteTime": {
     "end_time": "2021-03-18T11:43:18.399040Z",
     "start_time": "2021-03-18T11:43:18.365040Z"
    }
   },
   "outputs": [],
   "source": [
    "df.ID_TA = df.ID_TA.apply(lambda x: float(x[1:]))"
   ]
  },
  {
   "cell_type": "code",
   "execution_count": 64,
   "metadata": {
    "ExecuteTime": {
     "end_time": "2021-03-18T11:43:36.834148Z",
     "start_time": "2021-03-18T11:43:36.503073Z"
    },
    "scrolled": false
   },
   "outputs": [
    {
     "data": {
      "text/plain": [
       "<matplotlib.axes._subplots.AxesSubplot at 0x1c8576ec0a0>"
      ]
     },
     "execution_count": 64,
     "metadata": {},
     "output_type": "execute_result"
    },
    {
     "data": {
      "image/png": "[encoded data removed]",
      "text/plain": [
       "<Figure size 1152x720 with 2 Axes>"
      ]
     },
     "metadata": {
      "needs_background": "light"
     },
     "output_type": "display_data"
    }
   ],
   "source": [
    "plt.figure(figsize=(16, 10))  # размер графика\n",
    "d = df.drop(['Restaurant_id', 'Cuisine Style', 'City',\n",
    "             'Price Range', 'Reviews', 'URL_TA', 'country',\n",
    "             'city_coord', 'rest_coord', 'meals', 'rub_max', 'rub_min',\n",
    "             'city_lon', 'city_lat', 'rest_lon', 'rest_lat'], axis=1)\n",
    "\n",
    "matrix = np.triu(d.corr())\n",
    "sns.heatmap(d.corr(), annot=True, vmin=-1, vmax=1,\n",
    "            center=0, square=True, mask=matrix)"
   ]
  },
  {
   "cell_type": "code",
   "execution_count": 19,
   "metadata": {
    "ExecuteTime": {
     "end_time": "2021-03-18T11:29:51.792382Z",
     "start_time": "2021-03-18T11:29:51.265263Z"
    }
   },
   "outputs": [],
   "source": [
    "#Создание Dummy - переменных\n",
    "df = df.merge(pd.get_dummies(df['Price Range']), left_index=True, right_index=True)\n",
    "df = df.merge(pd.get_dummies(df['City']), left_index=True, right_index=True)\n",
    "df = df.merge(pd.get_dummies(df['country']), left_index=True, right_index=True)\n",
    "\n",
    "cuisines = []\n",
    "\n",
    "for i in df['Cuisine Style']:\n",
    "    for j in range(len(i)):\n",
    "        cuisines.append(i[j])\n",
    "\n",
    "top_cuisines = pd.Series(cuisines).value_counts()[:30].index\n",
    "\n",
    "for i in top_cuisines:\n",
    "    df[i+' cuisine'] = df['Cuisine Style'].apply(lambda x: 1 if i in x else 0)"
   ]
  },
  {
   "cell_type": "markdown",
   "metadata": {},
   "source": [
    "# Разбиваем датафрейм на части, необходимые для обучения и тестирования модели"
   ]
  },
  {
   "cell_type": "code",
   "execution_count": 71,
   "metadata": {
    "ExecuteTime": {
     "end_time": "2021-03-18T11:45:37.389407Z",
     "start_time": "2021-03-18T11:45:37.371403Z"
    }
   },
   "outputs": [],
   "source": [
    "# Х - данные с информацией о ресторанах, у - целевая переменная (рейтинги ресторанов)\n",
    "X = df.drop(['Restaurant_id', 'Rating', 'Cuisine Style', 'City',\n",
    "             'Price Range', 'Reviews', 'URL_TA', 'country', \n",
    "             'city_coord', 'rest_coord', 'meals', 'rub_max', 'rub_min', \n",
    "             'city_lon', 'city_lat', 'rest_lon','rest_lat', 'distance'], axis=1)\n",
    "y = df['Rating']"
   ]
  },
  {
   "cell_type": "code",
   "execution_count": 72,
   "metadata": {
    "ExecuteTime": {
     "end_time": "2021-03-18T11:45:38.001512Z",
     "start_time": "2021-03-18T11:45:37.979507Z"
    }
   },
   "outputs": [
    {
     "data": {
      "text/html": [
       "<div>\n",
       "<style scoped>\n",
       "    .dataframe tbody tr th:only-of-type {\n",
       "        vertical-align: middle;\n",
       "    }\n",
       "\n",
       "    .dataframe tbody tr th {\n",
       "        vertical-align: top;\n",
       "    }\n",
       "\n",
       "    .dataframe thead th {\n",
       "        text-align: right;\n",
       "    }\n",
       "</style>\n",
       "<table border=\"1\" class=\"dataframe\">\n",
       "  <thead>\n",
       "    <tr style=\"text-align: right;\">\n",
       "      <th></th>\n",
       "      <th>Ranking</th>\n",
       "      <th>Number of Reviews</th>\n",
       "      <th>ID_TA</th>\n",
       "      <th>Cuisine Count</th>\n",
       "      <th>dif_day</th>\n",
       "      <th>city_pop</th>\n",
       "      <th>city_val</th>\n",
       "      <th>is_capital</th>\n",
       "      <th>rub_range</th>\n",
       "      <th>meals_count</th>\n",
       "    </tr>\n",
       "  </thead>\n",
       "  <tbody>\n",
       "    <tr>\n",
       "      <th>0</th>\n",
       "      <td>5570.0</td>\n",
       "      <td>194.0</td>\n",
       "      <td>1912643.0</td>\n",
       "      <td>3</td>\n",
       "      <td>41.0</td>\n",
       "      <td>2.2</td>\n",
       "      <td>105.0</td>\n",
       "      <td>1</td>\n",
       "      <td>1</td>\n",
       "      <td>5.0</td>\n",
       "    </tr>\n",
       "    <tr>\n",
       "      <th>1</th>\n",
       "      <td>10059.0</td>\n",
       "      <td>4.0</td>\n",
       "      <td>2040769.0</td>\n",
       "      <td>1</td>\n",
       "      <td>0.0</td>\n",
       "      <td>2.2</td>\n",
       "      <td>105.0</td>\n",
       "      <td>1</td>\n",
       "      <td>0</td>\n",
       "      <td>0.0</td>\n",
       "    </tr>\n",
       "    <tr>\n",
       "      <th>2</th>\n",
       "      <td>11293.0</td>\n",
       "      <td>10.0</td>\n",
       "      <td>3543081.0</td>\n",
       "      <td>1</td>\n",
       "      <td>0.0</td>\n",
       "      <td>2.2</td>\n",
       "      <td>105.0</td>\n",
       "      <td>1</td>\n",
       "      <td>0</td>\n",
       "      <td>0.0</td>\n",
       "    </tr>\n",
       "    <tr>\n",
       "      <th>3</th>\n",
       "      <td>5460.0</td>\n",
       "      <td>132.0</td>\n",
       "      <td>953033.0</td>\n",
       "      <td>3</td>\n",
       "      <td>81.0</td>\n",
       "      <td>2.2</td>\n",
       "      <td>105.0</td>\n",
       "      <td>1</td>\n",
       "      <td>1</td>\n",
       "      <td>0.0</td>\n",
       "    </tr>\n",
       "    <tr>\n",
       "      <th>4</th>\n",
       "      <td>9926.0</td>\n",
       "      <td>39.0</td>\n",
       "      <td>5799345.0</td>\n",
       "      <td>1</td>\n",
       "      <td>-299.0</td>\n",
       "      <td>2.2</td>\n",
       "      <td>105.0</td>\n",
       "      <td>1</td>\n",
       "      <td>0</td>\n",
       "      <td>0.0</td>\n",
       "    </tr>\n",
       "    <tr>\n",
       "      <th>...</th>\n",
       "      <td>...</td>\n",
       "      <td>...</td>\n",
       "      <td>...</td>\n",
       "      <td>...</td>\n",
       "      <td>...</td>\n",
       "      <td>...</td>\n",
       "      <td>...</td>\n",
       "      <td>...</td>\n",
       "      <td>...</td>\n",
       "      <td>...</td>\n",
       "    </tr>\n",
       "    <tr>\n",
       "      <th>39995</th>\n",
       "      <td>652.0</td>\n",
       "      <td>28.0</td>\n",
       "      <td>3626236.0</td>\n",
       "      <td>2</td>\n",
       "      <td>726.0</td>\n",
       "      <td>0.8</td>\n",
       "      <td>327.0</td>\n",
       "      <td>0</td>\n",
       "      <td>0</td>\n",
       "      <td>3.0</td>\n",
       "    </tr>\n",
       "    <tr>\n",
       "      <th>39996</th>\n",
       "      <td>356.0</td>\n",
       "      <td>201.0</td>\n",
       "      <td>1929643.0</td>\n",
       "      <td>3</td>\n",
       "      <td>137.0</td>\n",
       "      <td>0.8</td>\n",
       "      <td>327.0</td>\n",
       "      <td>0</td>\n",
       "      <td>0</td>\n",
       "      <td>2.0</td>\n",
       "    </tr>\n",
       "    <tr>\n",
       "      <th>39997</th>\n",
       "      <td>284.0</td>\n",
       "      <td>340.0</td>\n",
       "      <td>1098691.0</td>\n",
       "      <td>5</td>\n",
       "      <td>58.0</td>\n",
       "      <td>0.8</td>\n",
       "      <td>327.0</td>\n",
       "      <td>0</td>\n",
       "      <td>0</td>\n",
       "      <td>3.0</td>\n",
       "    </tr>\n",
       "    <tr>\n",
       "      <th>39998</th>\n",
       "      <td>801.0</td>\n",
       "      <td>11.0</td>\n",
       "      <td>3899509.0</td>\n",
       "      <td>1</td>\n",
       "      <td>119.0</td>\n",
       "      <td>0.8</td>\n",
       "      <td>327.0</td>\n",
       "      <td>0</td>\n",
       "      <td>0</td>\n",
       "      <td>0.0</td>\n",
       "    </tr>\n",
       "    <tr>\n",
       "      <th>39999</th>\n",
       "      <td>954.0</td>\n",
       "      <td>11.0</td>\n",
       "      <td>10810513.0</td>\n",
       "      <td>1</td>\n",
       "      <td>15.0</td>\n",
       "      <td>0.8</td>\n",
       "      <td>327.0</td>\n",
       "      <td>0</td>\n",
       "      <td>0</td>\n",
       "      <td>0.0</td>\n",
       "    </tr>\n",
       "  </tbody>\n",
       "</table>\n",
       "<p>40000 rows × 10 columns</p>\n",
       "</div>"
      ],
      "text/plain": [
       "       Ranking  Number of Reviews       ID_TA  Cuisine Count  dif_day  \\\n",
       "0       5570.0              194.0   1912643.0              3     41.0   \n",
       "1      10059.0                4.0   2040769.0              1      0.0   \n",
       "2      11293.0               10.0   3543081.0              1      0.0   \n",
       "3       5460.0              132.0    953033.0              3     81.0   \n",
       "4       9926.0               39.0   5799345.0              1   -299.0   \n",
       "...        ...                ...         ...            ...      ...   \n",
       "39995    652.0               28.0   3626236.0              2    726.0   \n",
       "39996    356.0              201.0   1929643.0              3    137.0   \n",
       "39997    284.0              340.0   1098691.0              5     58.0   \n",
       "39998    801.0               11.0   3899509.0              1    119.0   \n",
       "39999    954.0               11.0  10810513.0              1     15.0   \n",
       "\n",
       "       city_pop  city_val  is_capital  rub_range  meals_count  \n",
       "0           2.2     105.0           1          1          5.0  \n",
       "1           2.2     105.0           1          0          0.0  \n",
       "2           2.2     105.0           1          0          0.0  \n",
       "3           2.2     105.0           1          1          0.0  \n",
       "4           2.2     105.0           1          0          0.0  \n",
       "...         ...       ...         ...        ...          ...  \n",
       "39995       0.8     327.0           0          0          3.0  \n",
       "39996       0.8     327.0           0          0          2.0  \n",
       "39997       0.8     327.0           0          0          3.0  \n",
       "39998       0.8     327.0           0          0          0.0  \n",
       "39999       0.8     327.0           0          0          0.0  \n",
       "\n",
       "[40000 rows x 10 columns]"
      ]
     },
     "execution_count": 72,
     "metadata": {},
     "output_type": "execute_result"
    }
   ],
   "source": [
    "pd.set_option('display.max_columns', None)\n",
    "X"
   ]
  },
  {
   "cell_type": "code",
   "execution_count": 22,
   "metadata": {
    "ExecuteTime": {
     "end_time": "2021-03-18T11:29:51.936269Z",
     "start_time": "2021-03-18T11:29:51.890281Z"
    }
   },
   "outputs": [],
   "source": [
    "# Загружаем специальный инструмент для разбивки:\n",
    "from sklearn.model_selection import train_test_split"
   ]
  },
  {
   "cell_type": "code",
   "execution_count": 73,
   "metadata": {
    "ExecuteTime": {
     "end_time": "2021-03-18T11:45:40.149496Z",
     "start_time": "2021-03-18T11:45:40.138486Z"
    }
   },
   "outputs": [],
   "source": [
    "# Наборы данных с меткой \"train\" будут использоваться для обучения модели, \"test\" - для тестирования.\n",
    "# Для тестирования мы будем использовать 25% от исходного датасета.\n",
    "X_train, X_test, y_train, y_test = train_test_split(X, y, test_size=0.25)"
   ]
  },
  {
   "cell_type": "markdown",
   "metadata": {},
   "source": [
    "# Создаём, обучаем и тестируем модель"
   ]
  },
  {
   "cell_type": "code",
   "execution_count": 24,
   "metadata": {
    "ExecuteTime": {
     "end_time": "2021-03-18T11:29:52.094308Z",
     "start_time": "2021-03-18T11:29:51.969279Z"
    }
   },
   "outputs": [],
   "source": [
    "# Импортируем необходимые библиотеки:\n",
    "from sklearn.ensemble import RandomForestRegressor # инструмент для создания и обучения модели\n",
    "from sklearn import metrics # инструменты для оценки точности модели"
   ]
  },
  {
   "cell_type": "code",
   "execution_count": 74,
   "metadata": {
    "ExecuteTime": {
     "end_time": "2021-03-18T11:45:50.771376Z",
     "start_time": "2021-03-18T11:45:41.498971Z"
    }
   },
   "outputs": [],
   "source": [
    "# Создаём модель\n",
    "regr = RandomForestRegressor(n_estimators=100)\n",
    "\n",
    "# Обучаем модель на тестовом наборе данных\n",
    "regr.fit(X_train, y_train)\n",
    "\n",
    "# Используем обученную модель для предсказания рейтинга ресторанов в тестовой выборке.\n",
    "# Предсказанные значения записываем в переменную y_pred\n",
    "y_pred = regr.predict(X_test)"
   ]
  },
  {
   "cell_type": "code",
   "execution_count": 75,
   "metadata": {
    "ExecuteTime": {
     "end_time": "2021-03-18T11:45:50.897406Z",
     "start_time": "2021-03-18T11:45:50.772378Z"
    }
   },
   "outputs": [
    {
     "data": {
      "text/plain": [
       "<matplotlib.axes._subplots.AxesSubplot at 0x1c85ace7f10>"
      ]
     },
     "execution_count": 75,
     "metadata": {},
     "output_type": "execute_result"
    },
    {
     "data": {
      "image/png": "[encoded data removed]",
      "text/plain": [
       "<Figure size 720x720 with 1 Axes>"
      ]
     },
     "metadata": {
      "needs_background": "light"
     },
     "output_type": "display_data"
    }
   ],
   "source": [
    "plt.rcParams['figure.figsize'] = (10,10)\n",
    "feat_importances = pd.Series(regr.feature_importances_, index=X.columns)\n",
    "feat_importances.nlargest(30).plot(kind='barh')"
   ]
  },
  {
   "cell_type": "code",
   "execution_count": 76,
   "metadata": {
    "ExecuteTime": {
     "end_time": "2021-03-18T11:45:50.913410Z",
     "start_time": "2021-03-18T11:45:50.898406Z"
    }
   },
   "outputs": [
    {
     "name": "stdout",
     "output_type": "stream",
     "text": [
      "MAE: 0.2167\n"
     ]
    }
   ],
   "source": [
    "# Сравниваем предсказанные значения (y_pred) с реальными (y_test), и смотрим насколько они в среднем отличаются\n",
    "# Метрика называется Mean Absolute Error (MAE) и показывает среднее отклонение предсказанных значений от фактических.\n",
    "print('MAE:', round(metrics.mean_absolute_error(y_test, y_pred),5))\n",
    "\n",
    "#0.38\n",
    "#0.211\n",
    "# 0.20952\n",
    "# 0.21045\n",
    "#0.21091\n",
    "#0.21644"
   ]
  },
  {
   "cell_type": "code",
   "execution_count": 29,
   "metadata": {
    "ExecuteTime": {
     "end_time": "2021-03-18T11:30:11.206159Z",
     "start_time": "2021-03-18T11:30:10.795391Z"
    }
   },
   "outputs": [],
   "source": [
    "import requests\n",
    "def send_telegram(text: str):\n",
    "    token = \"1509182364:AAF-1pY7y0cNg3tFncBcPTK0gpL_vhbJYyE\"\n",
    "    url = \"https://api.telegram.org/bot\"\n",
    "    channel_id = \"-1001443232386\"\n",
    "    method = url + token + \"/sendMessage\"\n",
    "\n",
    "    r = requests.get(method, data={\n",
    "         'chat_id': channel_id,\n",
    "         'text': text\n",
    "    })\n",
    "    if r.status_code != 200:\n",
    "        raise Exception(\"post_text error\")\n",
    "\n",
    "\n",
    "send_telegram('Всё готово!')"
   ]
  }
 ],
 "metadata": {
  "kernelspec": {
   "display_name": "Python 3",
   "language": "python",
   "name": "python3"
  },
  "language_info": {
   "codemirror_mode": {
    "name": "ipython",
    "version": 3
   },
   "file_extension": ".py",
   "mimetype": "text/x-python",
   "name": "python",
   "nbconvert_exporter": "python",
   "pygments_lexer": "ipython3",
   "version": "3.8.3"
  }
 },
 "nbformat": 4,
 "nbformat_minor": 2
}
