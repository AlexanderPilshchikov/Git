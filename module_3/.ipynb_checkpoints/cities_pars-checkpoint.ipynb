{
 "cells": [
  {
   "cell_type": "code",
   "execution_count": 8,
   "metadata": {
    "ExecuteTime": {
     "end_time": "2021-03-17T12:13:44.735629Z",
     "start_time": "2021-03-17T12:13:44.698629Z"
    }
   },
   "outputs": [],
   "source": [
    "import pandas as pd\n",
    "from selenium import webdriver\n",
    "from selenium.webdriver.common.keys import Keys\n",
    "import time\n",
    "import csv\n",
    "from tqdm import tqdm"
   ]
  },
  {
   "cell_type": "code",
   "execution_count": 11,
   "metadata": {
    "ExecuteTime": {
     "end_time": "2021-03-12T15:40:06.589308Z",
     "start_time": "2021-03-12T15:40:06.411663Z"
    }
   },
   "outputs": [],
   "source": [
    "df = pd.read_csv('main_task.csv')\n",
    "df.loc[df['City'] == 'Oporto', 'City'] = 'Porto'\n",
    "cities = df.City.unique()"
   ]
  },
  {
   "cell_type": "code",
   "execution_count": 6,
   "metadata": {
    "ExecuteTime": {
     "end_time": "2021-03-11T12:40:27.618647Z",
     "start_time": "2021-03-11T12:39:41.664464Z"
    }
   },
   "outputs": [],
   "source": [
    "options = webdriver.ChromeOptions()\n",
    "options.add_argument('headless')\n",
    "browser = webdriver.Chrome(options=options)\n",
    "\n",
    "cities_pars = []\n",
    "\n",
    "for city in cities:\n",
    "    browser.get('https://yandex.com/maps/')\n",
    "    assert 'Yandex' in browser.title\n",
    "\n",
    "    elem = browser.find_element_by_class_name(\n",
    "            'input__control')  # Find the search box\n",
    "    try:\n",
    "        elem.send_keys(city + Keys.RETURN)\n",
    "        time.sleep(0.5)\n",
    "        cities_pars.append({'City': city,\n",
    "                            'country': browser.find_element_by_xpath('/html/body/div[1]/div[2]/div[4]/div[1]/div[1]/div[1]/div/div[1]/div/div[5]/div[3]/div/div[3]/div/a[2]').get_attribute('title'),\n",
    "                            'city_coord': browser.find_element_by_class_name(\n",
    "                                        'toponym-card-title-view__coords-badge').text.split(sep=', ')})\n",
    "    except:\n",
    "        browser.get('https://yandex.com/maps/')\n",
    "        elem = browser.find_element_by_class_name('input__control')\n",
    "        elem.send_keys('City ' + city + Keys.RETURN)\n",
    "        time.sleep(0.5)\n",
    "        cities_pars.append({'City': city,\n",
    "                            'country': browser.find_element_by_xpath('/html/body/div[1]/div[2]/div[4]/div[1]/div[1]/div[1]/div/div[1]/div/div[5]/div[3]/div/div[3]/div/a[2]').get_attribute('title'),\n",
    "                            'city_coord': browser.find_element_by_class_name(\n",
    "                                        'toponym-card-title-view__coords-badge').text.split(', ')})\n",
    "browser.quit()"
   ]
  },
  {
   "cell_type": "code",
   "execution_count": 30,
   "metadata": {
    "ExecuteTime": {
     "end_time": "2021-03-17T12:27:26.215045Z",
     "start_time": "2021-03-17T12:27:21.127459Z"
    }
   },
   "outputs": [
    {
     "name": "stderr",
     "output_type": "stream",
     "text": [
      "100%|████████████████████████████████████████████████████████████████████████████████████| 4/4 [00:03<00:00,  1.10it/s]\n"
     ]
    }
   ],
   "source": [
    "options = webdriver.ChromeOptions()\n",
    "options.add_argument('headless')\n",
    "browser = webdriver.Chrome(options=options)\n",
    "# //*[@id=\"mw-content-text\"]/div[1]/table[2]/tbody/tr[1]/td[1]/a\n",
    "# //*[@id=\"mw-content-text\"]/div[1]/table[2]/tbody/tr[256]/td[1]/a\n",
    "capitals = []\n",
    "# xpath = ('//*[@id=\"mw-content-text\"]/div[1]/table[2]/tbody/tr[1]/td[1]/a')\n",
    "for i in tqdm(range(1, 257)):\n",
    "    browser.get('https://en.wikipedia.org/wiki/List_of_national_capitals')\n",
    "    time.sleep(0.5)\n",
    "    capitals.append(browser.find_element_by_xpath(\n",
    "        f'//*[@id=\"mw-content-text\"]/div[1]/table[2]/tbody/tr[{i}]/td[1]/a').get_attribute('title'),)\n",
    "    \n",
    "text = str()\n",
    "count = 0\n",
    "\n",
    "for i in capitals:\n",
    "    count+=1\n",
    "    text += f'{count}: {i} \\n'\n",
    "        \n",
    "send_telegram(text)"
   ]
  },
  {
   "cell_type": "code",
   "execution_count": 29,
   "metadata": {
    "ExecuteTime": {
     "end_time": "2021-03-17T12:27:12.767808Z",
     "start_time": "2021-03-17T12:27:12.757813Z"
    }
   },
   "outputs": [
    {
     "data": {
      "text/plain": [
       "['Abidjan', 'Yamoussoukro', 'Abu Dhabi', 'Abuja']"
      ]
     },
     "execution_count": 29,
     "metadata": {},
     "output_type": "execute_result"
    }
   ],
   "source": [
    "capitals"
   ]
  },
  {
   "cell_type": "code",
   "execution_count": 13,
   "metadata": {
    "ExecuteTime": {
     "end_time": "2021-03-17T12:18:40.871410Z",
     "start_time": "2021-03-17T12:18:34.345745Z"
    }
   },
   "outputs": [],
   "source": [
    "import requests\n",
    "def send_telegram(text: str):\n",
    "    token = \"1509182364:AAF-1pY7y0cNg3tFncBcPTK0gpL_vhbJYyE\"\n",
    "    url = \"https://api.telegram.org/bot\"\n",
    "    channel_id = \"-1001443232386\"\n",
    "    method = url + token + \"/sendMessage\"\n",
    "\n",
    "    r = requests.get(method, data={\n",
    "         'chat_id': channel_id,\n",
    "         'text': text\n",
    "    })\n",
    "    if r.status_code != 200:\n",
    "        raise Exception(\"post_text error\")\n",
    "\n",
    "if __name__ == '__main__':\n",
    "    send_telegram('Всё готово!')"
   ]
  },
  {
   "cell_type": "code",
   "execution_count": 27,
   "metadata": {
    "ExecuteTime": {
     "end_time": "2021-03-17T12:25:57.050989Z",
     "start_time": "2021-03-17T12:25:56.758593Z"
    }
   },
   "outputs": [],
   "source": [
    "import requests\n",
    "def send_telegram(text: str):\n",
    "    token = \"1509182364:AAF-1pY7y0cNg3tFncBcPTK0gpL_vhbJYyE\"\n",
    "    url = \"https://api.telegram.org/bot\"\n",
    "    channel_id = \"-1001443232386\"\n",
    "    method = url + token + \"/sendMessage\"\n",
    "\n",
    "    r = requests.get(method, data={\n",
    "         'chat_id': channel_id,\n",
    "         'text': text\n",
    "    })\n",
    "    if r.status_code != 200:\n",
    "        raise Exception(\"post_text error\")\n",
    "\n",
    "text = str()\n",
    "count = 0\n",
    "\n",
    "for i in capitals:\n",
    "    count+=1\n",
    "    text += f'{count}: {i} \\n'\n",
    "        \n",
    "if __name__ == '__main__':\n",
    "    send_telegram(text)"
   ]
  },
  {
   "cell_type": "code",
   "execution_count": 7,
   "metadata": {
    "ExecuteTime": {
     "end_time": "2021-03-11T12:40:40.812733Z",
     "start_time": "2021-03-11T12:40:40.796235Z"
    },
    "scrolled": true
   },
   "outputs": [],
   "source": [
    "data_cities = pd.DataFrame(cities_pars)\n",
    "data_cities.city_coord = data_cities.city_coord.apply(lambda x: [float(x[0]), float(x[1])])\n",
    "data_cities.to_csv('cities.csv', index = False)"
   ]
  },
  {
   "cell_type": "code",
   "execution_count": 4,
   "metadata": {
    "ExecuteTime": {
     "end_time": "2021-03-17T06:27:18.378910Z",
     "start_time": "2021-03-17T06:27:18.346902Z"
    }
   },
   "outputs": [
    {
     "data": {
      "text/html": [
       "<div>\n",
       "<style scoped>\n",
       "    .dataframe tbody tr th:only-of-type {\n",
       "        vertical-align: middle;\n",
       "    }\n",
       "\n",
       "    .dataframe tbody tr th {\n",
       "        vertical-align: top;\n",
       "    }\n",
       "\n",
       "    .dataframe thead th {\n",
       "        text-align: right;\n",
       "    }\n",
       "</style>\n",
       "<table border=\"1\" class=\"dataframe\">\n",
       "  <thead>\n",
       "    <tr style=\"text-align: right;\">\n",
       "      <th></th>\n",
       "      <th>City</th>\n",
       "      <th>country</th>\n",
       "      <th>city_coord</th>\n",
       "    </tr>\n",
       "  </thead>\n",
       "  <tbody>\n",
       "    <tr>\n",
       "      <th>0</th>\n",
       "      <td>Paris</td>\n",
       "      <td>France</td>\n",
       "      <td>[48.856663, 2.351556]</td>\n",
       "    </tr>\n",
       "    <tr>\n",
       "      <th>1</th>\n",
       "      <td>Stockholm</td>\n",
       "      <td>Sweden</td>\n",
       "      <td>[59.325, 18.070897]</td>\n",
       "    </tr>\n",
       "    <tr>\n",
       "      <th>2</th>\n",
       "      <td>London</td>\n",
       "      <td>United Kingdom</td>\n",
       "      <td>[51.507351, -0.12766]</td>\n",
       "    </tr>\n",
       "    <tr>\n",
       "      <th>3</th>\n",
       "      <td>Berlin</td>\n",
       "      <td>Germany</td>\n",
       "      <td>[52.518654, 13.374711]</td>\n",
       "    </tr>\n",
       "    <tr>\n",
       "      <th>4</th>\n",
       "      <td>Munich</td>\n",
       "      <td>Germany</td>\n",
       "      <td>[48.137187, 11.575691]</td>\n",
       "    </tr>\n",
       "    <tr>\n",
       "      <th>5</th>\n",
       "      <td>Porto</td>\n",
       "      <td>Portugal</td>\n",
       "      <td>[41.157963, -8.629154]</td>\n",
       "    </tr>\n",
       "    <tr>\n",
       "      <th>6</th>\n",
       "      <td>Milan</td>\n",
       "      <td>Italy</td>\n",
       "      <td>[45.469436, 9.180621]</td>\n",
       "    </tr>\n",
       "    <tr>\n",
       "      <th>7</th>\n",
       "      <td>Bratislava</td>\n",
       "      <td>Slovakia</td>\n",
       "      <td>[48.143488, 17.108361]</td>\n",
       "    </tr>\n",
       "    <tr>\n",
       "      <th>8</th>\n",
       "      <td>Vienna</td>\n",
       "      <td>Austria</td>\n",
       "      <td>[48.206481, 16.363451]</td>\n",
       "    </tr>\n",
       "    <tr>\n",
       "      <th>9</th>\n",
       "      <td>Rome</td>\n",
       "      <td>Italy</td>\n",
       "      <td>[41.902689, 12.496176]</td>\n",
       "    </tr>\n",
       "    <tr>\n",
       "      <th>10</th>\n",
       "      <td>Barcelona</td>\n",
       "      <td>Spain</td>\n",
       "      <td>[41.392696, 2.144449]</td>\n",
       "    </tr>\n",
       "    <tr>\n",
       "      <th>11</th>\n",
       "      <td>Madrid</td>\n",
       "      <td>Spain</td>\n",
       "      <td>[40.419348, -3.700897]</td>\n",
       "    </tr>\n",
       "    <tr>\n",
       "      <th>12</th>\n",
       "      <td>Dublin</td>\n",
       "      <td>Ireland</td>\n",
       "      <td>[53.340258, -6.252831]</td>\n",
       "    </tr>\n",
       "    <tr>\n",
       "      <th>13</th>\n",
       "      <td>Brussels</td>\n",
       "      <td>Belgium</td>\n",
       "      <td>[50.846697, 4.352535]</td>\n",
       "    </tr>\n",
       "    <tr>\n",
       "      <th>14</th>\n",
       "      <td>Zurich</td>\n",
       "      <td>Switzerland</td>\n",
       "      <td>[47.386966, 8.534139]</td>\n",
       "    </tr>\n",
       "    <tr>\n",
       "      <th>15</th>\n",
       "      <td>Warsaw</td>\n",
       "      <td>Poland</td>\n",
       "      <td>[52.23209, 21.007139]</td>\n",
       "    </tr>\n",
       "    <tr>\n",
       "      <th>16</th>\n",
       "      <td>Budapest</td>\n",
       "      <td>Hungary</td>\n",
       "      <td>[47.492647, 19.051399]</td>\n",
       "    </tr>\n",
       "    <tr>\n",
       "      <th>17</th>\n",
       "      <td>Copenhagen</td>\n",
       "      <td>Denmark</td>\n",
       "      <td>[55.680661, 12.585828]</td>\n",
       "    </tr>\n",
       "    <tr>\n",
       "      <th>18</th>\n",
       "      <td>Amsterdam</td>\n",
       "      <td>Netherlands</td>\n",
       "      <td>[52.373057, 4.892557]</td>\n",
       "    </tr>\n",
       "    <tr>\n",
       "      <th>19</th>\n",
       "      <td>Lyon</td>\n",
       "      <td>France</td>\n",
       "      <td>[45.760199, 4.837715]</td>\n",
       "    </tr>\n",
       "    <tr>\n",
       "      <th>20</th>\n",
       "      <td>Hamburg</td>\n",
       "      <td>Germany</td>\n",
       "      <td>[53.550682, 9.992895]</td>\n",
       "    </tr>\n",
       "    <tr>\n",
       "      <th>21</th>\n",
       "      <td>Lisbon</td>\n",
       "      <td>Portugal</td>\n",
       "      <td>[38.716174, -9.141589]</td>\n",
       "    </tr>\n",
       "    <tr>\n",
       "      <th>22</th>\n",
       "      <td>Prague</td>\n",
       "      <td>Czech Republic</td>\n",
       "      <td>[50.080293, 14.428983]</td>\n",
       "    </tr>\n",
       "    <tr>\n",
       "      <th>23</th>\n",
       "      <td>Oslo</td>\n",
       "      <td>Norway</td>\n",
       "      <td>[59.912752, 10.734365]</td>\n",
       "    </tr>\n",
       "    <tr>\n",
       "      <th>24</th>\n",
       "      <td>Helsinki</td>\n",
       "      <td>Finland</td>\n",
       "      <td>[60.166892, 24.943673]</td>\n",
       "    </tr>\n",
       "    <tr>\n",
       "      <th>25</th>\n",
       "      <td>Edinburgh</td>\n",
       "      <td>United Kingdom</td>\n",
       "      <td>[55.951814, -3.207641]</td>\n",
       "    </tr>\n",
       "    <tr>\n",
       "      <th>26</th>\n",
       "      <td>Geneva</td>\n",
       "      <td>Switzerland</td>\n",
       "      <td>[46.203548, 6.140003]</td>\n",
       "    </tr>\n",
       "    <tr>\n",
       "      <th>27</th>\n",
       "      <td>Ljubljana</td>\n",
       "      <td>Slovenia</td>\n",
       "      <td>[46.058357, 14.520009]</td>\n",
       "    </tr>\n",
       "    <tr>\n",
       "      <th>28</th>\n",
       "      <td>Athens</td>\n",
       "      <td>Greece</td>\n",
       "      <td>[37.975527, 23.734855]</td>\n",
       "    </tr>\n",
       "    <tr>\n",
       "      <th>29</th>\n",
       "      <td>Luxembourg</td>\n",
       "      <td>Luxembourg</td>\n",
       "      <td>[49.61142, 6.119476]</td>\n",
       "    </tr>\n",
       "    <tr>\n",
       "      <th>30</th>\n",
       "      <td>Krakow</td>\n",
       "      <td>Poland</td>\n",
       "      <td>[50.061971, 19.936742]</td>\n",
       "    </tr>\n",
       "  </tbody>\n",
       "</table>\n",
       "</div>"
      ],
      "text/plain": [
       "          City         country              city_coord\n",
       "0        Paris          France   [48.856663, 2.351556]\n",
       "1    Stockholm          Sweden     [59.325, 18.070897]\n",
       "2       London  United Kingdom   [51.507351, -0.12766]\n",
       "3       Berlin         Germany  [52.518654, 13.374711]\n",
       "4       Munich         Germany  [48.137187, 11.575691]\n",
       "5        Porto        Portugal  [41.157963, -8.629154]\n",
       "6        Milan           Italy   [45.469436, 9.180621]\n",
       "7   Bratislava        Slovakia  [48.143488, 17.108361]\n",
       "8       Vienna         Austria  [48.206481, 16.363451]\n",
       "9         Rome           Italy  [41.902689, 12.496176]\n",
       "10   Barcelona           Spain   [41.392696, 2.144449]\n",
       "11      Madrid           Spain  [40.419348, -3.700897]\n",
       "12      Dublin         Ireland  [53.340258, -6.252831]\n",
       "13    Brussels         Belgium   [50.846697, 4.352535]\n",
       "14      Zurich     Switzerland   [47.386966, 8.534139]\n",
       "15      Warsaw          Poland   [52.23209, 21.007139]\n",
       "16    Budapest         Hungary  [47.492647, 19.051399]\n",
       "17  Copenhagen         Denmark  [55.680661, 12.585828]\n",
       "18   Amsterdam     Netherlands   [52.373057, 4.892557]\n",
       "19        Lyon          France   [45.760199, 4.837715]\n",
       "20     Hamburg         Germany   [53.550682, 9.992895]\n",
       "21      Lisbon        Portugal  [38.716174, -9.141589]\n",
       "22      Prague  Czech Republic  [50.080293, 14.428983]\n",
       "23        Oslo          Norway  [59.912752, 10.734365]\n",
       "24    Helsinki         Finland  [60.166892, 24.943673]\n",
       "25   Edinburgh  United Kingdom  [55.951814, -3.207641]\n",
       "26      Geneva     Switzerland   [46.203548, 6.140003]\n",
       "27   Ljubljana        Slovenia  [46.058357, 14.520009]\n",
       "28      Athens          Greece  [37.975527, 23.734855]\n",
       "29  Luxembourg      Luxembourg    [49.61142, 6.119476]\n",
       "30      Krakow          Poland  [50.061971, 19.936742]"
      ]
     },
     "execution_count": 4,
     "metadata": {},
     "output_type": "execute_result"
    }
   ],
   "source": [
    "data = pd.read_csv('cities.csv')\n",
    "data"
   ]
  },
  {
   "cell_type": "code",
   "execution_count": 5,
   "metadata": {
    "ExecuteTime": {
     "end_time": "2021-03-17T06:27:20.250006Z",
     "start_time": "2021-03-17T06:27:20.237002Z"
    }
   },
   "outputs": [
    {
     "data": {
      "text/plain": [
       "str"
      ]
     },
     "execution_count": 5,
     "metadata": {},
     "output_type": "execute_result"
    }
   ],
   "source": [
    "type(data.city_coord[0][0])"
   ]
  }
 ],
 "metadata": {
  "kernelspec": {
   "display_name": "Python 3",
   "language": "python",
   "name": "python3"
  },
  "language_info": {
   "codemirror_mode": {
    "name": "ipython",
    "version": 3
   },
   "file_extension": ".py",
   "mimetype": "text/x-python",
   "name": "python",
   "nbconvert_exporter": "python",
   "pygments_lexer": "ipython3",
   "version": "3.8.3"
  }
 },
 "nbformat": 4,
 "nbformat_minor": 4
}
