{
 "cells": [
  {
   "cell_type": "code",
   "execution_count": 17,
   "metadata": {},
   "outputs": [],
   "source": [
    "import pandas as pd\n",
    "from selenium import webdriver\n",
    "from selenium.webdriver.common.keys import Keys\n",
    "import time\n",
    "import csv"
   ]
  },
  {
   "cell_type": "code",
   "execution_count": 13,
   "metadata": {
    "scrolled": true
   },
   "outputs": [
    {
     "name": "stderr",
     "output_type": "stream",
     "text": [
      "<ipython-input-13-707d22d2d946>:1: SettingWithCopyWarning: \n",
      "A value is trying to be set on a copy of a slice from a DataFrame\n",
      "\n",
      "See the caveats in the documentation: https://pandas.pydata.org/pandas-docs/stable/user_guide/indexing.html#returning-a-view-versus-a-copy\n",
      "  df['City'][df['City'] == 'Oporto'] = 'Porto'\n"
     ]
    }
   ],
   "source": [
    "df['City'][df['City'] == 'Oporto'] = 'Porto'"
   ]
  },
  {
   "cell_type": "code",
   "execution_count": 14,
   "metadata": {},
   "outputs": [],
   "source": [
    "df = pd.read_csv('main_task.csv')\n",
    "cities = df.City.unique()"
   ]
  },
  {
   "cell_type": "code",
   "execution_count": 21,
   "metadata": {},
   "outputs": [
    {
     "name": "stdout",
     "output_type": "stream",
     "text": [
      "Paris ['48.856663', '2.351556']\n",
      "Stockholm ['59.325000', '18.070897']\n",
      "London ['51.507351', '-0.127660']\n",
      "Berlin ['52.518654', '13.374711']\n",
      "Munich ['48.137187', '11.575691']\n",
      "Oporto ['41.157963', '-8.629154']\n",
      "Milan ['45.469436', '9.180621']\n",
      "Bratislava ['48.143488', '17.108361']\n",
      "Vienna ['48.206481', '16.363451']\n",
      "Rome ['41.902689', '12.496176']\n",
      "Barcelona ['41.392696', '2.144449']\n",
      "Madrid ['40.419348', '-3.700897']\n",
      "Dublin ['53.340258', '-6.252831']\n",
      "Brussels ['50.846697', '4.352535']\n",
      "Zurich ['47.386966', '8.534139']\n",
      "Warsaw ['52.232090', '21.007139']\n",
      "Budapest ['47.492647', '19.051399']\n",
      "Copenhagen ['55.680661', '12.585828']\n",
      "Amsterdam ['52.373057', '4.892557']\n",
      "Lyon ['45.760199', '4.837715']\n",
      "Hamburg ['53.550682', '9.992895']\n",
      "Lisbon ['38.716174', '-9.141589']\n",
      "Prague ['50.080293', '14.428983']\n",
      "Oslo ['59.912752', '10.734365']\n",
      "Helsinki ['60.166892', '24.943673']\n",
      "Edinburgh ['55.951814', '-3.207641']\n",
      "Geneva ['46.203548', '6.140003']\n",
      "Ljubljana ['46.058357', '14.520009']\n",
      "Athens ['37.975527', '23.734855']\n",
      "Luxembourg ['49.610924', '6.123986']\n",
      "Krakow ['50.061971', '19.936742']\n"
     ]
    }
   ],
   "source": [
    "browser = webdriver.Chrome()\n",
    "\n",
    "city_coord = {}\n",
    "\n",
    "for city in cities:\n",
    "    browser.get('https://yandex.com/maps/')\n",
    "    elem = browser.find_element_by_class_name(\n",
    "        'input__control')  # Find the search box\n",
    "    try:\n",
    "        elem.send_keys(city + Keys.RETURN)\n",
    "        time.sleep(0.5)\n",
    "        city_coord[city] = browser.find_element_by_class_name(\n",
    "            'toponym-card-title-view__coords-badge').text.split(sep=', ')\n",
    "    except:\n",
    "        browser.get('https://yandex.com/maps/')\n",
    "        elem = browser.find_element_by_class_name('input__control')\n",
    "        elem.send_keys('City ' + city + Keys.RETURN)\n",
    "        time.sleep(0.5)\n",
    "        city_coord[city] = browser.find_element_by_class_name(\n",
    "            'toponym-card-title-view__coords-badge').text.split(sep=', ')\n",
    "    print(city, city_coord[city])\n",
    "\n",
    "browser.quit()"
   ]
  },
  {
   "cell_type": "code",
   "execution_count": 20,
   "metadata": {},
   "outputs": [],
   "source": [
    "with open('center_city.csv', 'w') as f: \n",
    "    for key in city_coord.keys(): \n",
    "        f.write(\"%s,%s\\n\"%(key,city_coord[key]))"
   ]
  }
 ],
 "metadata": {
  "kernelspec": {
   "display_name": "Python 3",
   "language": "python",
   "name": "python3"
  },
  "language_info": {
   "codemirror_mode": {
    "name": "ipython",
    "version": 3
   },
   "file_extension": ".py",
   "mimetype": "text/x-python",
   "name": "python",
   "nbconvert_exporter": "python",
   "pygments_lexer": "ipython3",
   "version": "3.8.3"
  }
 },
 "nbformat": 4,
 "nbformat_minor": 4
}
