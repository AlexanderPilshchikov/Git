{
 "cells": [
  {
   "cell_type": "code",
   "execution_count": 1,
   "metadata": {},
   "outputs": [],
   "source": [
    "import pandas as pd\n",
    "from selenium import webdriver\n",
    "from selenium.webdriver.common.keys import Keys\n",
    "import time\n",
    "import csv"
   ]
  },
  {
   "cell_type": "code",
   "execution_count": 3,
   "metadata": {
    "scrolled": true
   },
   "outputs": [
    {
     "name": "stderr",
     "output_type": "stream",
     "text": [
      "<ipython-input-3-7839e58b2a76>:2: SettingWithCopyWarning: \n",
      "A value is trying to be set on a copy of a slice from a DataFrame\n",
      "\n",
      "See the caveats in the documentation: https://pandas.pydata.org/pandas-docs/stable/user_guide/indexing.html#returning-a-view-versus-a-copy\n",
      "  df['City'][df['City'] == 'Oporto'] = 'Porto'\n"
     ]
    }
   ],
   "source": [
    "df = pd.read_csv('main_task.csv')\n",
    "df['City'][df['City'] == 'Oporto'] = 'Porto'"
   ]
  },
  {
   "cell_type": "code",
   "execution_count": 4,
   "metadata": {},
   "outputs": [],
   "source": [
    "cities = df.City.unique()"
   ]
  },
  {
   "cell_type": "code",
   "execution_count": null,
   "metadata": {},
   "outputs": [],
   "source": [
    "browser = webdriver.Chrome()\n",
    "\n",
    "# city_coord = {}\n",
    "\n",
    "# for city in cities:\n",
    "#     browser.get('https://yandex.com/maps/')\n",
    "#     elem = browser.find_element_by_class_name(\n",
    "#         'input__control')  # Find the search box\n",
    "#     try:\n",
    "#         elem.send_keys(city + Keys.RETURN)\n",
    "#         time.sleep(0.5)\n",
    "#         city_coord[city] = browser.find_element_by_class_name(\n",
    "#             'toponym-card-title-view__coords-badge').text.split(sep=', ')\n",
    "#     except:\n",
    "#         browser.get('https://yandex.com/maps/')\n",
    "#         elem = browser.find_element_by_class_name('input__control')\n",
    "#         elem.send_keys('City ' + city + Keys.RETURN)\n",
    "#         time.sleep(0.5)\n",
    "#         city_coord[city] = browser.find_element_by_class_name(\n",
    "#             'toponym-card-title-view__coords-badge').text.split(sep=', ')\n",
    "#     print(city, city_coord[city])\n",
    "\n",
    "# browser.quit()"
   ]
  },
  {
   "cell_type": "code",
   "execution_count": null,
   "metadata": {},
   "outputs": [],
   "source": [
    "city_country = {}\n",
    "\n",
    "browser.get('https://yandex.com/maps/')\n",
    "elem = browser.find_element_by_class_name(\n",
    "    'input__control')\n",
    "\n",
    "elem.send_keys(city + Keys.RETURN)\n",
    "time.sleep(0.5)\n",
    "city_coord[city] = browser.find_element_by_class_name(\n",
    "    'toponym-card-title-view__coords-badge').text.split(sep=', ')"
   ]
  }
 ],
 "metadata": {
  "kernelspec": {
   "display_name": "Python 3",
   "language": "python",
   "name": "python3"
  },
  "language_info": {
   "codemirror_mode": {
    "name": "ipython",
    "version": 3
   },
   "file_extension": ".py",
   "mimetype": "text/x-python",
   "name": "python",
   "nbconvert_exporter": "python",
   "pygments_lexer": "ipython3",
   "version": "3.8.3"
  }
 },
 "nbformat": 4,
 "nbformat_minor": 4
}
